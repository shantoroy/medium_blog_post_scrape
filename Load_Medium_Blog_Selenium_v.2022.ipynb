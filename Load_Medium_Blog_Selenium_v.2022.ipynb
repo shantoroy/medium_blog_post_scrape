{
 "cells": [
  {
   "cell_type": "markdown",
   "metadata": {},
   "source": [
    "Adapted code from:\n",
    "### https://stackoverflow.com/questions/52800174/clicking-more-button-via-selenium"
   ]
  },
  {
   "cell_type": "markdown",
   "metadata": {},
   "source": [
    "Checkout My Blog Post for details:\n",
    "### https://shantoroy.com/web%20scrapping/click-button-show-more-on-medium-dot-com-via-selenium/"
   ]
  },
  {
   "cell_type": "code",
   "execution_count": 18,
   "metadata": {},
   "outputs": [
    {
     "name": "stderr",
     "output_type": "stream",
     "text": [
      "/Users/roy/miniconda3/envs/jupyter/lib/python3.6/site-packages/ipykernel_launcher.py:20: DeprecationWarning: use options instead of chrome_options\n"
     ]
    },
    {
     "name": "stdout",
     "output_type": "stream",
     "text": [
      "Button clicked # 2\n",
      "Button clicked # 3\n",
      "Button clicked # 4\n",
      "Button clicked # 5\n"
     ]
    }
   ],
   "source": [
    "import time\n",
    "from selenium import webdriver\n",
    "from selenium.webdriver.common.by import By\n",
    "from selenium.webdriver.support.ui import WebDriverWait\n",
    "from selenium.webdriver.support import expected_conditions as EC\n",
    "from selenium.common.exceptions import TimeoutException\n",
    "\n",
    "\n",
    "options = webdriver.ChromeOptions() \n",
    "options.add_argument(\"start-maximized\")\n",
    "options.add_argument('disable-infobars')\n",
    "driver=webdriver.Chrome(chrome_options=options, executable_path=r'../chromedriver')\n",
    "driver.get(\"https://medium.com/search?q=metamask\")\n",
    "\n",
    "initial_XPATH = \"//*[@id='root']/div/div[3]/div/div/main/div/div/div/div/div[2]/div[9]/div/div/button\"\n",
    "max_click_SHOW_MORE = 5\n",
    "count = 1 \n",
    "\n",
    "WebDriverWait(driver, 100).until(EC.visibility_of_element_located((By.XPATH, initial_XPATH))).click()\n",
    "\n",
    "while count < max_click_SHOW_MORE:\n",
    "    try:\n",
    "        time.sleep(20)\n",
    "        new_XPATH = initial_XPATH[:67] + str(count) + initial_XPATH[67:]\n",
    "        WebDriverWait(driver, 100).until(EC.visibility_of_element_located((By.XPATH, new_XPATH))).click()\n",
    "        print(\"Button clicked #\", count+1)\n",
    "        count += 1\n",
    "    except TimeoutException:\n",
    "        break\n",
    "\n",
    "time.sleep(20)\n",
    "driver.quit()"
   ]
  },
  {
   "cell_type": "code",
   "execution_count": null,
   "metadata": {},
   "outputs": [],
   "source": [
    "<button class=\"cp cq aw ax ay az ba bb bc bd cr cs bg ln lo\">Show more<svg width=\"21\" height=\"21\" viewBox=\"0 0 21 21\"><path d=\"M4 7.33L10.03 14l.5.55.5-.55 5.96-6.6-.98-.9-5.98 6.6h1L4.98 6.45z\" fill-rule=\"evenodd\"></path></svg></button>"
   ]
  },
  {
   "cell_type": "code",
   "execution_count": null,
   "metadata": {},
   "outputs": [],
   "source": [
    "//*[@id=\"root\"]/div/div[3]/div/div/main/div/div/div/div/div[2]/div[9]/div/div/button"
   ]
  },
  {
   "cell_type": "code",
   "execution_count": null,
   "metadata": {},
   "outputs": [],
   "source": [
    "//*[@id=\"root\"]/div/div[3]/div/div/main/div/div/div/div/div[2]/div[19]/div/div/button"
   ]
  },
  {
   "cell_type": "code",
   "execution_count": 20,
   "metadata": {},
   "outputs": [
    {
     "name": "stdout",
     "output_type": "stream",
     "text": [
      "//*[@id='root']/div/div[3]/div/div/main/div/div/div/div/div[2]/div[19]/div/div/button\n",
      "//*[@id='root']/div/div[3]/div/div/main/div/div/div/div/div[2]/div[29]/div/div/button\n",
      "//*[@id='root']/div/div[3]/div/div/main/div/div/div/div/div[2]/div[39]/div/div/button\n",
      "//*[@id='root']/div/div[3]/div/div/main/div/div/div/div/div[2]/div[49]/div/div/button\n",
      "//*[@id='root']/div/div[3]/div/div/main/div/div/div/div/div[2]/div[59]/div/div/button\n",
      "//*[@id='root']/div/div[3]/div/div/main/div/div/div/div/div[2]/div[69]/div/div/button\n",
      "//*[@id='root']/div/div[3]/div/div/main/div/div/div/div/div[2]/div[79]/div/div/button\n",
      "//*[@id='root']/div/div[3]/div/div/main/div/div/div/div/div[2]/div[89]/div/div/button\n",
      "//*[@id='root']/div/div[3]/div/div/main/div/div/div/div/div[2]/div[99]/div/div/button\n",
      "//*[@id='root']/div/div[3]/div/div/main/div/div/div/div/div[2]/div[109]/div/div/button\n",
      "//*[@id='root']/div/div[3]/div/div/main/div/div/div/div/div[2]/div[119]/div/div/button\n",
      "//*[@id='root']/div/div[3]/div/div/main/div/div/div/div/div[2]/div[129]/div/div/button\n",
      "//*[@id='root']/div/div[3]/div/div/main/div/div/div/div/div[2]/div[139]/div/div/button\n",
      "//*[@id='root']/div/div[3]/div/div/main/div/div/div/div/div[2]/div[149]/div/div/button\n"
     ]
    }
   ],
   "source": [
    "count = 1\n",
    "initial_XPATH = \"//*[@id='root']/div/div[3]/div/div/main/div/div/div/div/div[2]/div[9]/div/div/button\"\n",
    "while count < 15:\n",
    "    new_XPATH = initial_XPATH[:67] + str(count) + initial_XPATH[67:]\n",
    "    print(new_XPATH)\n",
    "    count += 1"
   ]
  },
  {
   "cell_type": "code",
   "execution_count": null,
   "metadata": {},
   "outputs": [],
   "source": []
  }
 ],
 "metadata": {
  "kernelspec": {
   "display_name": "Python 3",
   "language": "python",
   "name": "python3"
  },
  "language_info": {
   "codemirror_mode": {
    "name": "ipython",
    "version": 3
   },
   "file_extension": ".py",
   "mimetype": "text/x-python",
   "name": "python",
   "nbconvert_exporter": "python",
   "pygments_lexer": "ipython3",
   "version": "3.6.9"
  }
 },
 "nbformat": 4,
 "nbformat_minor": 2
}
