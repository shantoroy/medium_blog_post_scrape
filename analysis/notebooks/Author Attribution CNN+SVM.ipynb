{
 "cells": [
  {
   "cell_type": "code",
   "execution_count": 1,
   "id": "1499d069",
   "metadata": {},
   "outputs": [],
   "source": [
    "# https://github.com/gkhayes/author_attribution/blob/master/analysis.ipynb"
   ]
  },
  {
   "cell_type": "code",
   "execution_count": 147,
   "id": "f379bb0a",
   "metadata": {},
   "outputs": [],
   "source": [
    "# Import packages\n",
    "import numpy as np\n",
    "import pandas as pd\n",
    "import chardet\n",
    "from collections import Counter\n",
    "import seaborn as sns\n",
    "import matplotlib.pyplot as plt\n",
    "import string\n",
    "import time\n",
    "\n",
    "# Display plots inline\n",
    "%matplotlib inline\n",
    "\n",
    "import nltk\n",
    "from nltk.corpus import stopwords\n",
    "from nltk.stem.porter import PorterStemmer\n",
    "\n",
    "from sklearn.model_selection import train_test_split, KFold\n",
    "from sklearn.preprocessing import MinMaxScaler, MaxAbsScaler\n",
    "from sklearn.feature_extraction.text import CountVectorizer, TfidfVectorizer\n",
    "from sklearn.model_selection import GridSearchCV\n",
    "from sklearn.metrics import accuracy_score, make_scorer, confusion_matrix\n",
    "from sklearn.metrics import precision_recall_fscore_support as score\n",
    "from sklearn.preprocessing import LabelBinarizer\n",
    "from sklearn.svm import SVC\n",
    "\n",
    "from keras.models import Model\n",
    "from keras.layers import Input, Dense, Flatten, Dropout, Embedding\n",
    "from keras.layers.convolutional import Conv1D, MaxPooling1D\n",
    "from keras.layers.merge import concatenate\n",
    "from tensorflow.keras.optimizers import Adam\n",
    "from keras.preprocessing.text import one_hot\n",
    "from keras.callbacks import ModelCheckpoint \n",
    "\n",
    "from scipy import sparse, stats"
   ]
  },
  {
   "cell_type": "code",
   "execution_count": 209,
   "id": "e5e01837",
   "metadata": {},
   "outputs": [
    {
     "name": "stdout",
     "output_type": "stream",
     "text": [
      "                                             content      author_name\n",
      "0  Stephen OrbanFollowJun 2, 2016·4 min readA Hyb...    Stephen Orban\n",
      "1  Leo KyrpychenkoFollowDec 6, 2014·6 min readClo...  Leo Kyrpychenko\n"
     ]
    }
   ],
   "source": [
    "data = pd.read_json(\"../../data/related_data_rm_duplicacy_final.json\")\n",
    "data = data[[\"content\",\"author_name\"]]\n",
    "print(data.head(2))"
   ]
  },
  {
   "cell_type": "code",
   "execution_count": 211,
   "id": "a5023e77",
   "metadata": {},
   "outputs": [
    {
     "data": {
      "text/plain": [
       "13217"
      ]
     },
     "execution_count": 211,
     "metadata": {},
     "output_type": "execute_result"
    }
   ],
   "source": [
    "len(data.author_name.unique())"
   ]
  },
  {
   "cell_type": "code",
   "execution_count": 149,
   "id": "68162d55",
   "metadata": {},
   "outputs": [
    {
     "data": {
      "text/plain": [
       "['Alexis MP',\n",
       " 'Netflix Technology Blog',\n",
       " 'Ethan Siegel',\n",
       " 'Nick Babich',\n",
       " 'Muzli',\n",
       " 'ConsenSys',\n",
       " 'ExtremeTech',\n",
       " 'Carlos E. Perez',\n",
       " 'Bhargav Bachina',\n",
       " 'Adobe Creative Cloud']"
      ]
     },
     "execution_count": 149,
     "metadata": {},
     "output_type": "execute_result"
    }
   ],
   "source": [
    "n = 10\n",
    "top_10_authors = data['author_name'].value_counts()[:n].index.tolist()\n",
    "top_10_authors"
   ]
  },
  {
   "cell_type": "code",
   "execution_count": 150,
   "id": "f378907a",
   "metadata": {},
   "outputs": [
    {
     "data": {
      "text/plain": [
       "(1233, 2)"
      ]
     },
     "execution_count": 150,
     "metadata": {},
     "output_type": "execute_result"
    }
   ],
   "source": [
    "data = data[data['author_name'].isin(top_10_authors)]\n",
    "data.shape"
   ]
  },
  {
   "cell_type": "code",
   "execution_count": 151,
   "id": "32b8930e",
   "metadata": {},
   "outputs": [
    {
     "data": {
      "text/plain": [
       "{'Adobe Creative Cloud',\n",
       " 'Alexis MP',\n",
       " 'Bhargav Bachina',\n",
       " 'Carlos E. Perez',\n",
       " 'ConsenSys',\n",
       " 'Ethan Siegel',\n",
       " 'ExtremeTech',\n",
       " 'Muzli',\n",
       " 'Netflix Technology Blog',\n",
       " 'Nick Babich'}"
      ]
     },
     "execution_count": 151,
     "metadata": {},
     "output_type": "execute_result"
    }
   ],
   "source": [
    "set(data['author_name'].tolist())"
   ]
  },
  {
   "cell_type": "code",
   "execution_count": 152,
   "id": "21641fc0",
   "metadata": {},
   "outputs": [
    {
     "name": "stdout",
     "output_type": "stream",
     "text": [
      "The author dataset contains 1233 datapoints.\n"
     ]
    }
   ],
   "source": [
    "# Create feature (text) and label (author) lists\n",
    "text = list(data['content'].values)\n",
    "author = list(data['author_name'].values)\n",
    "\n",
    "print(\"The author dataset contains {} datapoints.\".format(len(text)))"
   ]
  },
  {
   "cell_type": "code",
   "execution_count": 153,
   "id": "a879b276",
   "metadata": {},
   "outputs": [],
   "source": [
    "# Create word count and character count lists\n",
    "word_count = []\n",
    "char_count = []\n",
    "\n",
    "for i in range(len(text)):\n",
    "    word_count.append(len(text[i].split()))\n",
    "    char_count.append(len(text[i]))\n",
    "\n",
    "# Convert lists to numpy arrays\n",
    "word_count = np.array(word_count)\n",
    "char_count = np.array(char_count)\n",
    "\n",
    "# Calculate average word lengths\n",
    "ave_length = np.array(char_count)/np.array(word_count)"
   ]
  },
  {
   "cell_type": "code",
   "execution_count": 154,
   "id": "2d27f161",
   "metadata": {},
   "outputs": [],
   "source": [
    "def get_stats(var):\n",
    "    \"\"\"Print summary statistics for a variable of interest.\n",
    "    \n",
    "    Args:\n",
    "    var: array. Numpy array containing values for the variable of interest.\n",
    "\n",
    "    Returns:\n",
    "    None\n",
    "    \"\"\"\n",
    "    print(\"Min:\", np.min(var))\n",
    "    print(\"Max:\", np.max(var))\n",
    "    print(\"Mean:\", np.mean(var))\n",
    "    print(\"Median\", np.median(var))\n",
    "    print(\"1st percentile\", np.percentile(var, 1))\n",
    "    print(\"95th percentile\", np.percentile(var, 95))\n",
    "    print(\"99th percentile\", np.percentile(var, 99))\n",
    "    print(\"99.5th Percentile\", np.percentile(var, 99.5))\n",
    "    print(\"99.9th Percentile\", np.percentile(var, 99.9))"
   ]
  },
  {
   "cell_type": "code",
   "execution_count": 155,
   "id": "8d63e196",
   "metadata": {},
   "outputs": [
    {
     "name": "stdout",
     "output_type": "stream",
     "text": [
      "Word count statistics\n",
      "Min: 19\n",
      "Max: 6589\n",
      "Mean: 787.4209245742093\n",
      "Median 484.0\n",
      "1st percentile 61.0\n",
      "95th percentile 2342.3999999999987\n",
      "99th percentile 3506.0800000000004\n",
      "99.5th Percentile 3953.359999999998\n",
      "99.9th Percentile 6419.384000000013\n"
     ]
    }
   ],
   "source": [
    "print(\"Word count statistics\")\n",
    "get_stats(word_count)"
   ]
  },
  {
   "cell_type": "code",
   "execution_count": 156,
   "id": "1c08c1fc",
   "metadata": {},
   "outputs": [
    {
     "name": "stderr",
     "output_type": "stream",
     "text": [
      "/Users/roy/miniconda3/envs/medium_project/lib/python3.8/site-packages/seaborn/distributions.py:2619: FutureWarning: `distplot` is a deprecated function and will be removed in a future version. Please adapt your code to use either `displot` (a figure-level function with similar flexibility) or `histplot` (an axes-level function for histograms).\n",
      "  warnings.warn(msg, FutureWarning)\n",
      "The PostScript backend does not support transparency; partially transparent artists will be rendered opaque.\n"
     ]
    },
    {
     "data": {
      "image/png": "[encoded data removed]",
      "text/plain": [
       "<Figure size 432x288 with 1 Axes>"
      ]
     },
     "metadata": {
      "needs_background": "light"
     },
     "output_type": "display_data"
    }
   ],
   "source": [
    "# Plot word count distribution\n",
    "sns.distplot(word_count, kde = False, bins = 70, color = 'blue').set_title(\"Word Count Distribution\")\n",
    "plt.xlabel('Excerpt Length (Words)')\n",
    "plt.ylabel('Count')\n",
    "plt.xlim(0, 100)\n",
    "plt.savefig(\"word_count.eps\")"
   ]
  },
  {
   "cell_type": "code",
   "execution_count": 157,
   "id": "64fa1929",
   "metadata": {},
   "outputs": [
    {
     "name": "stdout",
     "output_type": "stream",
     "text": [
      "\n",
      "Character count statistics\n",
      "Min: 180\n",
      "Max: 43737\n",
      "Mean: 5113.051905920519\n",
      "Median 3493.0\n",
      "1st percentile 398.0\n",
      "95th percentile 15003.599999999995\n",
      "99th percentile 22844.480000000036\n",
      "99.5th Percentile 26051.35999999988\n",
      "99.9th Percentile 39349.92800000006\n"
     ]
    }
   ],
   "source": [
    "print(\"\\nCharacter count statistics\")\n",
    "get_stats(char_count)"
   ]
  },
  {
   "cell_type": "code",
   "execution_count": 158,
   "id": "73b53035",
   "metadata": {},
   "outputs": [
    {
     "name": "stderr",
     "output_type": "stream",
     "text": [
      "The PostScript backend does not support transparency; partially transparent artists will be rendered opaque.\n"
     ]
    },
    {
     "data": {
      "image/png": "[encoded data removed]",
      "text/plain": [
       "<Figure size 432x288 with 1 Axes>"
      ]
     },
     "metadata": {
      "needs_background": "light"
     },
     "output_type": "display_data"
    }
   ],
   "source": [
    "# Plot character count distribution\n",
    "sns.distplot(char_count, kde = False, bins = 100, color = 'blue').set_title(\"Character Count Distribution\")\n",
    "plt.xlabel('Excerpt Length (Characters)')\n",
    "plt.ylabel('Count')\n",
    "plt.xlim(0, 400)\n",
    "plt.savefig(\"char_count.eps\")"
   ]
  },
  {
   "cell_type": "code",
   "execution_count": 159,
   "id": "9ec770e6",
   "metadata": {},
   "outputs": [
    {
     "name": "stdout",
     "output_type": "stream",
     "text": [
      "\n",
      "Average length statistics\n",
      "Min: 5.382716049382716\n",
      "Max: 18.956521739130434\n",
      "Mean: 6.602283826803138\n",
      "Median 6.512106537530267\n",
      "1st percentile 5.673458646616542\n",
      "95th percentile 7.478504331489406\n",
      "99th percentile 7.802253010372927\n",
      "99.5th Percentile 7.915277896406563\n",
      "99.9th Percentile 9.210892448512618\n"
     ]
    }
   ],
   "source": [
    "print(\"\\nAverage length statistics\")\n",
    "get_stats(ave_length)"
   ]
  },
  {
   "cell_type": "code",
   "execution_count": 160,
   "id": "aa11e264",
   "metadata": {},
   "outputs": [
    {
     "name": "stderr",
     "output_type": "stream",
     "text": [
      "The PostScript backend does not support transparency; partially transparent artists will be rendered opaque.\n"
     ]
    },
    {
     "data": {
      "image/png": "[encoded data removed]",
      "text/plain": [
       "<Figure size 432x288 with 1 Axes>"
      ]
     },
     "metadata": {
      "needs_background": "light"
     },
     "output_type": "display_data"
    }
   ],
   "source": [
    "# Plot average excerpt length distribution\n",
    "sns.distplot(ave_length, kde = False, bins = 70, color = 'blue').set_title(\"Average Word Length Distribution\")\n",
    "plt.xlabel('Average Excerpt Length (Characters)')\n",
    "plt.ylabel('Count')\n",
    "plt.xlim(0, 10)\n",
    "plt.savefig(\"ave_length.eps\")"
   ]
  },
  {
   "cell_type": "code",
   "execution_count": 161,
   "id": "314ab423",
   "metadata": {},
   "outputs": [
    {
     "name": "stdout",
     "output_type": "stream",
     "text": [
      "Counter({' ': 974219, 'e': 627974, 't': 463043, 'a': 406599, 'o': 397824, 'i': 381501, 'n': 360185, 's': 343954, 'r': 316312, 'l': 220487, 'c': 189620, 'h': 188611, 'd': 182423, 'u': 154921, 'm': 131487, 'p': 130313, 'g': 120518, 'f': 104806, 'y': 82994, 'w': 82881, 'b': 80447, 'v': 59515, '.': 52805, ',': 41236, 'k': 38867, 'x': 20119, '’': 11902, '-': 11359, ')': 9945, '(': 9858, ':': 9815, '0': 8962, 'z': 7871, 'q': 7839, '1': 7525, 'j': 7453, '2': 6686, '“': 4799, '”': 4729, '/': 3989, '—': 3856, '3': 2889, '?': 2134, '5': 2071, ']': 2020, '[': 2003, '4': 1938, '8': 1922, '6': 1825, '7': 1809, '9': 1779, '·': 1242, '!': 1225, '\"': 1173, '#': 837, '…': 807, '‘': 727, ';': 705, '=': 673, '%': 536, '_': 520, '&': 472, '|': 367, '>': 348, '+': 341, '<': 295, '$': 260, '–': 220, '{': 215, '}': 212, 'á': 206, '@': 198, 'ó': 181, 'é': 168, \"'\": 137, 'í': 135, '*': 113, '™': 72, '\\u200b': 68, '~': 54, 'λ': 52, 'š': 45, 'ú': 43, 'ñ': 37, '✈': 36, '`': 29, '─': 28, 'ø': 27, '\\u200a': 23, 'ł': 22, 'ン': 22, '\\xa0': 21, 'ň': 20, '𝔢': 18, '¿': 17, '️': 16, '𝜏': 16, 'ç': 16, 'ö': 15, '®': 14, 'ü': 13, 'ć': 13, '⋈': 12, '²': 12, '𝔅': 12, '𝔡': 12, '×': 10, '^': 10, 'の': 10, '\\xad': 10, 'è': 10, '食': 9, 'µ': 9, '💥': 9, 'с': 8, 'č': 8, '\\\\': 7, '\\x80': 7, '├': 7, '└': 7, '°': 7, 'ń': 7, 'カ': 7, 'う': 7, 'ë': 6, '\\x99': 6, '¹': 6, '横': 6, '下': 6, 'だ': 6, 'お': 6, 'で': 6, '縦': 6, '𝔰': 6, '𝔱': 6, '𝔖': 6, '𝔯': 6, '𝔳': 6, '𝔬': 6, '𝔩': 6, '\\uf8ff': 6, '♡': 6, '❤': 5, '́': 5, '│': 5, '✨': 5, '➔': 5, 'プ': 5, '所': 5, '©': 5, '→': 4, '💻': 4, '●': 4, '\\u200d': 4, '⍨': 4, '†': 4, 'ョ': 4, 'に': 4, 'テ': 4, 'ソ': 4, 'も': 4, '左': 4, 'る': 4, 'à': 4, 'ä': 3, '👊': 3, '☕': 3, 'ã': 3, '城': 3, 'す': 3, 'ま': 3, '★': 3, '⅔': 3, '涤': 3, '非': 3, 'ź': 3, 'ð': 2, 'ξ': 2, '⊙': 2, 'â': 2, '🚀': 2, '♀': 2, '🏻': 2, '🤝': 2, '🚣': 2, '∆': 2, '•': 2, 'ï': 2, 'た': 2, 'い': 2, 'そ': 2, 'チ': 2, 'り': 2, '江': 2, '陵': 2, 'ヌ': 2, '刺': 2, '身': 2, 'タ': 2, '現': 2, '在': 2, '位': 2, '置': 2, '右': 2, '嶺': 2, 'ァ': 2, 'π': 2, '🖖': 2, '✪': 2, 'σ': 2, '👑': 2, '🤟': 2, 'ś': 2, '👽': 2, '😍': 2, 'ş': 2, 'ê': 2, '🎞': 2, 'θ': 2, '¯': 2, '∼': 2, 'μ': 1, '͝': 1, 'ˌ': 1, 'ā': 1, 'ə': 1, '»': 1, 'ω': 1, '←': 1, '👇': 1, '\\x93': 1, '🐇': 1, '̂': 1, '💙': 1, '📚': 1, '🛠': 1, '🤷': 1, '🏼': 1, '👵': 1, '📢': 1, '🐱': 1, '📊': 1, '📈': 1, '🤯': 1, '✍': 1, '🐾': 1, '💪': 1, '🌸': 1, '☝': 1, '／': 1, 'ᴧ': 1, '彩': 1, '云': 1, '✌': 1, '⅓': 1, 'î': 1, '太': 1, '孫': 1, 'ん': 1, 'ペ': 1, 'ク': 1, 'を': 1, '連': 1, 'れ': 1, '北': 1, '漢': 1, 'ッ': 1, '山': 1, '登': 1, '行': 1, 'き': 1, '先': 1, 'は': 1, '？': 1, '党': 1, '項': 1, 'ハ': 1, 'じ': 1, 'ょ': 1, '京': 1, '畿': 1, '道': 1, 'キ': 1, 'ギ': 1, 'ド': 1, '（': 1, '唐': 1, '）': 1, '歳': 1, 'わ': 1, 'し': 1, '相': 1, '手': 1, 'っ': 1, 'て': 1, '天': 1, 'と': 1, '地': 1, '隔': 1, 'な': 1, '時': 1, '黄': 1, '草': 1, 'フ': 1, 'リ': 1, '栄': 1, '光': 1, 'ヨ': 1, 'グ': 1, '郡': 1, '≥': 1, '≈': 1, '≤': 1, '‚': 1, '¡': 1, '🏦': 1, '🤘': 1, '🌊': 1, '🇺': 1, '🇸': 1, '岩': 1, '预': 1, '约': 1, '看': 1, '房': 1, '🎸': 1, '🌙': 1, '◑': 1, '⚡': 1, '🙄': 1, '🔥': 1, '🎅': 1, '🏖': 1, 'ɢ': 1, 'ı': 1, 'ʟ': 1, 'ƨ': 1, '🎶': 1, '♘': 1, '✏': 1, '🍃': 1, '🤑': 1, '👏': 1, '！': 1, '－': 1, '灰': 1, '昼': 1, '💯': 1, 'õ': 1, '🚗': 1, '🍉': 1, 'ν': 1, 'ą': 1, '🕶': 1, '🌩': 1, '🔧': 1, '😁': 1, '🧡': 1, 'ù': 1, '📣': 1, '🔊': 1, '🎥': 1, '💖': 1, '💕': 1, '🐤': 1, '🍕': 1, '🗺': 1, '☁': 1, '⛵': 1, '⁸': 1, '👩': 1, '👨': 1, '💎': 1, '🐍': 1, '🏀': 1, 'æ': 1, '\\u202c': 1, '智': 1, '裕': 1, '🕵': 1, '🏽': 1, '🐘': 1, '🎉': 1, '\\u2060': 1, 'ʻ': 1, '🙂': 1, 'ì': 1, 'β': 1, '琴': 1, '棋': 1, '書': 1, '畫': 1, 'ツ': 1, 'ý': 1, 'δ': 1, 'ℚ': 1, '√': 1, '∃': 1})\n",
      "398\n"
     ]
    }
   ],
   "source": [
    "# Create string containing all excerpts in lower case\n",
    "text_string = ''\n",
    "\n",
    "for i in range(len(text)):\n",
    "    text_string += text[i].lower()\n",
    "\n",
    "# Get character frequencies\n",
    "char_cnt = Counter(text_string)\n",
    "print(char_cnt)\n",
    "print(len(char_cnt))\n"
   ]
  },
  {
   "cell_type": "code",
   "execution_count": 162,
   "id": "fccd8289",
   "metadata": {},
   "outputs": [
    {
     "name": "stdout",
     "output_type": "stream",
     "text": [
      "['n', 'e', 't', 'f', 'l', 'i', 'x', ' ', 'c', 'h', 'o', 'g', 'y', 'b', 'w', 'j', 'a', '1', '5', ',', '2', '0', '3', '·', '6', 'm', 'r', 'd', 's', 'v', 'p', 'z', 'u', '.', ':', 'k', '/', '-', 'q', '+', '#', '[', ']', '(', ')', '4', '&', '7', '“', '”', '×', '’', '?', '{', '=', '@', \"'\", '}', '\"', '—', '<', '>', '_', ';', '8', '9', '$', '…', '!', '%', '|', '–', '→', '~', 'μ', '͝', 'ˌ', 'ā', 'ə', '*', '💻', '\\xa0', 'é', '‘', 'ð', 'ξ', '»', '⊙', 'ω', '\\\\', 'ä', 'ü', '←', 'ë', '👇', '\\x80', '\\x99', 'â', '\\x93', '\\u200b', '\\u200a', 'ć', '❤', '️', 'с', '🚀', '🐇', '́', '̂', '●', '💙', '📚', '🛠', '👊', '├', '─', '│', '└', '🤷', '🏼', '\\u200d', '♀', '👵', '🏻', '✨', '🤝', '📢', '🐱', '📊', '📈', '🤯', '✍', '☕', '🐾', '💪', '🌸', '☝', '✈', '°', 'í', 'č', '🚣', '™', 'á', 'š', 'ň', 'ń', '／', 'ᴧ', 'ø', 'ł', '∆', '彩', '云', '•', '⋈', 'ö', '➔', '✌', '⍨', '®', '⅓', '`', 'ï', '^', 'î', '²', '¹', 'ã', '†', '横', '下', '太', '孫', 'た', 'い', 'そ', 'ん', 'の', 'ペ', 'ク', 'チ', 'ョ', 'ン', 'を', '連', 'れ', '北', '漢', 'プ', 'ッ', 'カ', '山', 'に', '登', 'り', 'テ', 'ソ', '所', 'だ', '食', 'お', 'う', '江', '陵', 'ヌ', 'で', '刺', '身', 'も', '行', 'き', '先', 'は', '？', '縦', '左', '党', '項', '城', 'タ', 'ハ', 'じ', 'ょ', '現', '在', '京', '畿', '道', 'キ', 'ギ', 'ド', '位', '置', 'す', 'る', '（', '唐', '）', '右', 'ま', '歳', 'わ', 'し', '相', '手', 'っ', 'て', '天', 'と', '地', '隔', 'な', '時', '黄', '草', '嶺', 'フ', 'ァ', 'リ', '栄', '光', 'ヨ', 'グ', '郡', '𝜏', '≥', '★', '⅔', '≈', '≤', 'ñ', 'µ', 'π', '‚', 'ó', 'ú', '¿', '¡', 'à', '\\xad', '🖖', '🏦', 'λ', '🤘', '✪', '🌊', '💥', '🇺', '🇸', '岩', '预', '约', '看', '房', 'σ', '𝔅', '𝔢', '𝔰', '𝔱', '𝔖', '𝔯', '𝔳', '𝔡', '𝔬', '𝔩', '🎸', '🌙', '涤', '非', '👑', '◑', '⚡', '\\uf8ff', '🙄', '🔥', '🎅', '🏖', '🤟', 'ɢ', 'ı', 'ʟ', 'ƨ', 'è', 'ś', '🎶', '♘', '✏', '🍃', '👽', '🤑', '👏', '😍', 'ç', '！', '－', 'ş', '灰', '昼', '💯', 'õ', '🚗', '🍉', 'ν', 'ą', '🕶', '🌩', '🔧', '😁', '🧡', 'ê', 'ù', '📣', '🔊', '🎥', '💖', '💕', '🐤', '🍕', '🗺', '☁', '⛵', '⁸', '👩', '👨', '💎', '🎞', '🐍', '🏀', 'æ', '\\u202c', '智', '裕', '🕵', '🏽', '🐘', '🎉', '©', '\\u2060', 'ʻ', 'ź', '🙂', 'ì', '♡', 'θ', 'β', '琴', '棋', '書', '畫', '¯', 'ツ', 'ý', '∼', 'δ', 'ℚ', '√', '∃']\n"
     ]
    }
   ],
   "source": [
    "# Get character count dictionary keys\n",
    "print(list(char_cnt.keys()))"
   ]
  },
  {
   "cell_type": "code",
   "execution_count": null,
   "id": "34c17484",
   "metadata": {},
   "outputs": [],
   "source": []
  },
  {
   "cell_type": "code",
   "execution_count": null,
   "id": "2d58d7c7",
   "metadata": {},
   "outputs": [],
   "source": []
  },
  {
   "cell_type": "code",
   "execution_count": null,
   "id": "d33bd1c2",
   "metadata": {},
   "outputs": [],
   "source": []
  },
  {
   "cell_type": "code",
   "execution_count": 163,
   "id": "85490ea8",
   "metadata": {},
   "outputs": [],
   "source": [
    "# Remove invalid character from text\n",
    "text = [excerpt.replace('\\xa0', '') for excerpt in text]"
   ]
  },
  {
   "cell_type": "code",
   "execution_count": 164,
   "id": "070053d5",
   "metadata": {},
   "outputs": [
    {
     "name": "stdout",
     "output_type": "stream",
     "text": [
      "There are 0 texts containing the invalid character.\n"
     ]
    }
   ],
   "source": [
    "# Verify character has been removed\n",
    "unusual_text = []\n",
    "\n",
    "for i in range(len(text)):\n",
    "    for j in text[i]:\n",
    "        if j == '\\xa0':\n",
    "            unusual_text.append(i)\n",
    "        \n",
    "unusual_text = list(set(unusual_text))\n",
    " \n",
    "print('There are', str(len(unusual_text)), 'texts containing the invalid character.')"
   ]
  },
  {
   "cell_type": "code",
   "execution_count": 165,
   "id": "fd31966d",
   "metadata": {},
   "outputs": [
    {
     "name": "stdout",
     "output_type": "stream",
     "text": [
      "There are 24 excerpts containing blocks of white space.\n"
     ]
    }
   ],
   "source": [
    "# Count texts containing white space blocks\n",
    "ctr = 0\n",
    "for excerpt in text:\n",
    "    if \"  \" in excerpt:\n",
    "        ctr += 1\n",
    "\n",
    "print('There are', ctr, 'excerpts containing blocks of white space.')"
   ]
  },
  {
   "cell_type": "code",
   "execution_count": 166,
   "id": "cba5c5a6",
   "metadata": {},
   "outputs": [
    {
     "name": "stdout",
     "output_type": "stream",
     "text": [
      "1233\n"
     ]
    }
   ],
   "source": [
    "# Remove blocks of white space\n",
    "new_text = []\n",
    "\n",
    "for excerpt in text:\n",
    "    while \"  \" in excerpt:\n",
    "        excerpt = excerpt.replace(\"  \",\" \")\n",
    "    new_text.append(excerpt)\n",
    "\n",
    "text = new_text\n",
    "print(len(text))"
   ]
  },
  {
   "cell_type": "code",
   "execution_count": 167,
   "id": "914f5e90",
   "metadata": {},
   "outputs": [
    {
     "name": "stdout",
     "output_type": "stream",
     "text": [
      "There are 0 excerpts containing blocks of white space.\n"
     ]
    }
   ],
   "source": [
    "ctr = 0\n",
    "for excerpt in text:\n",
    "    if \"  \" in excerpt:\n",
    "        ctr += 1\n",
    "\n",
    "print('There are', ctr, 'excerpts containing blocks of white space.')"
   ]
  },
  {
   "cell_type": "code",
   "execution_count": 168,
   "id": "ec5e72b4",
   "metadata": {},
   "outputs": [
    {
     "name": "stdout",
     "output_type": "stream",
     "text": [
      "['netflix technology blogfollowjan 15 2013·6 min readsaveoptimizing the netflix apiby ben christensenabout a year ago the netflix api team began redesigning the api to improve performance and enable ui engineering teams within netflix to optimize client applications for specific devices philosophies of the redesign were introduced in a previous post about embracing the differences between the different clients and devicesthis post is part one of a series on the architecture of our redesigned apigoalswe had multiple goals in creating this system as followsreduce chattinessone of the key drivers in pursuing the redesign in the first place was to reduce the chatty nature of our clientserver communication which could be hindering the overall performance of our device implementations due to the generic and granular nature of the original restbased netflix api each call returns only a portion of functionality for a given user experience requiring client applications to make multiple calls that need to be assembled in order to render a single user experience this interaction model is illustrated in the following diagramto reduce the chattiness inherent in the rest api the discrete requests in the diagram above should be collapsed into a single request optimized for a given client the benefit is that the device then pays the price of wan latency once and leverages the low latency and more powerful hardware serverside as a side effect this also eliminates redundancies that occur for every incoming requesta single optimized request such as this must embrace serverside parallelism to at least the same level as previously achieved through multiple network requests from the client because the serverside parallelized requests are running in the same network each one should be more performant than if it was executed from the device this must be achieved without each engineer implementing an endpoint needing to become an expert in lowlevel threading synchronization threadsafety concurrent data structures nonblocking io and other such concernsdistribute api developmenta single team should not become a bottleneck nor need to have expertise on every client application to create optimized endpoints rapid innovation through fast decoupled development cycles across a wide variety of device types and distributed ownership and expertise across teams should be enabled each client application team should be capable of implementing and operating their own endpoints and the corresponding requestsresponsesmitigate deployment risksthe netflix api is a java application running on hundreds of servers processing 2 billion incoming requests a day for millions of customers around the world the system must mitigate risks inherent in enabling rapid and frequent deployment by multiple teams with minimal coordinationsupport multiple languagesengineers implementing endpoints come from a wide variety of backgrounds with expertise including javascript objectivec java c c ruby python and others the system should be able to support multiple languages at the same timedistribute operationseach client team will now manage the deployment lifecycle of their own web service endpoints operational tools for monitoring debugging testing canarying and rolling out code must be exposed to a distributed set of teams so teams can operate independentlyarchitectureto achieve the goals above our architecture distilled into a few key pointsdynamic polyglot runtimefully asynchronous service layerreactive programming modelthe following diagram and subsequent annotations explain the architecture1 dynamic endpointsall new web service endpoints are now dynamically defined at runtime new endpoints can be developed tested canaried and deployed by each client team without coordination unless they depend on new functionality from the underlying api service layer shown at item 5 in which case they would need to wait until after those changes are deployed before pushing their endpoint2 endpoint code repository and managementendpoint code is published to a cassandra multiregion cluster globally replicated via a restful endpoint management api used by client teams to manage their endpoints3 dynamic polyglot jvm language runtimeany jvm language can be supported so each team can use the language best suited to them the groovy jvm language was chosen as our first supported language the existence of firstclass functions closures listdictionary syntax performance and debuggability were all aspects of our decision moreover groovy provides syntax comfortable to a wide range of developers which helps to reduce the learning curve for the first language on the platform4  5 asynchronous java api  reactive programming modelembracing concurrency was a key requirement to achieve performance gains but abstracting away threadsafety and parallel execution implementation details from the client developers was equally important in reducing complexity and speeding up their rate of innovation making the java api fully asynchronous was the first step as it allows the underlying method implementations to control whether something is executed concurrently or not without the client code changing we chose a reactive programming model with a functional programming style for handling composition and conditional flows of asynchronous callbacks our implementation is modeled after rx observables6 hystrix fault toleranceas we have described in a previous post all service calls to backend systems are made via the hystrix fault tolerance layer which was recently open sourced along with its dashboard that isolates the dynamic endpoints and the api service layer from the inevitable failures that occur while executing billions of network calls each day from the api to backend systemsthe hystrix layer is inherently mutltithreaded due to its use of threads for isolating dependencies and thus is leveraged for concurrent execution of blocking calls to backend systems these asynchronous requests are then composed together via the reactive framework7 backend services and dependenciesthe api service layer abstracts away all backend services and dependencies behind facades as a result endpoint code accesses functionality rather than a system this allows us to change underlying implementations and architecture with no or limited impact on the code that depends on the api for example if a backend system is split into 2 different services or 3 are combined into one or a remote network call is optimized into an inmemory cache none of these changes should affect endpoint code and thus the api service layer ensures that object models and other such tightcouplings are abstracted and not allowed to leak into the endpoint codesummarythe new netflix api architecture is a significant departure from our previous generic restful api dynamic jvm languages combined with an asynchronous java api and the reactive programming model have proven to be a powerful combination to enable safe and efficient development of highly concurrent codethe end result is a faulttolerant performant platform that puts control in the hands of those who know their target applications the bestfollowing posts will provide further implementation and operational details about this new architectureif this type of work interests you we are always looking for talented engineersseptember 2014 updatethis blog post originally used the term functional reactive programming or frp this term was used in error rxjava does not implement continuous time which is a requirement for frp from previous literaturesee alsoembracing the differences  inside the netflix api redesignwe have moved to a new fully customizable apimediumcomredesigning the netflix apiuse of the api has grown about 37× in 13 monthsmediumcomfault tolerance in a high volume distributed systemhow our api and other systems isolate failure shed load and remain resilient to failuresmediumcomintroducing hystrix for resilience engineeringin a distributed environment failure of any given service is inevitablemediumcomhystrix dashboard  turbine stream aggregatornetflix opensources two important projectsmediumcomoriginally published at techblognetflixcom on january 15 2013', 'netflix technology blogfollowmar 27 2013·11 min readsavesystem architectures for personalization and recommendationby xavier amatriain and justin basilicoin our previous posts about netflix personalization we highlighted the importance of using both data and algorithms to create the best possible experience for netflix members we also talked about the importance of enriching the interaction and engaging the user with the recommendation system today we’re exploring another important piece of the puzzle how to create a software architecture that can deliver this experience and support rapid innovation coming up with a software architecture that handles large volumes of existing data is responsive to user interactions and makes it easy to experiment with new recommendation approaches is not a trivial task in this post we will describe how we address some of these challenges at netflixto start with we present an overall system diagram for recommendation systems in the following figure the main components of the architecture contain one or more machine learning algorithmsthe simplest thing we can do with data is to store it for later offline processing which leads to part of the architecture for managing offline jobs however computation can be done offline nearline or online online computation can respond better to recent events and user interaction but has to respond to requests in realtime this can limit the computational complexity of the algorithms employed as well as the amount of data that can be processed offline computation has less limitations on the amount of data and the computational complexity of the algorithms since it runs in a batch manner with relaxed timing requirements however it can easily grow stale between updates because the most recent data is not incorporated one of the key issues in a personalization architecture is how to combine and manage online and offline computation in a seamless manner nearline computation is an intermediate compromise between these two modes in which we can perform onlinelike computations but do not require them to be served in realtime model training is another form of computation that uses existing data to generate a model that will later be used during the actual computation of results another part of the architecture describes how the different kinds of events and data need to be handled by the event and data distribution system a related issue is how to combine the different signals and models that are needed across the offline nearline and online regimes finally we also need to figure out how to combine intermediate recommendation results in a way that makes sense for the user the rest of this post will detail these components of this architecture as well as their interactions in order to do so we will break the general diagram into different subsystems and we will go into the details of each of them as you read on it is worth keeping in mind that our whole infrastructure runs across the public amazon web services cloudoffline nearline and online computationas mentioned above our algorithmic results can be computed either online in realtime offline in batch or nearline in between each approach has its advantages and disadvantages which need to be taken into account for each use caseonline computation can respond quickly to events and use the most recent data an example is to assemble a gallery of action movies sorted for the member using the current context online components are subject to an availability and response time service level agreements sla that specifies the maximum latency of the process in responding to requests from client applications while our member is waiting for recommendations to appear this can make it harder to fit complex and computationally costly algorithms in this approach also a purely online computation may fail to meet its sla in some circumstances so it is always important to think of a fast fallback mechanism such as reverting to a precomputed result computing online also means that the various data sources involved also need to be available online which can require additional infrastructureon the other end of the spectrum offline computation allows for more choices in algorithmic approach such as complex algorithms and less limitations on the amount of data that is used a trivial example might be to periodically aggregate statistics from millions of movie play events to compile baseline popularity metrics for recommendations offline systems also have simpler engineering requirements for example relaxed response time slas imposed by clients can be easily met new algorithms can be deployed in production without the need to put too much effort into performance tuning this flexibility supports agile innovation at netflix we take advantage of this to support rapid experimentation if a new experimental algorithm is slower to execute we can choose to simply deploy more amazon ec2 instances to achieve the throughput required to run the experiment instead of spending valuable engineering time optimizing performance for an algorithm that may prove to be of little business value however because offline processing does not have strong latency requirements it will not react quickly to changes in context or new data ultimately this can lead to staleness that may degrade the member experience offline computation also requires having infrastructure for storing computing and accessing large sets of precomputed resultsnearline computation can be seen as a compromise between the two previous modes in this case computation is performed exactly like in the online case however we remove the requirement to serve results as soon as they are computed and can instead store them allowing it to be asynchronous the nearline computation is done in response to user events so that the system can be more responsive between requests this opens the door for potentially more complex processing to be done per event an example is to update recommendations to reflect that a movie has been watched immediately after a member begins to watch it results can be stored in an intermediate caching or storage backend nearline computation is also a natural setting for applying incremental learning algorithmsin any case the choice of onlinenearlineoffline processing is not an eitheror question all approaches can and should be combined there are many ways to combine them we already mentioned the idea of using offline computation as a fallback another option is to precompute part of a result with an offline process and leave the less costly or more contextsensitive parts of the algorithms for online computationeven the modeling part can be done in a hybrid offlineonline manner this is not a natural fit for traditional supervised classification applications where the classifier has to be trained in batch from labeled data and will only be applied online to classify new inputs however approaches such as matrix factorization are a more natural fit for hybrid onlineoffline modeling some factors can be precomputed offline while others can be updated in realtime to create a more fresh result other unsupervised approaches such as clustering also allow for offline computation of the cluster centers and online assignment of clusters these examples point to the possibility of separating our model training into a largescale and potentially complex global model training on the one hand and a lighter userspecific model training or updating phase that can be performed onlineoffline jobsmuch of the computation we need to do when running personalization machine learning algorithms can be done offline this means that the jobs can be scheduled to be executed periodically and their execution does not need to be synchronous with the request or presentation of the results there are two main kinds of tasks that fall in this category model training and batch computation of intermediate or final results in the model training jobs we collect relevant existing data and apply a machine learning algorithm produces a set of model parameters which we will henceforth refer to as the model this model will usually be encoded and stored in a file for later consumption although most of the models are trained offline in batch mode we also have some online learning techniques where incremental training is indeed performed online batch computation of results is the offline computation process defined above in which we use existing models and corresponding input data to compute results that will be used at a later time either for subsequent online processing or direct presentation to the userboth of these tasks need refined data to process which usually is generated by running a database query since these queries run over large amounts of data it can be beneficial to run them in a distributed fashion which makes them very good candidates for running on hadoop via either hive or pig jobs once the queries have completed we need a mechanism for publishing the resulting data we have several requirements for that mechanism first it should notify subscribers when the result of a query is ready second it should support different repositories not only hdfs but also s3 or cassandra for instance finally it should transparently handle errors allow for monitoring and alerting at netflix we use an internal tool named hermes that provides all of these capabilities and integrates them into a coherent publishsubscribe framework it allows data to be delivered to subscribers in near realtime in some sense it covers some of the same use cases as apache kafka but it is not a messageevent queue systemsignals  modelsregardless of whether we are doing an online or offline computation we need to think about how an algorithm will handle three kinds of inputs models data and signals models are usually small files of parameters that have been previously trained offline data is previously processed information that has been stored in some sort of database such as movie metadata or popularity we use the term signals to refer to fresh information we input to algorithms this data is obtained from live services and can be made of userrelated information such as what the member has watched recently or context data such as session device date or timeevent  data distributionour goal is to turn member interaction data into insights that can be used to improve the member’s experience for that reason we would like the various netflix user interface applications smart tvs tablets game consoles etc to not only deliver a delightful user experience but also collect as many user events as possible these actions can be related to clicks browsing viewing or even the content of the viewport at any time events can then be aggregated to provide base data for our algorithms here we try to make a distinction between data and events although the boundary is certainly blurry we think of events as small units of timesensitive information that need to be processed with the least amount of latency possible these events are routed to trigger a subsequent action or process such as updating a nearline result set on the other hand we think of data as more dense information units that might need to be processed and stored for later use here the latency is not as important as the information quality and quantity of course there are user events that can be treated as both events and data and therefore sent to both flowsat netflix our nearrealtime event flow is managed through an internal framework called manhattan manhattan is a distributed computation system that is central to our algorithmic architecture for recommendation it is somewhat similar to twitter’s storm but it addresses different concerns and responds to a different set of internal requirements the data flow is managed mostly through logging through chukwa to hadoop for the initial steps of the process later we use hermes as our publishsubscribe mechanismrecommendation resultsthe goal of our machine learning approach is to come up with personalized recommendations these recommendation results can be serviced directly from lists that we have previously computed or they can be generated on the fly by online algorithms of course we can think of using a combination of both where the bulk of the recommendations are computed offline and we add some freshness by postprocessing the lists with online algorithms that use realtime signalsat netflix we store offline and intermediate results in various repositories to be later consumed at request time the primary data stores we use are cassandra evcache and mysql each solution has advantages and disadvantages over the others mysql allows for storage of structured relational data that might be required for some future process through generalpurpose querying however the generality comes at the cost of scalability issues in distributed environments cassandra and evcache both offer the advantages of keyvalue stores cassandra is a wellknown and standard solution when in need of a distributed and scalable nosql store cassandra works well in some situations however in cases where we need intensive and constant write operations we find evcache to be a better fit the key issue however is not so much where to store them as to how to handle the requirements in a way that conflicting goals such as query complexity readwrite latency and transactional consistency meet at an optimal point for each use caseconclusionsin previous posts we have highlighted the importance of data models and user interfaces for creating a worldclass recommendation system when building such a system it is critical to also think of the software architecture in which it will be deployed we want the ability to use sophisticated machine learning algorithms that can grow to arbitrary complexity and can deal with huge amounts of data we also want an architecture that allows for flexible and agile innovation where new approaches can be developed and pluggedin easily plus we want our recommendation results to be fresh and respond quickly to new data and user actions finding the sweet spot between these desires is not trivial it requires a thoughtful analysis of requirements careful selection of technologies and a strategic decomposition of recommendation algorithms to achieve the best outcomes for our members we are always looking for great engineers to join our team if you think you can help us be sure to look at our jobs pagesee alsonetflix recommendations beyond the 5 stars part 1one of the most valued netflix assets is our recommendation systemmediumcomnetflix recommendations beyond the 5 stars part 2more insight into our broader personalization technologymediumcomephemeral volatile caching in the clouda highly scalable memcachebased caching solutionmediumcomoriginally published at techblognetflixcom on march 27 2013', 'netflix technology blogfollowjun 12 2013·7 min readsaveannouncing zuul edge service in the cloudthe netflix streaming application is a complex array of intertwined systems that work together to seamlessly provide our customers a great experience the netflix api is the front door to that system supporting over 1000 different device types and handing over 50000 requests per second during peak hours we are continually evolving by adding new features every day our user interface teams meanwhile continuously push changes to serverside client adapter scripts to support new features and ab tests new aws regions are deployed to and catalogs are added for new countries to support international expansion to handle all of these changes as well as other challenges in supporting a complex and highscale system a robust edge service that enables rapid development great flexibility expansive insights and resiliency is neededtoday we are pleased to introduce zuul our answer to these challenges and the latest addition to our our open source suite of software although zuul is an edge service originally designed to front the netflix api it is now being used in a variety of ways by a number of systems throughout netflixzuul in netflix’s cloud architecturehow does zuul workat the center of zuul is a series of filters that are capable of performing a range of actions during the routing of http requests and responses the following are the key characteristics of a zuul filtertype most often defines the stage during the routing flow when the filter will be applied although it can be any custom stringexecution order applied within the type defines the order of execution across multiple filterscriteria the conditions required in order for the filter to be executedaction the action to be executed if the criteria are methere is an example of a simple filter that delays requests from a malfunctioning device in order to distribute the load on our originclass devicedelayfilter extends zuulfilter  def static random rand  new random override string filtertype  return pre  override int filterorder  return 5  override boolean shouldfilter  return requestcontextgetrequest getparameterdevicetypeequalsbrokendevicefalse  override object run  sleeprandnextint20000  sleep for a random number of  seconds between 020 zuul provides a framework to dynamically read compile and run these filters filters do not communicate with each other directly — instead they share state through a requestcontext which is unique to each requestfilters are currently written in groovy although zuul supports any jvmbased language the source code for each filter is written to a specified set of directories on the zuul server that are periodically polled for changes updated filters are read from disk dynamically compiled into the running server and are invoked by zuul for each subsequent requestzuul core architecturethere are several standard filter types that correspond to the typical lifecycle of a requestpre filters execute before routing to the origin examples include request authentication choosing origin servers and logging debug inforouting filters handle routing the request to an origin this is where the origin http request is built and sent using apache httpclient or netflix ribbonpost filters execute after the request has been routed to the origin examples include adding standard http headers to the response gathering statistics and metrics and streaming the response from the origin to the clienterror filters execute when an error occurs during one of the other phasesrequest lifecyclealongside the default filter flow zuul allows us to create custom filter types and execute them explicitly for example zuul has a static type that generates a response within zuul instead of forwarding the request to an originhow we use zuulthere are many ways in which zuul helps us run the netflix api and the overall netflix streaming application here is a short list of some of the more common examples and for some we will go into more detail belowauthenticationinsightsstress testingcanary testingdynamic routingload sheddingsecuritystatic response handlingmultiregion resiliencyinsightszuul gives us a lot of insight into our systems in part by making use of other netflix oss componentshystrix is used to wrap calls to our origins which allows us to shed and prioritize traffic when issues occurribbon is our client for all outbound requests from zuul which provides detailed information into network performance and errors as well as handles software load balancing for even load distributionturbine aggregates finegrained metrics in realtime so that we can quickly observe and react to problemsarchaius handles configuration and gives the ability to dynamically change properties because zuul can add change and compile filters at runtime system behavior can be quickly altered we add new routes assign authorization access rules and categorize routes all by adding or modifying filters and when unexpected conditions arise zuul has the ability to quickly intercept requests so we can explore workaround or fix the problem the dynamic filtering capability of zuul allows us to find and isolate problems that would normally be difficult to locate among our large volume of requests a filter can be written to route a specific customer or device to a separate api cluster for debugging this technique was used when a new page from the website needed tuning performance problems as well as unexplained errors were observed it was difficult to debug the issues because the problems were only happening for a small set of customers by isolating the traffic to a single instance patterns and discrepancies in the requests could be seen in real time zuul has what we call a surgicaldebugfilter this is a special pre filter that will route a request to an isolated cluster if the patternmatches criteria is true adding this filter to match for the new page allowed us to quickly identify and analyze the problem prior to using zuul hadoop was being used to query through billions of logged requests to find the several thousand requests for the new page we were able to reduce the problem to a search through a relatively small log file on a few servers and observe behavior in real time the following is an example of the surgicaldebugfilter that is used to route matched requests to a debug clusterclass sharpdebugfilter extends surgicaldebugfilter  private static final setstring deviceids  xxx yyy zzz override boolean patternmatches  final requestcontext ctx  requestcontextgetcurrentcontext final string requesturi  ctxgetrequestgetrequesturi final string contexturi  ctxrequesturi string id  httprequestutilsgetinstance getvaluefromrequestelementsdeviceid return deviceidscontainsid in addition to dynamically rerouting requests that match a specified criteria we have an internal system built on top of zuul and turbine that allows us to display a realtime streaming log of all matching requestsresponses across our entire cluster this internal system allows us to quickly find patterns of anomalous behavior or simply observe that some segment of traffic is behaving as expected by asking questions such as how many ps3 api requests are coming from sao paolostress testinggauging the performance and capacity limits of our systems is important for us to predict our ec2 instance demands tune our autoscaling policies and keep track of general performance trends as new features are added an automated process that uses dynamic archaius configurations within a zuul filter steadily increases the traffic routed to a small cluster of origin servers as the instances receive more traffic their performance characteristics and capacity are measured this informs us of how many ec2 instances will be needed to run at peak whether our autoscaling policies need to be modified and whether or not a particular build has the required performance characteristics to be pushed to productionmultiregion resiliencyzuul is central to our multiregion elb resiliency project called isthmus as part of isthmus zuul is used to bridge requests from the west coast cloud region to the east coast to help us have multiregion redundancy in our elbs for our critical domains stay tuned for a tech blog post about our isthmus initiativezuul osstoday we are open sourcing zuul as a few different componentszuulcore — a library containing a set of core featureszuulnetflix — an extension library using many netflix oss componentsservo for insights metrics monitoringhystrix for real time metrics with turbineeureka for instance discoveryribbon for routingarchaius for realtime configurationastyanax for and filter persistence in cassandrazuulfilters — filters to work with zuulcore and zuulnetflix librarieszuulwebappsimple — a simple example of a web application built on zuulcore including a few basic filterszuulnetflixwebapp — a web application putting zuulcore zuulnetflix and zuulfilters togethernetflix oss libraries in zuulputting everything together we are also providing a web application built on zuulcore and zuulnetflix the application also provides many helpful filters for things such asweighted load balancing to balance a percentage of load to a certain server or cluster for capacity testingrequest debuggingrouting filters for apache httpclient and netflix ribbonstatistics collectingwe hope that this project will be useful for your application and will demonstrate the strength of our open source projects when using zuul as a glue across them and encourage you to contribute to zuul to make it even better also if this type of technology is as exciting to you as it is to us please see current openings on our team jobsmikey cohen — api platformmatt hawthorne — api platformsee alsoembracing the differences  inside the netflix api redesignwe have moved to a new fully customizable apimediumcomoriginally published at techblognetflixcom on june 12 2013', 'netflix technology blogfollownov 2 2011·13 min readsavebenchmarking cassandra scalability on aws — over a million writes per secondby adrian cockcroft and denis sheahannetflix has been rolling out the apache cassandra nosql data store for production use over the last six months as part of our benchmarking we recently decided to run a test designed to validate our tooling and automation scalability as well as the performance characteristics of cassandra adrian presented these results at the high performance transaction systems workshop last weekwe picked a write oriented benchmark using the standard cassandra stress tool that is part of the product and denis ran and analyzed the tests on amazon ec2 instances writes stress a data store all the way to the disks while read benchmarks may only exercise the inmemory cache the benchmark results should be reproducible by anyone but the netflix cloud platform automation for aws makes it quick and easy to do this kind of testthe automated tooling that netflix has developed lets us quickly deploy large scale cassandra clusters in this case a few clicks on a web page and about an hour to go from nothing to a very large cassandra cluster consisting of 288 medium sized instances with 96 instances in each of three ec2 availability zones in the useast region using an additional 60 instances as clients running the stress program we ran a workload of 11 million client writes per second data was automatically replicated across all three zones making a total of 33 million writes per second across the cluster the entire test was able to complete within two hours with a total cost of a few hundred dollars and these ec2 instances were only in existence for the duration of the test there was no setup time no discussions with it operations about datacenter space and no more cost once the test was overto measure scalability the same test was run with 48 96 144 and 288 instances with 10 20 30 and 60 clients respectively the load on each instance was very similar in all cases and the throughput scaled linearly as we increased the number of instances our previous benchmarks and production rollout had resulted in many application specific cassandra clusters from 6 to 48 instances so we were very happy to see linear scale to six times the size of our current largest deployment this benchmark went from concept to final result in five days as a spare time activity alongside other work using our standard production configuration of cassandra 086 running in our test account the time taken by ec2 to create 288 new instances was about 15 minutes out of our total of 66 minutes the rest of the time was taken to boot linux start the apache tomcat jvm that runs our automation tooling start the cassandra jvm and join the ring that makes up the cassandra data store for a more typical 12 instance cassandra cluster the same sequence takes 8 minutesthe netflix cloud systems group recently created a cloud performance team to focus on characterizing the performance of components such as cassandra and helping other teams make their code and aws usage more efficient to reduce latency for customers and costs for netflix this team is currently looking for an additional engineertldrthe rest of this post is the details of what we ran and how it worked so that other performance teams working with cassandra on aws can leverage our work and replicate and extend our resultsec2 configurationthe ec2 instances used to run cassandra in this test are known as m1 extra large m1xl they have four medium speed cpus 15gb ram and four disks of 400gb each the total cpu power is rated by amazon as 8 units the other instance type we commonly use for cassandra is an m2 quadruple extra large m24xl which has eight faster cpus 68gb ram and two disks of 800gb each total 26 units of cpu power so about three times the capacity we use these for read intensive workloads to cache more data in memory both these instance types have a one gbits network there is also a cluster compute quadruple extra large cc4xl option with eight even faster cpus total 335 units 23gb ram two 800gb disks and a low latency 10gbit network we haven’t tried that option yet in this case we were particularly interested in pushing the instance count to a high level to validate our tooling so picked a smaller instance option all four disks were striped together using centos 56 md and xfs the cassandra commit log and data files were all stored on this filesystemthe 60 instances that ran stress as clients were m24xl instances running in a single availability zone so two thirds of the client traffic was crosszone this slightly increased the mean client latencyall instances are created using the ec2 autoscaler feature a single request is made to set the desired size of an autoscale group asg specifying an amazon machine image ami that contains the standard cassandra 086 distribution plus netflix specific tooling and instrumentation three asgs are created one in each availability zone which are separate datacenters separated by about one millisecond of network latency ec2 automatically creates the instances in each availability zone and maintains them at the set level if an instance dies for any reason the asg automatically creates a replacement instance and the netflix tooling manages bootstrap replacement of that node in the cassandra cluster since all data is replicated three ways effectively in three different datacenter buildings this configuration is very highly availablehere’s an example screenshot of the configuration page for a small cassandra asg editing the size fields and saving the change is all that is needed to create a cluster at any sizenetflix automation for cassandra — priamnetflix has also implemented automation for taking backups and archiving them in the simple storage service s3 and we can perform a rolling upgrade to a new version of cassandra without any downtime it is also possible to efficiently double the size of a cassandra cluster while it is running each new node buddies up and splits the data and load of one of the existing nodes so that data doesn’t have to be reshuffled too much if a node fails it’s replacement has a different ip address but we want it to have the same token and the original cassandra replacement mechanisms had to be extended to handle this case cleanly we call the automation priam after cassandra’s father in greek mythology it runs in a separate apache tomcat jvm and we are in the process of removing netflix specific code from priam so that we can release it as an open source project later this year we have already released an apache zookeeper interface called curator at github and also plan to release a java client library called astyanax the son of hector who was cassandra’s brother and hector is also the name of a commonly used java client library for cassandra that we have improved upon we are adding greek mythology to our rota of interview questions scaleup linearitythe scalability is linear as shown in the chart below each client system generates about 17500 write requests per second and there are no bottlenecks as we scale up the traffic each client ran 200 threads to generate traffic across the clusterperinstance activitythe next step is to look at the average activity level on each instance for each of these tests to look for bottlenecks a summary is tabulated belowthe writes per server are similar as we would expect and the mean latency measured at the server remains low as the scale increases the response time measured at the client was about 11ms with about 12ms due to network latency and the rest from the thrift client library overhead and scheduling delays as the threads pick up responses the write latency measured at each cassandra server is a small fraction of a millisecond explained in detail later average server side latency of around one millisecond is what we typically see on our production cassandra clusters with a more complex mixture of read and write queries the cpu load is a little higher for the largest cluster this could be due to a random fluctuation in the test which we only ran once variations in the detailed specification of the m1xl instance type or an increase in gossip or connection overhead for the larger cluster disk writes are caused by commit log writes and large sequential sstable writes disk reads are due to the compaction processing that combines cassandra sstables in the background network traffic is dominated by the cassandra internode replication messagescosts of running this benchmarkbenchmarking can take a lot of time and money there are many permutations of factors to test so the cost of each test in terms of setup time and compute resources used can be a real limitation on how many tests are performed using the netflix cloud platform automation for aws a dramatic reduction in setup time and cost means that we can easily run more and bigger tests the table below shows the test duration and aws cost at the normal list price this cost could be further reduced by using spot pricing or by sharing unused reservations with the production sitethe usable storage capacity for a cassandra 086 instance is half the available filesystem space because cassandra’s current compaction algorithm needs space to compact into this changes with cassandra 10 which has an improved compaction algorithm and ondisk compression of the sstables the m1xl instances cost 068 per hour and the m24xl test driver instances cost 200 per hour we ran this test in our default configuration which is highly available by locating replicas in three availability zones there is a cost for this since aws charges 001 per gigabyte for cross zone traffic an estimation of cross zone traffic was made as two thirds of the total traffic and for this network intense test it actually cost more per hour than the instances the test itself was run for about ten minutes which was long enough to show a clear steady state load level taking the setup time into account the smaller tests can be completed within an hour the largest test needed a second hour for the nodes onlyunlike conventional datacenter testing we didn’t need to ask permission wait for systems to be configured for us or put up with a small number of dedicated test systems we could also run as many tests as we like at the same time since they don’t use the same resources denis has developed scripting to create monitor analyze and plot the results of these tests for example here’s the client side response time plot from a single client generating about 20000 requestssecdetailed cassandra configurationthe client requests use consistency level one which means that they are acknowledged when one node has acknowledged the data for consistent read after write data access our alternative pattern is to use local quorum in that case the client acknowledgement waits for two out of the three nodes to acknowledge the data and the write response time increases slightly but the work done by the cassandra cluster is essentially the same as an aside in our multiregion testing we have found that network latency and cassandra response times are lower in the aws europe region than in us east which could be due to a smaller scale deployment or newer networking hardware we don’t think network contention from other aws tenants was a significant factor in this teststress command linejava jar stressjar d 144 node ids e one n 27000000 l 3 i 1 t 200 p 7102 o insert c 10 rthe client is writing 10 columns per row key row key randomly chosen from 27 million ids each column has a key and 10 bytes of data the total on disk size for each write including all overhead is about 400 bytesthirty clients talk to the first 144 nodes and 30 talk to the second 144 for the insert we write three replicas which is specified in the keyspacecassandra keyspace configurationkeyspace keyspace1replication strategy orgapachecassandralocatornetworktopologystrategydurable writes true options useast3column families columnfamily standard1 key validation class orgapachecassandradbmarshalbytestype default column value validator orgapachecassandradbmarshalbytestype columns sorted by orgapachecassandradbmarshalbytestype row cache size  save period in seconds 000 key cache size  save period in seconds 200000014400 memtable thresholds 176718751440128 millions of opsminutesmb gc grace seconds 864000 compaction minmax thresholds 432 read repair chance 00replicate on write truedata flows latency and durabilityto understand latency and durability we need to look at the data flows for writes for different cassandra configurations cassandra client’s are not normally aware of which node should store their data so they pick a node at random which then acts as a coordinator to send replicas of the data to the correct nodes which are picked using a consistent hash of the row key for the fastest writes a single node has to acknowledge the write this is useful when replacing an ephemeral memcached oriented data store with cassandra where we want to avoid the cold cache issues associated with failed memcached instances but speed and availability is more important than consistency the additional overhead compared to memcached is an extra network hop however an immediate read after write may get the old data which will be eventually consistentto get immediately consistent writes with cassandra we use a quorum write two out of three nodes must acknowledge the write before the client gets its ack so the writes are durable in addition if a read after a quorum write also uses quorum it will always see the latest data since the combination of two out of three in both cases must include an overlap since there is no concept of a master node for data in cassandra it is always possible to read and write even when a node has failedthe cassandra commit log flushes to disk with an fsync call every 10 seconds by default this means that there is up to ten seconds where the committed data is not actually on disk but it has been written to memory in three different instances in three different availability zones ie datacenter buildings the chance of losing all three copies in the same time window is small enough that this provides excellent durability along with high availability and low latency the latency for each cassandra server that receives a write is just the few microseconds it takes to queue the data to the commit log writercassandra implements a gossip protocol that lets every node know the state of all the others if the target of a write is down the coordinator node remembers that it didn’t get the data which is known as hinted handoff when gossip tells the coordinator that the node has recovered it delivers the missing datanetflix is currently testing and setting up global cassandra clusters to support expansion into the uk and ireland using the aws europe region located in ireland for use cases that need a global view of the data an extra set of cassandra nodes are configured to provide an asynchronously updated replica of all the data written on each side there is no master copy and both regions continue to work if the connections between them fail in that case we use a local quorum for reads and writes which sends the data remotely but doesn’t wait for it so latency is not impacted by the remote region this gives consistent access in the local region with eventually consistent access in the remote region along with high availabilitynext stepsthere are a lot more tests that could be run we are currently working to characterize the performance of cassandra 10 and multiregion performance for both reads and writes with more complex query combinations and client librariestakeawaynetflix is using cassandra on aws as a key infrastructure component of its globally distributed streaming product cassandra scales linearly far beyond our current capacity requirements and very rapid deployment automation makes it easy to manage in particular benchmarking in the cloud is fast cheap and scalable once you try it you won’t go backif you are the kind of performance geek that has read this far and wishes your current employer would let you spin up huge tests in minutes and open source the tools you build perhaps you should give us a call…see alsonetflix incgithub is where people build software more than 21 million people use github to discover fork and contribute to over…wwwgithubcomhpts  2017 homeevery two years hpts brings together a lively and opinionated group of technologists to discuss and debate the…hptswselastic compute cloud ec2  cloud server  hosting  awslooking for cloud servers amazon elastic compute cloud ec2 is a cloud hosting service that provides resizable…awsamazoncomwork at netflixat netflix we are shaping the future of global entertainment because we believe there is a better way to watch our…jobsnetflixcomoriginally published at techblognetflixcom on november 2 2011', 'netflix technology blogfollowmar 1 2016·12 min readsavecaching for a global netflixcacheseverywherenetflix members have come to expect a great user experience when interacting with our service there are many things that go into delivering a customerfocused user experience for a streaming service including an outstanding content library an intuitive user interface relevant and personalized recommendations and a fast service that quickly gets your favorite content playing at very high quality to name a fewthe netflix service heavily embraces a microservice architecture that emphasizes separation of concerns we deploy hundreds of microservices with each focused on doing one thing well this allows our teams and the software systems they produce to be highly aligned while being loosely coupled many of these services are stateless which makes it easier to autoscale them they often achieve the stateless loose coupling by maintaining state in caches or persistent storesevcache is an extensively used datacaching service that provides the lowlatency highreliability caching solution that the netflix microservice architecture demandsit is a ram store based on memcached optimized for cloud use evcache typically operates in contexts where consistency is not a strong requirement over the last few years evcache has been scaled to significant traffic while providing a robust keyvalue interface at peak our production evcache deployments routinely handle upwards of 30 million requestssec storing hundreds of billions of objects across tens of thousands of memcached instances this translates to just under 2 trillion requests per day globally across all evcache clustersearlier this year netflix launched globally in 130 additional countries making it available in nearly every country in the world in this blog post we talk about how we built evcache’s global replication system to meet netflix’s growing needs evcache is open source and has been in production for more than 5 years to read more about evcache check out one of early blog postsannouncing evcachedistributed inmemory datastore for cloudmediumcommotivationnetflix’s global cloudbased service is spread across three amazon web services aws regions northern virginia oregon and ireland requests are mostly served from the region the member is closest to but network traffic can shift around for various reasons including problems with critical infrastructure or region failover exercises chaos kong as a result we have adopted a stateless application server architecture which lets us serve any member request from any regionthe hidden requirement in this design is that the data or state needed to serve a request is readily available anywhere highreliability databases and highperformance caches are fundamental to supporting our distributed architecture one use case for a cache is to front a database or other persistent store replicating such caches globally helps with the thundering herd scenario without global replication member traffic shifting from one region to another would encounter cold caches for those members in the new region processing the cache misses would lengthen response times and overwhelm the databasesanother major use case for caching is to memoize data which is expensive to recompute and which doesn’t come from a persistent store when the compute systems write this kind of data to a local cache the data has to be replicated to all regions so it’s available to serve member requests no matter where they originate the bottom line is that microservices rely on caches for fast reliable access to multiple types of data like a member’s viewing history ratings and personalized recommendations changes and updates to cached data need to be replicated around the world to enable fast reliable and global accessevcache was designed with these usecases in consideration when we embarked upon the global replication system design for evcache we also considered nonrequirements one nonrequirement is strong global consistency it’s okay for example if ireland and virginia occasionally have slightly different recommendations for you as long as the difference doesn’t hurt your browsing or streaming experience for noncritical data we rely heavily on this eventual consistency model for replication where local or global differences are tolerated for a short time this simplifies the evcache replication design tremendously it doesn’t need to deal with global locking quorum reads and writes transactional updates partialcommit rollbacks or other complications of distributed consistencywe also wanted to make sure the replication system wouldn’t affect the performance and reliability of local cache operations even if crossregion replication slowed down all replication is asynchronous and the replication system can become latent or fail temporarily without affecting local cache operationsreplication latency is another loose requirement how fast is fast enough how often does member traffic switch between regions and what is the impact of inconsistency rather than demand the impossible from a replication system instantaneous and perfect what netflix needs from evcache is acceptable latency while tolerating some inconsistency — as long as both are low enough to serve the needs of our applications and memberscrossregion replication architectureevcache replicates data both within a region and globally the intraregion redundancy comes from a simultaneous write to all server groups within the region for crossregion replication the key components are shown in the diagram belowthis diagram shows the replication steps for a set operation an application calls set on the evcache client library and from there the replication path is transparent to the callerthe evcache client library sends the set to the local region’s instance of the cachethe client library also writes metadata including the key but not the data to the replication message queue kafkathe replication relay service in the local region reads messages from this queuethe relay fetches the data for the key from the local cachethe relay sends a set request to the remote region’s replication proxy servicein the remote region the replication proxy receives the request and performs a set to its local cache completing the replicationlocal applications in the receiving region will now see the updated value in the local cache when they do a getthis is a simplified picture of course for one thing it refers only to set — not other operations like delete touch or batch mutations the flows for delete and touch are very similar with some modifications they don’t have to read the existing value from the local cache for exampleit’s important to note that the only part of the system that reaches across region boundaries is the message sent from the replication relay to the replication proxy step 5 clients of evcache are not aware of other regions or of crossregion replication reads and writes use only the local inregion cache instancescomponent responsibilitiesreplication message queuethe message queue is the cornerstone of the replication system we use kafka for this the kafka stream for a fullyreplicated cache has two consumers one replication relay cluster for each destination region by having separate clusters for each target region we decouple the two replication paths and isolate them from each other’s latency or other issuesif a target region goes wildly latent or completely blows up for an extended period the buffer for the kafka queue will eventually fill up and kafka will start dropping older messages in a disaster scenario like this the dropped messages are never sent to the target region netflix services which use replicated caches are designed to tolerate such occasional disruptionsreplication relaythe replication relay cluster consumes messages from the kafka cluster using a secure connection to the replication proxy cluster in the destination region it writes the replication request complete with data fetched from the local cache if needed and awaits a success response it retries requests which encounter timeouts or failurestemporary periods of high crossregion latency are handled gracefully kafka continues to accept replication messages and buffers the backlog when there are delays in the replication processing chainreplication proxythe replication proxy cluster for a cache runs in the target region for replication it receives replication requests from the replication relay clusters in other regions and synchronously writes the data to the cache in its local region it then returns a response to the relay clusters so they know the replication was successfulwhen the replication proxy writes to its local region’s cache it uses the same opensource evcache client that any other application would use the common client library handles all the complexities of sharding and instance selection retries and inregion replication to multiple cache serversas with many netflix services the replication relay and replication proxy clusters have multiple instances spread across availability zones azs in each region to handle high traffic rates while being resilient against localized failuresdesign rationale and implicationsthe replication relay and replication proxy services and the kafka queue they use all run separately from the applications that use caches and from the cache instances themselves all the replication components can be scaled up or down as needed to handle the replication load and they are largely decoupled from local cache read and write activity our traffic varies on a daily basis because of member watching patterns so these clusters scale up and down all the time if there is a surge of activity or if some kind of network slowdown occurs in the replication path the queue might develop a backlog until the scaling occurs but latency of local cache getset operations for applications won’t be affectedas noted above the replication messages on the queue contain just the key and some metadata not the actual data being written we get various efficiency wins this way the major win is a smaller faster kafka deployment which doesn’t have to be scaled to hold all the data that exists in the caches storing large data payloads in kafka would make it a costly bottleneck due to storage and network requirements instead the replication relay fetches the data from the local cache with no need for another copy in kafkaanother win we get from writing just the metadata is that sometimes we don’t need the data for replication at all for some caches a set on a given key only needs to invalidate that key in the other regions — we don’t send the new data we just send a delete for the key in such cases a subsequent get in the other region results in a cache miss rather than seeing the old data and the application will handle it like any other miss this is a win when the rate of crossregion traffic isn’t high — that is when there are few gets in region a for data that was written from region b handling these occasional misses is cheaper than constantly replicating the dataoptimizationswe have to balance latency and throughput based on the requirements of each cache the 99th percentile of endtoend replication latency for most of our caches is under one second some of that time comes from a delay to allow for buffering we try to batch up messages at various points in the replication flow to improve throughput at the cost of a bit of latency the 99th percentile of latency for our highestvolume replicated cache is only about 400ms because the buffers fill and flush quicklyanother significant optimization is the use of persistent connections we found that the latency improved greatly and was more stable after we started using persistent connections between the relay and proxy clusters it eliminates the need to wait for the 3way handshake to establish a new tcp connection and also saves the extra network time needed to establish the tlsssl session before sending the actual replication requestwe improved throughput and lowered the overall communication latency between the relay cluster and proxy cluster by batching multiple messages in single request to fill a tcp window ideally the batch size would vary to match the tcp window size which can change over the life of the connection in practice we tune the batch size empirically for good throughput while this batching can add latency it allows us to get more out of each tcp packet and reduces the number of connections we need to set up on each instance thus letting us use fewer instances for a given replication demand profilewith these optimizations we have been able to scale evcache’s crossregion replication system to routinely handle over a million rps at peak dailychallenges and learningsthe current version of our kafkabased replication system has been in production for over a year and replicates more than 15 million messages per second at peak we’ve had some growing pains during that time we’ve seen periods of increased endtoend latencies sometimes with obvious causes like a problem with the proxy application’s autoscaling rules and sometimes without — due to congestion on the crossregion link on the public internet for examplebefore using vpc at amazon one of our biggest problems was the implicit packetspersecond limits on our aws instances cross that limit and the aws instance experiences a high rate of tcp timeouts and dropped packets resulting in high replication latencies tcp retries and failed replication requests which need to be retried later the solution is simple scale out using more instances means there is more total packetspersecond capacity sometimes two large instances are a better choice than a single extra large even when the costs are the same moving into vpc significantly raised some limits like packets per second while also giving us access to other enhanced networking capabilities which allow the relay and proxy clusters to do more work per instancein order to be able to diagnose which link in the chain is causing latency we introduced a number of metrics to track and monitor the latencies at different points in the system from the client application to kafka in the relay cluster’s reading from kafka from the relay cluster to the remote proxy cluster and from proxy cluster to its local cache servers there are also endtoend timing metrics to track how well the system is doing overallat this point we have a few main issues that we are still working throughkafka does not scale up and down conveniently when a cache needs more replicationqueue capacity we have to manually add partitions and configure the consumers with matching thread counts and scale the relay cluster to match this can lead to duplicateresent messages which is inefficient and may cause more than the usual level of eventual consistency skewif we lose an evcache instance in the remote region this results in an increase in latency as the proxy cluster tries and fails to write to the missing instance this latency leads back to the relay side which is awaiting confirmation for each batched replication request we’ve worked to reduce the time spent in this state we detect the lost instance earlier and we are investigating reconciliation mechanisms to minimize the impact of these situations we have made changes in the evcache client that allow the proxy instances to cope more easily with the possibility that cache instances can disappearkafka monitoring particularly for missing messages is not an exact science software bugs can cause messages not to appear in the kafka partition or not to be received by our relay cluster we monitor by comparing the total number of messages received by our kafka brokers on a per topic basis and the number of messages replicated by the relay cluster if there is more than a small acceptable threshold of difference for any significant time we investigate we also monitor maximum latencies not the average because the processing of one partition may be significantly slower for some reason that situation requires investigation even if the average is acceptable we are still improving these and other alerts to better detect real issues with fewer falsepositivesfuturewe still have a lot of work to do on the replication system future improvements might involve pipelining replication messages on a single connection for better and more efficient connection use optimizations to take better advantage of the network tcp window size or transitioning to the new kafka 09 api we hope to make our relay clusters the kafka consumers autoscale cleanly without significantly increasing latencies or increasing the number of duplicateresent messagesevcache is one of the critical components of netflix’s distributed architecture providing globally replicated data at ram speed so any member can be served from anywhere in this post we covered how we took on the challenge of providing reliable and fast replication for caching systems at a global scale we look forward to improving more as our needs evolve and as our global member base expands as a company we strive to win more of our member’s moments of truth and our team helps in that mission by building highlyavailable distributed caching systems at scale if this is something you’d enjoy too reach out to us — we’re hiring— the evcache team shashi madappa vu nguyen scott mansfield sridhar enugula allan pratt faisal zakaria siddiqisee alsochaos engineering upgradedchaos kong is the most destructive chaos monkey yetmediumcomoriginally published at techblognetflixcom on march 1 2016']\n",
      "1233\n"
     ]
    }
   ],
   "source": [
    "normed_text = []\n",
    "\n",
    "for i in range(len(text)):\n",
    "    new = text[i].lower()\n",
    "    new = new.translate(str.maketrans('','', string.punctuation))\n",
    "    new = new.replace('“', '').replace('”', '')\n",
    "    normed_text.append(new)\n",
    "    \n",
    "print(normed_text[0:5])    \n",
    "print(len(normed_text))"
   ]
  },
  {
   "cell_type": "code",
   "execution_count": 169,
   "id": "02983bb6",
   "metadata": {},
   "outputs": [],
   "source": [
    "text_train, text_test, author_train, author_test = train_test_split(normed_text, author, test_size = 0.2, random_state = 5)"
   ]
  },
  {
   "cell_type": "code",
   "execution_count": 170,
   "id": "34147864",
   "metadata": {},
   "outputs": [
    {
     "name": "stdout",
     "output_type": "stream",
     "text": [
      "(986,)\n",
      "(247,)\n",
      "(986,)\n",
      "(247,)\n"
     ]
    }
   ],
   "source": [
    "# Check shapes of created datasets\n",
    "print(np.shape(text_train))\n",
    "print(np.shape(text_test))\n",
    "print(np.shape(author_train))\n",
    "print(np.shape(author_test))"
   ]
  },
  {
   "cell_type": "code",
   "execution_count": 171,
   "id": "d03bcf16",
   "metadata": {},
   "outputs": [
    {
     "data": {
      "text/plain": [
       "{'Adobe Creative Cloud',\n",
       " 'Alexis MP',\n",
       " 'Bhargav Bachina',\n",
       " 'Carlos E. Perez',\n",
       " 'ConsenSys',\n",
       " 'Ethan Siegel',\n",
       " 'ExtremeTech',\n",
       " 'Muzli',\n",
       " 'Netflix Technology Blog',\n",
       " 'Nick Babich'}"
      ]
     },
     "execution_count": 171,
     "metadata": {},
     "output_type": "execute_result"
    }
   ],
   "source": [
    "set(list(author_test))"
   ]
  },
  {
   "cell_type": "code",
   "execution_count": 172,
   "id": "de5e0f70",
   "metadata": {},
   "outputs": [],
   "source": [
    "def create_n_grams(excerpt_list, n, vocab_size, seq_size):\n",
    "    \"\"\"Create a list of n-gram sequences\n",
    "    \n",
    "    Args:\n",
    "    excerpt_list: list of strings. List of normalized text excerpts.\n",
    "    n: int. Length of n-grams.\n",
    "    vocab_size: int. Size of n-gram vocab (used in one-hot encoding)\n",
    "    seq_size: int. Size of n-gram sequences\n",
    "    \n",
    "    Returns:\n",
    "    n_gram_array: array. Numpy array of one-hot encoded n-grams.\n",
    "    \"\"\"\n",
    "    n_gram_list = []\n",
    "\n",
    "    for excerpt in excerpt_list:\n",
    "        # Remove spaces\n",
    "        excerpt = excerpt.replace(\" \", \"\")\n",
    "\n",
    "        # Extract n-grams\n",
    "        n_grams = [excerpt[i:i + n] for i in range(len(excerpt) - n + 1)]\n",
    "\n",
    "        # Convert to a single string with spaces between n-grams\n",
    "        new_string = \" \".join(n_grams)\n",
    "\n",
    "        # One hot encode\n",
    "        hot = one_hot(new_string, round(vocab_size*1.3))\n",
    "\n",
    "        # Pad hot if necessary\n",
    "        hot_len = len(hot)\n",
    "        if hot_len >= seq_size:\n",
    "            hot = hot[0:seq_size]\n",
    "        else:\n",
    "            diff = seq_size - hot_len\n",
    "            extra = [0]*diff\n",
    "            hot = hot + extra\n",
    "\n",
    "        n_gram_list.append(hot)\n",
    "    \n",
    "    n_gram_array = np.array(n_gram_list)\n",
    "    \n",
    "    return n_gram_array"
   ]
  },
  {
   "cell_type": "code",
   "execution_count": 173,
   "id": "ae0995ff",
   "metadata": {},
   "outputs": [],
   "source": [
    "def get_vocab_size(excerpt_list, n, seq_size):\n",
    "    \"\"\"Calculate size of n-gram vocab\n",
    "    \n",
    "    Args:\n",
    "    excerpt_list: list of strings. List of normalized text excerpts.\n",
    "    n: int. Length of n-grams.\n",
    "    seq_size: int. Size of n-gram sequences\n",
    "    \n",
    "    Returns:\n",
    "    vocab_size: int. Size of n-gram vocab.\n",
    "    \"\"\"\n",
    "    n_gram_list = []\n",
    "\n",
    "    for excerpt in excerpt_list:\n",
    "        # Remove spaces\n",
    "        excerpt = excerpt.replace(\" \", \"\")\n",
    "\n",
    "        # Extract n-grams           \n",
    "        n_grams = [excerpt[i:i + n] for i in range(len(excerpt) - n + 1)]\n",
    "\n",
    "        # Create list of n-grams\n",
    "        gram_len = len(n_grams)\n",
    "        if gram_len >= seq_size:\n",
    "            n_grams = n_grams[0:seq_size]\n",
    "        else:\n",
    "            diff = seq_size - gram_len\n",
    "            extra = [0]*diff\n",
    "            n_grams = n_grams + extra\n",
    "        \n",
    "        n_gram_list.append(n_grams)\n",
    "    \n",
    "    # Flatten n-gram list\n",
    "    n_gram_list = list(np.array(n_gram_list).flat)\n",
    "    \n",
    "    # Calculate vocab size\n",
    "    n_gram_cnt = Counter(n_gram_list)\n",
    "    vocab_size = len(n_gram_cnt)\n",
    "    \n",
    "    return vocab_size"
   ]
  },
  {
   "cell_type": "code",
   "execution_count": 174,
   "id": "7d61582e",
   "metadata": {},
   "outputs": [
    {
     "name": "stdout",
     "output_type": "stream",
     "text": [
      "Vocab size for n = 1 is: 109\n",
      "Vocab size for n = 2 is: 1577\n",
      "Vocab size for n = 3 is: 11562\n"
     ]
    }
   ],
   "source": [
    "# Determine vocab sizes\n",
    "\n",
    "for i in range(1, 4):\n",
    "    vocab_size = get_vocab_size(text_train, i, 350)\n",
    "    print('Vocab size for n =', i, 'is:', vocab_size)"
   ]
  },
  {
   "cell_type": "code",
   "execution_count": 175,
   "id": "ed3f172b",
   "metadata": {},
   "outputs": [
    {
     "name": "stdout",
     "output_type": "stream",
     "text": [
      "(986, 350)\n",
      "(986, 350)\n",
      "(986, 350)\n",
      "(247, 350)\n",
      "(247, 350)\n",
      "(247, 350)\n"
     ]
    }
   ],
   "source": [
    "# Create n-gram lists\n",
    "gram1_train = create_n_grams(text_train, 1, 51, 350)\n",
    "gram2_train = create_n_grams(text_train, 2, 966, 350)\n",
    "gram3_train = create_n_grams(text_train, 3, 9521, 350)\n",
    "\n",
    "gram1_test = create_n_grams(text_test, 1, 51, 350)\n",
    "gram2_test = create_n_grams(text_test, 2, 966, 350)\n",
    "gram3_test = create_n_grams(text_test, 3, 9521, 350)\n",
    "\n",
    "print(np.shape(gram1_train))\n",
    "print(np.shape(gram2_train))\n",
    "print(np.shape(gram3_train))\n",
    "\n",
    "print(np.shape(gram1_test))\n",
    "print(np.shape(gram2_test))\n",
    "print(np.shape(gram3_test))"
   ]
  },
  {
   "cell_type": "code",
   "execution_count": 176,
   "id": "e500b1fe",
   "metadata": {},
   "outputs": [
    {
     "name": "stdout",
     "output_type": "stream",
     "text": [
      "Maximum encoding value for 1-grams is:  64\n",
      "Maximum encoding value for 2-grams is:  1255\n",
      "Maximum encoding value for 3-grams is:  12376\n"
     ]
    }
   ],
   "source": [
    "# Determine maximum value of n-gram encodings (this is used to set the CNN embedding dimension)\n",
    "max_1gram = np.max(gram1_train)\n",
    "max_2gram = np.max(gram2_train)\n",
    "max_3gram = np.max(gram3_train)\n",
    "\n",
    "print('Maximum encoding value for 1-grams is: ', max_1gram)\n",
    "print('Maximum encoding value for 2-grams is: ', max_2gram)\n",
    "print('Maximum encoding value for 3-grams is: ', max_3gram)"
   ]
  },
  {
   "cell_type": "code",
   "execution_count": 177,
   "id": "e70758cf",
   "metadata": {},
   "outputs": [],
   "source": [
    "def process_data(excerpt_list):\n",
    "    \"\"\"Stem data, remove stopwords and split into word lists\n",
    "    \n",
    "    Args:\n",
    "    excerpt_list: list of strings. List of normalized text excerpts.\n",
    "    \n",
    "    Returns:\n",
    "    processed: list of strings. List of lists of processed text excerpts (stemmed and stop words removed).\n",
    "    \"\"\"\n",
    "    stop_words = set(stopwords.words('english'))\n",
    "    porter = PorterStemmer()\n",
    "    \n",
    "    processed = []\n",
    "    \n",
    "    for excerpt in excerpt_list:\n",
    "        new = excerpt.split()\n",
    "        word_list = [porter.stem(w) for w in new if not w in stop_words]\n",
    "        word_list = \" \".join(word_list)\n",
    "        processed.append(word_list)\n",
    "    \n",
    "    return processed"
   ]
  },
  {
   "cell_type": "code",
   "execution_count": 178,
   "id": "680d98b2",
   "metadata": {},
   "outputs": [
    {
     "name": "stdout",
     "output_type": "stream",
     "text": [
      "['muzlifollowjun 14 2016·3 min readsavemoviecinema ui inspirationvia muzli design inspirationday 085 — cinema applic paul flaviu nechitamovi applic ui ricardo salazarmovi storylin david paciliomedia librari julia khusainovamovi applic alex banaganetflix rework viktor hoftecinema applic malt westedtcinema app giga tamarashvilitv show app aryana shakibaeimovi app ui sketch freebi λνøffdaili ui 025 — tv app shab majeedmovi applic arvinmovi card balajicinema app angelika omertheat ticket app filip marceloendur tomasz chrostekday 006 — cinema io app giovanni xucinema applic worawalunsday 85 — cinema applic benc vitariusmovi applic ananasonokko new product smart tv serega mekrukovmovi applic danielimdb design concept georg vasyagin awesomedexplor movi stream dwinawan hariwijayamovium vilém riesweb onlin serial andrej krajčirtivibu concept gülçin gümüşnetflix explor bart ebbekinkmobil version movi list like dislik movi prakhar neel sharmamovi list ionut zamfir', 'consensysfollowdec 23 2015·5 min read16 blockchain technolog predict 2016a 2015 come end extrem thank pure educ i’v receiv colleagu consensi pleas enjoy 16 predict decentr technolog sector 2016mani use term blockchain distribut ledger may learn actual meant ethereum ethereum begin demonstr power less effort requir protocol given success version 10 releas juli 31st 2015 develop focus decentr applic moreov ethereum browser like meta mask mist uport wallet selfsovereign ident portal usabl 995 world aren’t comput programm averag user access ethereum via commandlin price ether 115 februari 29 2016scalabl take promin holi grail public blockchain technolog ethereum establish clear leader regard bitcoin sidechain lightn network requir deep protocol chang could take long time implement system like hyperledg scalabl don’t gener decentr smart contract capabl ethereum state channel raiden network solut similar flexibl lightn network offblockchain transact like micropay blockchainbas apparatu requir make solut work smart contract mechan avail soon ethereum ethereum work year replac slow wast proof work consensu format algorithm proof stake system mani better featur also year ethereum work solut shard address space enabl subset transact valid process subset transact time frame ethereum — present capabl 25 transact per second tp — danger bump difficult scale issu soon abl handl mani tp ethereum version 20 level commensur visa american express network occur expect technolog giant like ibm use ethereum backbon internet thing platformshop year learn blockchain buzzword 2016 smart contract merkl tree proofofstakepriv public blockchain coexist idea integr privat semipriv consortium blockchain solut grow promin busi solut splay public ethereum networkther educ internet broken interplanetaryfilesystem ipf begin eat world2016 year blockchain program 101 proof concept poc minim viabl product mvp blockchain exampl fortun 500 companiesthes aforement poc’ mvp’ hous blockchainasaservic cloud like microsoft azur cloud provid safe place develop wrap head around creat smart contract appli corporation’ pain point enterpris learn valu haskel client truli scalabl privat consortium solutionregul come understand blockchain technolog new best friend recent financi crisi cftc regul enact collater rule unclear swap transact rule embed smart contract autom collater rebalanc system ensur regulatori adher transpar imagin regul abil see swap posit across counter parti collater support realtim crisislaw firm begin write smart contract place tradit contractsw learn self sovereign digit ident ident spearhead progress thinker like joseph lubin christian lundkvist vinay guptabitcoin continu rel small currenc although price continu rise due halv continu chines interest bitcoin continu use excel transfer valu protocol much els coinbas may becom first blockchain unicorn price bitcoin 475 februari 29th 2016bank continu file patent build intern even though may part consortiumlinux foundation’ openledg project begin facilit evolut blockchain technolog effici manner possibl opensourc developmentgovern begin realiz potenti blockchain technolog wide use case rang titl registri identityblockchain hype die peopl wrap head around technolog begin understand could disrupt … everythingal us blockchain sector learn better healthi dose humil ceo’ banker account attorney learn much digest respect technolog comput scientist learn may outsourc legal account busi develop execut skill hope learn art compar advantag compromis interperson trust build trustless technolog expedit next big thingonward upwardandrew keysal predict opinion necessarili consensysupd decemb 2016 team consensi put togeth retrospect analysi predict featur articl read', 'muzlifollownov 2 2015·2 min readsavemobil interact week 1via muzlidesign breakfastmuzli newtab chrome extens becom home page don’\\x80\\x99t miss anyth', 'extremetechfollowjan 19 2021·3 min readnasa give insight’ burrow mar heat probebi ryan whitwamnasa’ insight lander studi red planet two year time insight beam back data planet’ seismic activ weather even sound blow wind also suppos relay data planet’ intern temperatur nasa announc it’ give endeavor being…', 'nick babichfollowmar 26 2016·6 min readsaveimag sourc materialupus cardbas design enhanc uxbi nick babichweb mobil app move away page toward complet person experi experi built aggreg mani individu piec content card quickli becom new creativ concept concept stay us long timewhat cardscard littl rectangl full inclus imag text serv entri point detail inform help design balanc good interfac aesthet good usabl card also conveni use display content compos differ elementsexampl card sourc materi designexcel metaphorsdigit card look almost like realworld tangibl card peopl love format—w use busi card basebal card play card forth fact make ui card even intuit user — user know card repres piec content like real lifecard great tool commun quick stori basebal card good exampl reallif object basic inform need know player contain side small cardeach card repres player imag sourc liveauctiongroupcont organizationcard divid content meaning section occupi less screen space wellcraft card gather variou piec inform form one coher piec contentcard collect exampl sourc materi designcard layout came forefront design giant like facebook googl adopt carddriven interfac product facebook use advantag containerstyl design group togeth variou type inform everyth text videovisu pleasingcardbas design usual heavi reli visual go heavi imag strength cardbas design studi confirm imag use properli posit impact design— imag draw user’ eye effici immedi emphasi use imag make cardbas design attract userstak look dribbl wellknown site onlin creativ commun showcas design artwork cardbas design realli suitabl way present type contentdribbbl web sitehow design cardcard flexibl object size card vari depend platform—y use larger card desktop smaller card mobil card also expand display addit informationcard fix variabl height origin imag sourc intercomfrom design point view it’ recommend use card round color use subtl shadow round corner pleas eye make card look like physic card shadow give impress depth element add nice visual touch design without becom distractionround corner short shadow sourc materi designin addit take advantag anim movementimag sourc behancecard advantagesimpl correctli card improv ux aspect app due funcion shape add interest ui element intuit usedigest formw know content king product salut king place content card make digest user easili access content interest empow user engag way wantthi card collect contain card vari content type sourc materi designrespons mobil designth import thing card almost infinit manipulat cardstyl design work good desktop mobil devic card content contain easili scale downlast least card aid omnichannel experience—they make easier creat singl aesthet rang platform easi creat consist experi regardless devicedesign thumb mind mobileth signific part popular card way card work mobil look like card style design special app good thumb make experi extrem comfortableswip right sourc dribblewher usestreamcard appear stream creat natur timelin event think facebook use card present quick overview recent event news feed facebook’ news feed endless stream wherea card individualdiscoverycard allow relev content natur reveal allow user dive deep interest take look tinder card pattern swipe right left reveal peopl match tastesimag sourc tinderpinterest use pin dynam masonrylik grid layout organ content engag user addict browsingwhat two servic common they’r pull inform servic make relev momentdialogssinc card content contain they’r perfect repres action primari action card typic card consid airdrop servic appl devic incom request data transfer card popsup notif accept declin transfery singl action matter choic make imag sourc appleworkflowcard easili categor scope task great exampl usecas trello borrow kanban product manag techniqu base entir card trello board canva fill card repres separ taskimag sourc joelonsoftwaredon’t use cardschalleng homogen contentwhil card use homogen content mani case it’ better use quickli scannabl list grid instead card simpli ui less complexleft use card distract user abl quickli scan imag sourc materi designfor reason card also unnecessari galleri imag grid tile clean lightweight way present galleri imag see exampl belowleft use card imag right use grid list sourc materi designchalleng larg screen sizecardbas inform design may work well small screen larg screen thing brilliant pinterest page larg screen visual cardbas layout look great start read card notic read comprehens lowconclusioni hope you‘v got good feel cardstyl design increas popular believ trend won’t die time soon card aren’t easi eye one flexibl layout format creat consist experiencesthank youfollow ux planet twitter facebookorigin publish babichbiz']\n"
     ]
    }
   ],
   "source": [
    "# Process data subsets\n",
    "processed_train = process_data(text_train)\n",
    "processed_test = process_data(text_test)\n",
    "\n",
    "print(processed_train[0:5])"
   ]
  },
  {
   "cell_type": "code",
   "execution_count": 179,
   "id": "14afe179",
   "metadata": {},
   "outputs": [
    {
     "name": "stdout",
     "output_type": "stream",
     "text": [
      "Vocabulary size:  4388\n"
     ]
    }
   ],
   "source": [
    "# Create bag of words features\n",
    "## Fit Tfidf Vectorizer\n",
    "vectorizer = TfidfVectorizer(strip_accents = 'ascii', stop_words = 'english', min_df = 6)\n",
    "vectorizer.fit(processed_train)\n",
    "\n",
    "# Get size of vocabulary\n",
    "print('Vocabulary size: ', len(vectorizer.vocabulary_))\n",
    "\n",
    "# Create feature vectors\n",
    "words_train = vectorizer.transform(processed_train)\n",
    "words_test = vectorizer.transform(processed_test)\n"
   ]
  },
  {
   "cell_type": "code",
   "execution_count": 180,
   "id": "12a38c31",
   "metadata": {},
   "outputs": [],
   "source": [
    "# One hot encode labels\n",
    "author_lb = LabelBinarizer()\n",
    "\n",
    "author_lb.fit(author_train)\n",
    "author_train_hot = author_lb.transform(author_train)\n",
    "author_test_hot = author_lb.transform(author_test)"
   ]
  },
  {
   "cell_type": "code",
   "execution_count": 181,
   "id": "074d56bc",
   "metadata": {},
   "outputs": [],
   "source": [
    "# Define model architecture in keras\n",
    "# Code reference: https://machinelearningmastery.com/develop-n-gram-multichannel-convolutional-neural-network-sentiment-analysis/\n",
    "def define_model(input_len, output_size, vocab_size, embedding_dim, verbose = True,\n",
    "                drop_out_pct = 0.25, conv_filters = 500, activation_fn = 'relu', pool_size = 2, learning = 0.0001):\n",
    "    \"\"\"Define n-gram CNN\n",
    "    \n",
    "    Args:\n",
    "    input_len: int. Length of input sequences.\n",
    "    output_size: int. Number of output classes.\n",
    "    vocab_size: int. Maximum value of n-gram encoding.\n",
    "    embedding_dim: int. Size of embedding layer.\n",
    "    verbose: bool. Whether or not to print model summary.\n",
    "    drop_out_pct: float. Drop-out rate.\n",
    "    conv_filters: int. Number of filters in the conv layer.\n",
    "    activation_fn: string. Activation function to use in the convolutional layer.\n",
    "    pool_size: int. Pool size for the max pooling layer.\n",
    "    learning: float. Learning rate for the model optimizer.\n",
    "    \n",
    "    Returns:\n",
    "    model: keras model object. \n",
    "    \"\"\"\n",
    "    # Channel 1\n",
    "    inputs1 = Input(shape = (input_len,))\n",
    "    embedding1 = Embedding(vocab_size, embedding_dim)(inputs1)\n",
    "    drop1 = Dropout(drop_out_pct)(embedding1)\n",
    "    conv1 = Conv1D(filters = conv_filters, kernel_size = 3, activation = activation_fn)(drop1)\n",
    "    pool1 = MaxPooling1D(pool_size = pool_size)(conv1)\n",
    "    flat1 = Flatten()(pool1)\n",
    "    \n",
    "    # Channel 2\n",
    "    inputs2 = Input(shape = (input_len,))\n",
    "    embedding2 = Embedding(vocab_size, embedding_dim)(inputs2)\n",
    "    drop2 = Dropout(drop_out_pct)(embedding2)\n",
    "    conv2 = Conv1D(filters = conv_filters, kernel_size = 4, activation = activation_fn)(drop2)\n",
    "    pool2 = MaxPooling1D(pool_size = pool_size)(conv2)\n",
    "    flat2 = Flatten()(pool2)\n",
    "\n",
    "    # Channel 3\n",
    "    inputs3 = Input(shape = (input_len,))\n",
    "    embedding3= Embedding(vocab_size, embedding_dim)(inputs3)\n",
    "    drop3 = Dropout(drop_out_pct)(embedding3)\n",
    "    conv3 = Conv1D(filters = conv_filters, kernel_size = 5, activation = activation_fn)(drop3)\n",
    "    pool3 = MaxPooling1D(pool_size = pool_size)(conv3)\n",
    "    flat3 = Flatten()(pool3)\n",
    "    \n",
    "    # Merge channels\n",
    "    merged = concatenate([flat1, flat2, flat3])\n",
    "    \n",
    "    # Create output layer\n",
    "    output = Dense(output_size, activation = 'softmax')(merged)\n",
    "    \n",
    "    # Create model\n",
    "    model = Model(inputs = [inputs1, inputs2, inputs3], outputs = output)\n",
    "    \n",
    "    # Compile model\n",
    "    model.compile(loss='categorical_crossentropy', optimizer = Adam(lr = learning), metrics=['accuracy'])\n",
    "    \n",
    "    if verbose:\n",
    "        print(model.summary())\n",
    "        \n",
    "    return model"
   ]
  },
  {
   "cell_type": "code",
   "execution_count": 182,
   "id": "78993471",
   "metadata": {},
   "outputs": [
    {
     "name": "stdout",
     "output_type": "stream",
     "text": [
      "Model: \"model_19\"\n",
      "__________________________________________________________________________________________________\n",
      " Layer (type)                   Output Shape         Param #     Connected to                     \n",
      "==================================================================================================\n",
      " input_60 (InputLayer)          [(None, 350)]        0           []                               \n",
      "                                                                                                  \n",
      " input_61 (InputLayer)          [(None, 350)]        0           []                               \n",
      "                                                                                                  \n",
      " input_62 (InputLayer)          [(None, 350)]        0           []                               \n",
      "                                                                                                  \n",
      " embedding_59 (Embedding)       (None, 350, 26)      1690        ['input_60[0][0]']               \n",
      "                                                                                                  \n",
      " embedding_60 (Embedding)       (None, 350, 26)      1690        ['input_61[0][0]']               \n",
      "                                                                                                  \n",
      " embedding_61 (Embedding)       (None, 350, 26)      1690        ['input_62[0][0]']               \n",
      "                                                                                                  \n",
      " dropout_59 (Dropout)           (None, 350, 26)      0           ['embedding_59[0][0]']           \n",
      "                                                                                                  \n",
      " dropout_60 (Dropout)           (None, 350, 26)      0           ['embedding_60[0][0]']           \n",
      "                                                                                                  \n",
      " dropout_61 (Dropout)           (None, 350, 26)      0           ['embedding_61[0][0]']           \n",
      "                                                                                                  \n",
      " conv1d_59 (Conv1D)             (None, 348, 500)     39500       ['dropout_59[0][0]']             \n",
      "                                                                                                  \n",
      " conv1d_60 (Conv1D)             (None, 347, 500)     52500       ['dropout_60[0][0]']             \n",
      "                                                                                                  \n",
      " conv1d_61 (Conv1D)             (None, 346, 500)     65500       ['dropout_61[0][0]']             \n",
      "                                                                                                  \n",
      " max_pooling1d_59 (MaxPooling1D  (None, 174, 500)    0           ['conv1d_59[0][0]']              \n",
      " )                                                                                                \n",
      "                                                                                                  \n",
      " max_pooling1d_60 (MaxPooling1D  (None, 173, 500)    0           ['conv1d_60[0][0]']              \n",
      " )                                                                                                \n",
      "                                                                                                  \n",
      " max_pooling1d_61 (MaxPooling1D  (None, 173, 500)    0           ['conv1d_61[0][0]']              \n",
      " )                                                                                                \n",
      "                                                                                                  \n",
      " flatten_59 (Flatten)           (None, 87000)        0           ['max_pooling1d_59[0][0]']       \n",
      "                                                                                                  \n",
      " flatten_60 (Flatten)           (None, 86500)        0           ['max_pooling1d_60[0][0]']       \n",
      "                                                                                                  \n",
      " flatten_61 (Flatten)           (None, 86500)        0           ['max_pooling1d_61[0][0]']       \n",
      "                                                                                                  \n",
      " concatenate_19 (Concatenate)   (None, 260000)       0           ['flatten_59[0][0]',             \n",
      "                                                                  'flatten_60[0][0]',             \n",
      "                                                                  'flatten_61[0][0]']             \n",
      "                                                                                                  \n",
      " dense_19 (Dense)               (None, 10)           2600010     ['concatenate_19[0][0]']         \n",
      "                                                                                                  \n",
      "==================================================================================================\n",
      "Total params: 2,762,580\n",
      "Trainable params: 2,762,580\n",
      "Non-trainable params: 0\n",
      "__________________________________________________________________________________________________\n",
      "None\n"
     ]
    },
    {
     "name": "stderr",
     "output_type": "stream",
     "text": [
      "/Users/roy/miniconda3/envs/medium_project/lib/python3.8/site-packages/keras/optimizer_v2/adam.py:105: UserWarning: The `lr` argument is deprecated, use `learning_rate` instead.\n",
      "  super(Adam, self).__init__(name, **kwargs)\n"
     ]
    }
   ],
   "source": [
    "# Create the 1-gram model\n",
    "gram1_model = define_model(350, 10, max_1gram + 1, 26)"
   ]
  },
  {
   "cell_type": "code",
   "execution_count": 183,
   "id": "607bf747",
   "metadata": {},
   "outputs": [
    {
     "name": "stdout",
     "output_type": "stream",
     "text": [
      "Epoch 1/10\n",
      "25/25 [==============================] - 5s 162ms/step - loss: 2.1878 - accuracy: 0.2284 - val_loss: 2.0925 - val_accuracy: 0.3838\n",
      "Epoch 2/10\n",
      "25/25 [==============================] - 4s 150ms/step - loss: 1.8993 - accuracy: 0.5025 - val_loss: 1.8113 - val_accuracy: 0.5354\n",
      "Epoch 3/10\n",
      "25/25 [==============================] - 4s 158ms/step - loss: 1.4960 - accuracy: 0.6764 - val_loss: 1.4098 - val_accuracy: 0.8384\n",
      "Epoch 4/10\n",
      "25/25 [==============================] - 4s 158ms/step - loss: 0.9997 - accuracy: 0.9239 - val_loss: 0.9772 - val_accuracy: 0.8788\n",
      "Epoch 5/10\n",
      "25/25 [==============================] - 4s 155ms/step - loss: 0.5716 - accuracy: 0.9721 - val_loss: 0.6597 - val_accuracy: 0.8384\n",
      "Epoch 6/10\n",
      "25/25 [==============================] - 4s 160ms/step - loss: 0.3050 - accuracy: 0.9975 - val_loss: 0.4100 - val_accuracy: 0.9949\n",
      "Epoch 7/10\n",
      "25/25 [==============================] - 4s 160ms/step - loss: 0.1767 - accuracy: 0.9987 - val_loss: 0.2747 - val_accuracy: 1.0000\n",
      "Epoch 8/10\n",
      "25/25 [==============================] - 4s 157ms/step - loss: 0.1085 - accuracy: 0.9987 - val_loss: 0.2007 - val_accuracy: 1.0000\n",
      "Epoch 9/10\n",
      "25/25 [==============================] - 4s 156ms/step - loss: 0.0740 - accuracy: 0.9987 - val_loss: 0.1620 - val_accuracy: 1.0000\n",
      "Epoch 10/10\n",
      "25/25 [==============================] - 4s 156ms/step - loss: 0.0523 - accuracy: 1.0000 - val_loss: 0.1563 - val_accuracy: 0.9949\n"
     ]
    },
    {
     "data": {
      "text/plain": [
       "<keras.callbacks.History at 0x7fa62ee4ae20>"
      ]
     },
     "execution_count": 183,
     "metadata": {},
     "output_type": "execute_result"
    }
   ],
   "source": [
    "# Train 1-gram CNN\n",
    "gram1_model.fit([gram1_train, gram1_train, gram1_train], author_train_hot, epochs=10, batch_size=32, \n",
    "                verbose = 1, validation_split = 0.2)"
   ]
  },
  {
   "cell_type": "code",
   "execution_count": 184,
   "id": "63860105",
   "metadata": {},
   "outputs": [
    {
     "name": "stdout",
     "output_type": "stream",
     "text": [
      "Model: \"model_20\"\n",
      "__________________________________________________________________________________________________\n",
      " Layer (type)                   Output Shape         Param #     Connected to                     \n",
      "==================================================================================================\n",
      " input_63 (InputLayer)          [(None, 350)]        0           []                               \n",
      "                                                                                                  \n",
      " input_64 (InputLayer)          [(None, 350)]        0           []                               \n",
      "                                                                                                  \n",
      " input_65 (InputLayer)          [(None, 350)]        0           []                               \n",
      "                                                                                                  \n",
      " embedding_62 (Embedding)       (None, 350, 300)     376800      ['input_63[0][0]']               \n",
      "                                                                                                  \n",
      " embedding_63 (Embedding)       (None, 350, 300)     376800      ['input_64[0][0]']               \n",
      "                                                                                                  \n",
      " embedding_64 (Embedding)       (None, 350, 300)     376800      ['input_65[0][0]']               \n",
      "                                                                                                  \n",
      " dropout_62 (Dropout)           (None, 350, 300)     0           ['embedding_62[0][0]']           \n",
      "                                                                                                  \n",
      " dropout_63 (Dropout)           (None, 350, 300)     0           ['embedding_63[0][0]']           \n",
      "                                                                                                  \n",
      " dropout_64 (Dropout)           (None, 350, 300)     0           ['embedding_64[0][0]']           \n",
      "                                                                                                  \n",
      " conv1d_62 (Conv1D)             (None, 348, 500)     450500      ['dropout_62[0][0]']             \n",
      "                                                                                                  \n",
      " conv1d_63 (Conv1D)             (None, 347, 500)     600500      ['dropout_63[0][0]']             \n",
      "                                                                                                  \n",
      " conv1d_64 (Conv1D)             (None, 346, 500)     750500      ['dropout_64[0][0]']             \n",
      "                                                                                                  \n",
      " max_pooling1d_62 (MaxPooling1D  (None, 174, 500)    0           ['conv1d_62[0][0]']              \n",
      " )                                                                                                \n",
      "                                                                                                  \n",
      " max_pooling1d_63 (MaxPooling1D  (None, 173, 500)    0           ['conv1d_63[0][0]']              \n",
      " )                                                                                                \n",
      "                                                                                                  \n",
      " max_pooling1d_64 (MaxPooling1D  (None, 173, 500)    0           ['conv1d_64[0][0]']              \n",
      " )                                                                                                \n",
      "                                                                                                  \n",
      " flatten_62 (Flatten)           (None, 87000)        0           ['max_pooling1d_62[0][0]']       \n",
      "                                                                                                  \n",
      " flatten_63 (Flatten)           (None, 86500)        0           ['max_pooling1d_63[0][0]']       \n",
      "                                                                                                  \n",
      " flatten_64 (Flatten)           (None, 86500)        0           ['max_pooling1d_64[0][0]']       \n",
      "                                                                                                  \n",
      " concatenate_20 (Concatenate)   (None, 260000)       0           ['flatten_62[0][0]',             \n",
      "                                                                  'flatten_63[0][0]',             \n",
      "                                                                  'flatten_64[0][0]']             \n",
      "                                                                                                  \n",
      " dense_20 (Dense)               (None, 10)           2600010     ['concatenate_20[0][0]']         \n",
      "                                                                                                  \n",
      "==================================================================================================\n",
      "Total params: 5,531,910\n",
      "Trainable params: 5,531,910\n",
      "Non-trainable params: 0\n",
      "__________________________________________________________________________________________________\n",
      "None\n"
     ]
    }
   ],
   "source": [
    "# Create the 2-gram model\n",
    "gram2_model = define_model(350, 10, max_2gram + 1, 300)"
   ]
  },
  {
   "cell_type": "code",
   "execution_count": 185,
   "id": "0fc4839e",
   "metadata": {},
   "outputs": [
    {
     "name": "stdout",
     "output_type": "stream",
     "text": [
      "Epoch 1/10\n",
      "25/25 [==============================] - 17s 622ms/step - loss: 2.0753 - accuracy: 0.3706 - val_loss: 1.8189 - val_accuracy: 0.6212\n",
      "Epoch 2/10\n",
      "25/25 [==============================] - 17s 668ms/step - loss: 1.3789 - accuracy: 0.8122 - val_loss: 1.2471 - val_accuracy: 0.7576\n",
      "Epoch 3/10\n",
      "25/25 [==============================] - 22s 896ms/step - loss: 0.6960 - accuracy: 0.9721 - val_loss: 0.5997 - val_accuracy: 1.0000\n",
      "Epoch 4/10\n",
      "25/25 [==============================] - 17s 702ms/step - loss: 0.2681 - accuracy: 0.9987 - val_loss: 0.3034 - val_accuracy: 1.0000\n",
      "Epoch 5/10\n",
      "25/25 [==============================] - 17s 678ms/step - loss: 0.1128 - accuracy: 0.9987 - val_loss: 0.1872 - val_accuracy: 1.0000\n",
      "Epoch 6/10\n",
      "25/25 [==============================] - 17s 698ms/step - loss: 0.0603 - accuracy: 0.9987 - val_loss: 0.1275 - val_accuracy: 1.0000\n",
      "Epoch 7/10\n",
      "25/25 [==============================] - 16s 644ms/step - loss: 0.0380 - accuracy: 0.9987 - val_loss: 0.0996 - val_accuracy: 1.0000\n",
      "Epoch 8/10\n",
      "25/25 [==============================] - 16s 643ms/step - loss: 0.0263 - accuracy: 0.9987 - val_loss: 0.0780 - val_accuracy: 1.0000\n",
      "Epoch 9/10\n",
      "25/25 [==============================] - 16s 650ms/step - loss: 0.0194 - accuracy: 1.0000 - val_loss: 0.0669 - val_accuracy: 1.0000\n",
      "Epoch 10/10\n",
      "25/25 [==============================] - 16s 638ms/step - loss: 0.0147 - accuracy: 1.0000 - val_loss: 0.0523 - val_accuracy: 1.0000\n"
     ]
    },
    {
     "data": {
      "text/plain": [
       "<keras.callbacks.History at 0x7fa65d5110d0>"
      ]
     },
     "execution_count": 185,
     "metadata": {},
     "output_type": "execute_result"
    }
   ],
   "source": [
    "# Train 2-gram CNN\n",
    "gram2_model.fit([gram2_train, gram2_train, gram2_train], author_train_hot, epochs=10, batch_size=32, \n",
    "                verbose = 1, validation_split = 0.2)"
   ]
  },
  {
   "cell_type": "code",
   "execution_count": 186,
   "id": "a0d39371",
   "metadata": {},
   "outputs": [
    {
     "name": "stdout",
     "output_type": "stream",
     "text": [
      "Model: \"model_21\"\n",
      "__________________________________________________________________________________________________\n",
      " Layer (type)                   Output Shape         Param #     Connected to                     \n",
      "==================================================================================================\n",
      " input_66 (InputLayer)          [(None, 350)]        0           []                               \n",
      "                                                                                                  \n",
      " input_67 (InputLayer)          [(None, 350)]        0           []                               \n",
      "                                                                                                  \n",
      " input_68 (InputLayer)          [(None, 350)]        0           []                               \n",
      "                                                                                                  \n",
      " embedding_65 (Embedding)       (None, 350, 600)     7426200     ['input_66[0][0]']               \n",
      "                                                                                                  \n",
      " embedding_66 (Embedding)       (None, 350, 600)     7426200     ['input_67[0][0]']               \n",
      "                                                                                                  \n",
      " embedding_67 (Embedding)       (None, 350, 600)     7426200     ['input_68[0][0]']               \n",
      "                                                                                                  \n",
      " dropout_65 (Dropout)           (None, 350, 600)     0           ['embedding_65[0][0]']           \n",
      "                                                                                                  \n",
      " dropout_66 (Dropout)           (None, 350, 600)     0           ['embedding_66[0][0]']           \n",
      "                                                                                                  \n",
      " dropout_67 (Dropout)           (None, 350, 600)     0           ['embedding_67[0][0]']           \n",
      "                                                                                                  \n",
      " conv1d_65 (Conv1D)             (None, 348, 500)     900500      ['dropout_65[0][0]']             \n",
      "                                                                                                  \n",
      " conv1d_66 (Conv1D)             (None, 347, 500)     1200500     ['dropout_66[0][0]']             \n",
      "                                                                                                  \n",
      " conv1d_67 (Conv1D)             (None, 346, 500)     1500500     ['dropout_67[0][0]']             \n",
      "                                                                                                  \n",
      " max_pooling1d_65 (MaxPooling1D  (None, 174, 500)    0           ['conv1d_65[0][0]']              \n",
      " )                                                                                                \n",
      "                                                                                                  \n",
      " max_pooling1d_66 (MaxPooling1D  (None, 173, 500)    0           ['conv1d_66[0][0]']              \n",
      " )                                                                                                \n",
      "                                                                                                  \n",
      " max_pooling1d_67 (MaxPooling1D  (None, 173, 500)    0           ['conv1d_67[0][0]']              \n",
      " )                                                                                                \n",
      "                                                                                                  \n",
      " flatten_65 (Flatten)           (None, 87000)        0           ['max_pooling1d_65[0][0]']       \n",
      "                                                                                                  \n",
      " flatten_66 (Flatten)           (None, 86500)        0           ['max_pooling1d_66[0][0]']       \n",
      "                                                                                                  \n",
      " flatten_67 (Flatten)           (None, 86500)        0           ['max_pooling1d_67[0][0]']       \n",
      "                                                                                                  \n",
      " concatenate_21 (Concatenate)   (None, 260000)       0           ['flatten_65[0][0]',             \n",
      "                                                                  'flatten_66[0][0]',             \n",
      "                                                                  'flatten_67[0][0]']             \n",
      "                                                                                                  \n",
      " dense_21 (Dense)               (None, 10)           2600010     ['concatenate_21[0][0]']         \n",
      "                                                                                                  \n",
      "==================================================================================================\n",
      "Total params: 28,480,110\n",
      "Trainable params: 28,480,110\n",
      "Non-trainable params: 0\n",
      "__________________________________________________________________________________________________\n",
      "None\n"
     ]
    }
   ],
   "source": [
    "# Create the 3-gram model\n",
    "gram3_model = define_model(350, 10, max_3gram + 1, 600)"
   ]
  },
  {
   "cell_type": "code",
   "execution_count": 187,
   "id": "7877f6e8",
   "metadata": {},
   "outputs": [
    {
     "name": "stdout",
     "output_type": "stream",
     "text": [
      "Epoch 1/10\n",
      "25/25 [==============================] - 33s 1s/step - loss: 1.9969 - accuracy: 0.4124 - val_loss: 1.6273 - val_accuracy: 0.6465\n",
      "Epoch 2/10\n",
      "25/25 [==============================] - 32s 1s/step - loss: 1.0929 - accuracy: 0.8744 - val_loss: 0.9692 - val_accuracy: 0.8737\n",
      "Epoch 3/10\n",
      "25/25 [==============================] - 32s 1s/step - loss: 0.4282 - accuracy: 0.9810 - val_loss: 0.4166 - val_accuracy: 0.9949\n",
      "Epoch 4/10\n",
      "25/25 [==============================] - 32s 1s/step - loss: 0.1418 - accuracy: 0.9987 - val_loss: 0.1938 - val_accuracy: 1.0000\n",
      "Epoch 5/10\n",
      "25/25 [==============================] - 32s 1s/step - loss: 0.0639 - accuracy: 0.9987 - val_loss: 0.1147 - val_accuracy: 1.0000\n",
      "Epoch 6/10\n",
      "25/25 [==============================] - 33s 1s/step - loss: 0.0365 - accuracy: 0.9987 - val_loss: 0.0885 - val_accuracy: 1.0000\n",
      "Epoch 7/10\n",
      "25/25 [==============================] - 31s 1s/step - loss: 0.0235 - accuracy: 1.0000 - val_loss: 0.0694 - val_accuracy: 1.0000\n",
      "Epoch 8/10\n",
      "25/25 [==============================] - 31s 1s/step - loss: 0.0167 - accuracy: 1.0000 - val_loss: 0.0590 - val_accuracy: 1.0000\n",
      "Epoch 9/10\n",
      "25/25 [==============================] - 34s 1s/step - loss: 0.0124 - accuracy: 1.0000 - val_loss: 0.0482 - val_accuracy: 1.0000\n",
      "Epoch 10/10\n",
      "25/25 [==============================] - 32s 1s/step - loss: 0.0097 - accuracy: 1.0000 - val_loss: 0.0409 - val_accuracy: 1.0000\n"
     ]
    },
    {
     "data": {
      "text/plain": [
       "<keras.callbacks.History at 0x7fa72cd32ac0>"
      ]
     },
     "execution_count": 187,
     "metadata": {},
     "output_type": "execute_result"
    }
   ],
   "source": [
    "# Train 3-gram CNN\n",
    "gram3_model.fit([gram3_train, gram3_train, gram3_train], author_train_hot, epochs=10, batch_size=32, \n",
    "                verbose = 1, validation_split = 0.2)"
   ]
  },
  {
   "cell_type": "code",
   "execution_count": 188,
   "id": "4d42f594",
   "metadata": {},
   "outputs": [],
   "source": [
    "# Define grid search object\n",
    "svm = SVC()\n",
    "params = {'kernel': ['linear'], 'C':[1, 10, 100]}\n",
    "scorer = make_scorer(accuracy_score)\n",
    "\n",
    "grid_obj = GridSearchCV(svm, params, scoring = scorer, verbose = 50)"
   ]
  },
  {
   "cell_type": "code",
   "execution_count": 189,
   "id": "637f25b8",
   "metadata": {},
   "outputs": [
    {
     "name": "stdout",
     "output_type": "stream",
     "text": [
      "Fitting 5 folds for each of 3 candidates, totalling 15 fits\n",
      "[CV 1/5; 1/3] START C=1, kernel=linear..........................................\n",
      "[CV 1/5; 1/3] END ...........C=1, kernel=linear;, score=0.970 total time=   0.9s\n",
      "[CV 2/5; 1/3] START C=1, kernel=linear..........................................\n",
      "[CV 2/5; 1/3] END ...........C=1, kernel=linear;, score=0.959 total time=   0.9s\n",
      "[CV 3/5; 1/3] START C=1, kernel=linear..........................................\n",
      "[CV 3/5; 1/3] END ...........C=1, kernel=linear;, score=0.980 total time=   0.9s\n",
      "[CV 4/5; 1/3] START C=1, kernel=linear..........................................\n",
      "[CV 4/5; 1/3] END ...........C=1, kernel=linear;, score=0.949 total time=   0.9s\n",
      "[CV 5/5; 1/3] START C=1, kernel=linear..........................................\n",
      "[CV 5/5; 1/3] END ...........C=1, kernel=linear;, score=0.980 total time=   0.9s\n",
      "[CV 1/5; 2/3] START C=10, kernel=linear.........................................\n",
      "[CV 1/5; 2/3] END ..........C=10, kernel=linear;, score=0.970 total time=   0.9s\n",
      "[CV 2/5; 2/3] START C=10, kernel=linear.........................................\n",
      "[CV 2/5; 2/3] END ..........C=10, kernel=linear;, score=0.954 total time=   0.9s\n",
      "[CV 3/5; 2/3] START C=10, kernel=linear.........................................\n",
      "[CV 3/5; 2/3] END ..........C=10, kernel=linear;, score=0.985 total time=   0.9s\n",
      "[CV 4/5; 2/3] START C=10, kernel=linear.........................................\n",
      "[CV 4/5; 2/3] END ..........C=10, kernel=linear;, score=0.959 total time=   0.9s\n",
      "[CV 5/5; 2/3] START C=10, kernel=linear.........................................\n",
      "[CV 5/5; 2/3] END ..........C=10, kernel=linear;, score=0.985 total time=   0.9s\n",
      "[CV 1/5; 3/3] START C=100, kernel=linear........................................\n",
      "[CV 1/5; 3/3] END .........C=100, kernel=linear;, score=0.970 total time=   0.9s\n",
      "[CV 2/5; 3/3] START C=100, kernel=linear........................................\n",
      "[CV 2/5; 3/3] END .........C=100, kernel=linear;, score=0.954 total time=   0.9s\n",
      "[CV 3/5; 3/3] START C=100, kernel=linear........................................\n",
      "[CV 3/5; 3/3] END .........C=100, kernel=linear;, score=0.985 total time=   0.8s\n",
      "[CV 4/5; 3/3] START C=100, kernel=linear........................................\n",
      "[CV 4/5; 3/3] END .........C=100, kernel=linear;, score=0.959 total time=   0.9s\n",
      "[CV 5/5; 3/3] START C=100, kernel=linear........................................\n",
      "[CV 5/5; 3/3] END .........C=100, kernel=linear;, score=0.975 total time=   0.9s\n"
     ]
    }
   ],
   "source": [
    "# Fit bag of words svm\n",
    "np.random.seed(6)\n",
    "word_svm = grid_obj.fit(words_train, author_train)"
   ]
  },
  {
   "cell_type": "code",
   "execution_count": 190,
   "id": "68083f59",
   "metadata": {},
   "outputs": [
    {
     "name": "stdout",
     "output_type": "stream",
     "text": [
      "SVC(C=10, kernel='linear')\n"
     ]
    }
   ],
   "source": [
    "print(word_svm.best_estimator_)"
   ]
  },
  {
   "cell_type": "code",
   "execution_count": 191,
   "id": "edd02fd7",
   "metadata": {},
   "outputs": [
    {
     "name": "stdout",
     "output_type": "stream",
     "text": [
      "{'mean_fit_time': array([0.7679718 , 0.76773505, 0.74999838]), 'std_fit_time': array([0.02291049, 0.01466205, 0.01988517]), 'mean_score_time': array([0.12433572, 0.12320771, 0.12327294]), 'std_score_time': array([0.00208994, 0.00370529, 0.00124659]), 'param_C': masked_array(data=[1, 10, 100],\n",
      "             mask=[False, False, False],\n",
      "       fill_value='?',\n",
      "            dtype=object), 'param_kernel': masked_array(data=['linear', 'linear', 'linear'],\n",
      "             mask=[False, False, False],\n",
      "       fill_value='?',\n",
      "            dtype=object), 'params': [{'C': 1, 'kernel': 'linear'}, {'C': 10, 'kernel': 'linear'}, {'C': 100, 'kernel': 'linear'}], 'split0_test_score': array([0.96969697, 0.96969697, 0.96969697]), 'split1_test_score': array([0.95939086, 0.95431472, 0.95431472]), 'split2_test_score': array([0.97969543, 0.98477157, 0.98477157]), 'split3_test_score': array([0.94923858, 0.95939086, 0.95939086]), 'split4_test_score': array([0.97969543, 0.98477157, 0.97461929]), 'mean_test_score': array([0.96754345, 0.97058914, 0.96855868]), 'std_test_score': array([0.01184493, 0.01259632, 0.01084273]), 'rank_test_score': array([3, 1, 2], dtype=int32)}\n"
     ]
    }
   ],
   "source": [
    "print(word_svm.cv_results_)"
   ]
  },
  {
   "cell_type": "code",
   "execution_count": 192,
   "id": "aed35af7",
   "metadata": {},
   "outputs": [],
   "source": [
    "# Define model architecture in keras\n",
    "# Code reference: https://machinelearningmastery.com/develop-n-gram-multichannel-convolutional-neural-network-sentiment-analysis/\n",
    "def define_model2(input_len, output_size, vocab_size, embedding_dim, verbose = True,\n",
    "                drop_out_pct = 0.25, conv_filters = 500, activation_fn = 'relu', pool_size = 2, learning = 0.0001):\n",
    "    \"\"\"Define n-gram CNN\n",
    "    \n",
    "    Args:\n",
    "    input_len: int. Length of input sequences.\n",
    "    output_size: int. Number of output classes.\n",
    "    vocab_size: int. Maximum value of n-gram encoding.\n",
    "    embedding_dim: int. Size of embedding layer.\n",
    "    verbose: bool. Whether or not to print model summary.\n",
    "    drop_out_pct: float. Drop-out rate.\n",
    "    conv_filters: int. Number of filters in the conv layer.\n",
    "    activation_fn: string. Activation function to use in the convolutional layer.\n",
    "    pool_size: int. Pool size for the max pooling layer.\n",
    "    learning: float. Learning rate for the model optimizer.\n",
    "    \n",
    "    Returns:\n",
    "    model: keras model object. \n",
    "    \"\"\"\n",
    "    # Channel 1\n",
    "    inputs1 = Input(shape = (input_len,))\n",
    "    embedding1 = Embedding(vocab_size, embedding_dim)(inputs1)\n",
    "    drop1 = Dropout(drop_out_pct)(embedding1)\n",
    "    conv1 = Conv1D(filters = conv_filters, kernel_size = 3, activation = activation_fn)(drop1)\n",
    "    pool1 = MaxPooling1D(pool_size = pool_size)(conv1)\n",
    "    flat1 = Flatten()(pool1)\n",
    "    \n",
    "    # Channel 2\n",
    "    inputs2 = Input(shape = (input_len,))\n",
    "    embedding2 = Embedding(vocab_size, embedding_dim)(inputs2)\n",
    "    drop2 = Dropout(drop_out_pct)(embedding2)\n",
    "    conv2 = Conv1D(filters = conv_filters, kernel_size = 4, activation = activation_fn)(drop2)\n",
    "    pool2 = MaxPooling1D(pool_size = pool_size)(conv2)\n",
    "    flat2 = Flatten()(pool2)\n",
    "\n",
    "    # Channel 3\n",
    "    inputs3 = Input(shape = (input_len,))\n",
    "    embedding3= Embedding(vocab_size, embedding_dim)(inputs3)\n",
    "    drop3 = Dropout(drop_out_pct)(embedding3)\n",
    "    conv3 = Conv1D(filters = conv_filters, kernel_size = 5, activation = activation_fn)(drop3)\n",
    "    pool3 = MaxPooling1D(pool_size = pool_size)(conv3)\n",
    "    flat3 = Flatten()(pool3)\n",
    "    \n",
    "    # Channel 4\n",
    "    inputs4 = Input(shape = (input_len,))\n",
    "    embedding4 = Embedding(vocab_size, embedding_dim)(inputs4)\n",
    "    drop4 = Dropout(drop_out_pct)(embedding4)\n",
    "    conv4 = Conv1D(filters = conv_filters, kernel_size = 6, activation = activation_fn)(drop4)\n",
    "    pool4 = MaxPooling1D(pool_size = pool_size)(conv4)\n",
    "    flat4 = Flatten()(pool4)\n",
    "    \n",
    "    # Merge channels\n",
    "    merged = concatenate([flat1, flat2, flat3, flat4])\n",
    "    \n",
    "    # Create output layer\n",
    "    output = Dense(output_size, activation = 'softmax')(merged)\n",
    "    \n",
    "    # Create model\n",
    "    model = Model(inputs = [inputs1, inputs2, inputs3, inputs4], outputs = output)\n",
    "    \n",
    "    # Compile model\n",
    "    model.compile(loss='categorical_crossentropy', optimizer = Adam(lr = learning), metrics=['accuracy'])\n",
    "    \n",
    "    if verbose:\n",
    "        print(model.summary())\n",
    "        \n",
    "    return model"
   ]
  },
  {
   "cell_type": "code",
   "execution_count": 193,
   "id": "1c7f4365",
   "metadata": {},
   "outputs": [
    {
     "name": "stdout",
     "output_type": "stream",
     "text": [
      "Model: \"model_22\"\n",
      "__________________________________________________________________________________________________\n",
      " Layer (type)                   Output Shape         Param #     Connected to                     \n",
      "==================================================================================================\n",
      " input_69 (InputLayer)          [(None, 350)]        0           []                               \n",
      "                                                                                                  \n",
      " input_70 (InputLayer)          [(None, 350)]        0           []                               \n",
      "                                                                                                  \n",
      " input_71 (InputLayer)          [(None, 350)]        0           []                               \n",
      "                                                                                                  \n",
      " input_72 (InputLayer)          [(None, 350)]        0           []                               \n",
      "                                                                                                  \n",
      " embedding_68 (Embedding)       (None, 350, 600)     7426200     ['input_69[0][0]']               \n",
      "                                                                                                  \n",
      " embedding_69 (Embedding)       (None, 350, 600)     7426200     ['input_70[0][0]']               \n",
      "                                                                                                  \n",
      " embedding_70 (Embedding)       (None, 350, 600)     7426200     ['input_71[0][0]']               \n",
      "                                                                                                  \n",
      " embedding_71 (Embedding)       (None, 350, 600)     7426200     ['input_72[0][0]']               \n",
      "                                                                                                  \n",
      " dropout_68 (Dropout)           (None, 350, 600)     0           ['embedding_68[0][0]']           \n",
      "                                                                                                  \n",
      " dropout_69 (Dropout)           (None, 350, 600)     0           ['embedding_69[0][0]']           \n",
      "                                                                                                  \n",
      " dropout_70 (Dropout)           (None, 350, 600)     0           ['embedding_70[0][0]']           \n",
      "                                                                                                  \n",
      " dropout_71 (Dropout)           (None, 350, 600)     0           ['embedding_71[0][0]']           \n",
      "                                                                                                  \n",
      " conv1d_68 (Conv1D)             (None, 348, 500)     900500      ['dropout_68[0][0]']             \n",
      "                                                                                                  \n",
      " conv1d_69 (Conv1D)             (None, 347, 500)     1200500     ['dropout_69[0][0]']             \n",
      "                                                                                                  \n",
      " conv1d_70 (Conv1D)             (None, 346, 500)     1500500     ['dropout_70[0][0]']             \n",
      "                                                                                                  \n",
      " conv1d_71 (Conv1D)             (None, 345, 500)     1800500     ['dropout_71[0][0]']             \n",
      "                                                                                                  \n",
      " max_pooling1d_68 (MaxPooling1D  (None, 174, 500)    0           ['conv1d_68[0][0]']              \n",
      " )                                                                                                \n",
      "                                                                                                  \n",
      " max_pooling1d_69 (MaxPooling1D  (None, 173, 500)    0           ['conv1d_69[0][0]']              \n",
      " )                                                                                                \n",
      "                                                                                                  \n",
      " max_pooling1d_70 (MaxPooling1D  (None, 173, 500)    0           ['conv1d_70[0][0]']              \n",
      " )                                                                                                \n",
      "                                                                                                  \n",
      " max_pooling1d_71 (MaxPooling1D  (None, 172, 500)    0           ['conv1d_71[0][0]']              \n",
      " )                                                                                                \n",
      "                                                                                                  \n",
      " flatten_68 (Flatten)           (None, 87000)        0           ['max_pooling1d_68[0][0]']       \n",
      "                                                                                                  \n",
      " flatten_69 (Flatten)           (None, 86500)        0           ['max_pooling1d_69[0][0]']       \n",
      "                                                                                                  \n",
      " flatten_70 (Flatten)           (None, 86500)        0           ['max_pooling1d_70[0][0]']       \n",
      "                                                                                                  \n",
      " flatten_71 (Flatten)           (None, 86000)        0           ['max_pooling1d_71[0][0]']       \n",
      "                                                                                                  \n",
      " concatenate_22 (Concatenate)   (None, 346000)       0           ['flatten_68[0][0]',             \n",
      "                                                                  'flatten_69[0][0]',             \n",
      "                                                                  'flatten_70[0][0]',             \n",
      "                                                                  'flatten_71[0][0]']             \n",
      "                                                                                                  \n",
      " dense_22 (Dense)               (None, 10)           3460010     ['concatenate_22[0][0]']         \n",
      "                                                                                                  \n",
      "==================================================================================================\n",
      "Total params: 38,566,810\n",
      "Trainable params: 38,566,810\n",
      "Non-trainable params: 0\n",
      "__________________________________________________________________________________________________\n",
      "None\n"
     ]
    },
    {
     "name": "stderr",
     "output_type": "stream",
     "text": [
      "/Users/roy/miniconda3/envs/medium_project/lib/python3.8/site-packages/keras/optimizer_v2/adam.py:105: UserWarning: The `lr` argument is deprecated, use `learning_rate` instead.\n",
      "  super(Adam, self).__init__(name, **kwargs)\n"
     ]
    }
   ],
   "source": [
    "# Create the 3-gram model\n",
    "gram3_model2 = define_model2(350, 10, max_3gram + 1, 600)"
   ]
  },
  {
   "cell_type": "code",
   "execution_count": 194,
   "id": "87d69062",
   "metadata": {},
   "outputs": [
    {
     "name": "stdout",
     "output_type": "stream",
     "text": [
      "Epoch 1/5\n",
      "25/25 [==============================] - 44s 2s/step - loss: 1.9154 - accuracy: 0.4569 - val_loss: 1.4739 - val_accuracy: 0.7071\n",
      "Epoch 2/5\n",
      "25/25 [==============================] - 44s 2s/step - loss: 0.8471 - accuracy: 0.9137 - val_loss: 0.6757 - val_accuracy: 1.0000\n",
      "Epoch 3/5\n",
      "25/25 [==============================] - 45s 2s/step - loss: 0.2652 - accuracy: 0.9987 - val_loss: 0.2740 - val_accuracy: 1.0000\n",
      "Epoch 4/5\n",
      "25/25 [==============================] - 45s 2s/step - loss: 0.0855 - accuracy: 0.9987 - val_loss: 0.1548 - val_accuracy: 1.0000\n",
      "Epoch 5/5\n",
      "25/25 [==============================] - 45s 2s/step - loss: 0.0412 - accuracy: 0.9987 - val_loss: 0.1166 - val_accuracy: 1.0000\n"
     ]
    },
    {
     "data": {
      "text/plain": [
       "<keras.callbacks.History at 0x7fa78087b6d0>"
      ]
     },
     "execution_count": 194,
     "metadata": {},
     "output_type": "execute_result"
    }
   ],
   "source": [
    "# Train 3-gram CNN\n",
    "gram3_model2.fit([gram3_train, gram3_train, gram3_train, gram3_train], author_train_hot, epochs=5, batch_size=32, \n",
    "                verbose = 1, validation_split = 0.2)"
   ]
  },
  {
   "cell_type": "code",
   "execution_count": 195,
   "id": "912f9f19",
   "metadata": {},
   "outputs": [],
   "source": [
    "# Define function for plotting normalized confusion matrix\n",
    "# Code reference 1: http://scikit-learn.org/stable/auto_examples/model_selection/plot_confusion_matrix.html#sphx-glr-auto-examples-model-selection-plot-confusion-matrix-py\n",
    "# Code reference 2: https://stackoverflow.com/questions/35572000/how-can-i-plot-a-confusion-matrix\n",
    "\n",
    "def plot_confusion_matrix(cm, classes,\n",
    "                          normalize=False,\n",
    "                          title='Confusion matrix',\n",
    "                          cmap=plt.cm.Blues):\n",
    "    \"\"\"\n",
    "    This function prints and plots the confusion matrix.\n",
    "    Normalization can be applied by setting `normalize=True`.\n",
    "    \n",
    "    Args:\n",
    "    cm: matrix. Confusion matrix for plotting.\n",
    "    classes: list. List of class labels.\n",
    "    normalize: bool. Whether or not to normalize the confusion matrix.\n",
    "    title: string. Title for plot.\n",
    "    cmap: color map. Color scheme for plot.\n",
    "    \n",
    "    Returns:\n",
    "    None\n",
    "    \"\"\"\n",
    "    if normalize:\n",
    "        cm = cm.astype('float') / cm.sum(axis=1)[:, np.newaxis]\n",
    "        print(\"Normalized confusion matrix\")\n",
    "    else:\n",
    "        print('Confusion matrix, without normalization')\n",
    "\n",
    "    print(cm)\n",
    "       \n",
    "    df_cm = pd.DataFrame(cm, index = classes,\n",
    "                  columns = classes)\n",
    "    sns.heatmap(df_cm, annot=True, cmap = cmap)\n",
    "    plt.ylabel('True Label')\n",
    "    plt.xlabel('Predicted Label')\n",
    "    plt.title(title)"
   ]
  },
  {
   "cell_type": "code",
   "execution_count": null,
   "id": "2725a231",
   "metadata": {},
   "outputs": [],
   "source": []
  },
  {
   "cell_type": "code",
   "execution_count": 202,
   "id": "72e22658",
   "metadata": {},
   "outputs": [
    {
     "name": "stdout",
     "output_type": "stream",
     "text": [
      "Model: \"model_26\"\n",
      "__________________________________________________________________________________________________\n",
      " Layer (type)                   Output Shape         Param #     Connected to                     \n",
      "==================================================================================================\n",
      " input_82 (InputLayer)          [(None, 350)]        0           []                               \n",
      "                                                                                                  \n",
      " input_83 (InputLayer)          [(None, 350)]        0           []                               \n",
      "                                                                                                  \n",
      " input_84 (InputLayer)          [(None, 350)]        0           []                               \n",
      "                                                                                                  \n",
      " embedding_81 (Embedding)       (None, 350, 600)     7426200     ['input_82[0][0]']               \n",
      "                                                                                                  \n",
      " embedding_82 (Embedding)       (None, 350, 600)     7426200     ['input_83[0][0]']               \n",
      "                                                                                                  \n",
      " embedding_83 (Embedding)       (None, 350, 600)     7426200     ['input_84[0][0]']               \n",
      "                                                                                                  \n",
      " dropout_81 (Dropout)           (None, 350, 600)     0           ['embedding_81[0][0]']           \n",
      "                                                                                                  \n",
      " dropout_82 (Dropout)           (None, 350, 600)     0           ['embedding_82[0][0]']           \n",
      "                                                                                                  \n",
      " dropout_83 (Dropout)           (None, 350, 600)     0           ['embedding_83[0][0]']           \n",
      "                                                                                                  \n",
      " conv1d_81 (Conv1D)             (None, 348, 500)     900500      ['dropout_81[0][0]']             \n",
      "                                                                                                  \n",
      " conv1d_82 (Conv1D)             (None, 347, 500)     1200500     ['dropout_82[0][0]']             \n",
      "                                                                                                  \n",
      " conv1d_83 (Conv1D)             (None, 346, 500)     1500500     ['dropout_83[0][0]']             \n",
      "                                                                                                  \n",
      " max_pooling1d_81 (MaxPooling1D  (None, 174, 500)    0           ['conv1d_81[0][0]']              \n",
      " )                                                                                                \n",
      "                                                                                                  \n",
      " max_pooling1d_82 (MaxPooling1D  (None, 173, 500)    0           ['conv1d_82[0][0]']              \n",
      " )                                                                                                \n",
      "                                                                                                  \n",
      " max_pooling1d_83 (MaxPooling1D  (None, 173, 500)    0           ['conv1d_83[0][0]']              \n",
      " )                                                                                                \n",
      "                                                                                                  \n",
      " flatten_81 (Flatten)           (None, 87000)        0           ['max_pooling1d_81[0][0]']       \n",
      "                                                                                                  \n",
      " flatten_82 (Flatten)           (None, 86500)        0           ['max_pooling1d_82[0][0]']       \n",
      "                                                                                                  \n",
      " flatten_83 (Flatten)           (None, 86500)        0           ['max_pooling1d_83[0][0]']       \n",
      "                                                                                                  \n",
      " concatenate_26 (Concatenate)   (None, 260000)       0           ['flatten_81[0][0]',             \n",
      "                                                                  'flatten_82[0][0]',             \n",
      "                                                                  'flatten_83[0][0]']             \n",
      "                                                                                                  \n",
      " dense_26 (Dense)               (None, 10)           2600010     ['concatenate_26[0][0]']         \n",
      "                                                                                                  \n",
      "==================================================================================================\n",
      "Total params: 28,480,110\n",
      "Trainable params: 28,480,110\n",
      "Non-trainable params: 0\n",
      "__________________________________________________________________________________________________\n",
      "None\n",
      "Epoch 1/5\n"
     ]
    },
    {
     "name": "stderr",
     "output_type": "stream",
     "text": [
      "/Users/roy/miniconda3/envs/medium_project/lib/python3.8/site-packages/keras/optimizer_v2/adam.py:105: UserWarning: The `lr` argument is deprecated, use `learning_rate` instead.\n",
      "  super(Adam, self).__init__(name, **kwargs)\n"
     ]
    },
    {
     "name": "stdout",
     "output_type": "stream",
     "text": [
      "25/25 [==============================] - 31s 1s/step - loss: 2.0227 - accuracy: 0.3490 - val_loss: 1.6401 - val_accuracy: 0.6869\n",
      "Epoch 2/5\n",
      "25/25 [==============================] - 31s 1s/step - loss: 1.0911 - accuracy: 0.9353 - val_loss: 0.9072 - val_accuracy: 0.8737\n",
      "Epoch 3/5\n",
      "25/25 [==============================] - 31s 1s/step - loss: 0.4039 - accuracy: 0.9987 - val_loss: 0.4050 - val_accuracy: 0.9949\n",
      "Epoch 4/5\n",
      "25/25 [==============================] - 35s 1s/step - loss: 0.1368 - accuracy: 0.9987 - val_loss: 0.1927 - val_accuracy: 1.0000\n",
      "Epoch 5/5\n",
      "25/25 [==============================] - 32s 1s/step - loss: 0.0581 - accuracy: 0.9987 - val_loss: 0.1243 - val_accuracy: 0.9949\n",
      "Accuracy: 1.0\n",
      "Ave. Precision: 1.0\n",
      "Ave. Recall: 1.0\n",
      "Ave. F1 Score: 1.0\n",
      "Training Time: 159.68520307540894 seconds\n",
      "Prediction Time: 2.612761974334717 seconds\n",
      "Confusion Matrix:\n",
      " [[19  0  0  0  0  0  0  0  0  0]\n",
      " [ 0 19  0  0  0  0  0  0  0  0]\n",
      " [ 0  0 13  0  0  0  0  0  0  0]\n",
      " [ 0  0  0 36  0  0  0  0  0  0]\n",
      " [ 0  0  0  0 29  0  0  0  0  0]\n",
      " [ 0  0  0  0  0 19  0  0  0  0]\n",
      " [ 0  0  0  0  0  0 39  0  0  0]\n",
      " [ 0  0  0  0  0  0  0 20  0  0]\n",
      " [ 0  0  0  0  0  0  0  0 36  0]\n",
      " [ 0  0  0  0  0  0  0  0  0 17]]\n"
     ]
    }
   ],
   "source": [
    "# Fit and evaluate Model 1 (3-gram CNN)\n",
    "\n",
    "t0 = time.time()\n",
    "\n",
    "# Fit model\n",
    "model1 = define_model(350, 10, max_3gram + 1, 600)\n",
    "model1.fit([gram3_train, gram3_train, gram3_train], author_train_hot, epochs=5, batch_size=32, \n",
    "           verbose = 1, validation_split = 0.2)\n",
    "t1 = time.time()\n",
    "\n",
    "# Predict values for test set\n",
    "author_pred1 = model1.predict([gram3_test, gram3_test, gram3_test])\n",
    "\n",
    "t2 = time.time()\n",
    "\n",
    "# Reverse one-hot encoding of labels\n",
    "author_pred1 = author_lb.inverse_transform(author_pred1)\n",
    "\n",
    "# Evaluate\n",
    "accuracy = accuracy_score(author_test, author_pred1)\n",
    "precision, recall, f1, support = score(author_test, author_pred1)\n",
    "ave_precision = np.average(precision, weights = support/np.sum(support))\n",
    "ave_recall = np.average(recall, weights = support/np.sum(support))\n",
    "ave_f1 = np.average(f1, weights = support/np.sum(support))\n",
    "confusion = confusion_matrix(author_test, author_pred1, labels = list(set(author_test)))\n",
    "    \n",
    "print(\"Accuracy:\", accuracy)\n",
    "print(\"Ave. Precision:\", ave_precision)\n",
    "print(\"Ave. Recall:\", ave_recall)\n",
    "print(\"Ave. F1 Score:\", ave_f1)\n",
    "print(\"Training Time:\", (t1 - t0), \"seconds\")\n",
    "print(\"Prediction Time:\", (t2 - t1), \"seconds\")\n",
    "print(\"Confusion Matrix:\\n\", confusion)"
   ]
  },
  {
   "cell_type": "code",
   "execution_count": 203,
   "id": "d8d6833c",
   "metadata": {},
   "outputs": [
    {
     "name": "stdout",
     "output_type": "stream",
     "text": [
      "Normalized confusion matrix\n",
      "[[1. 0. 0. 0. 0. 0. 0. 0. 0. 0.]\n",
      " [0. 1. 0. 0. 0. 0. 0. 0. 0. 0.]\n",
      " [0. 0. 1. 0. 0. 0. 0. 0. 0. 0.]\n",
      " [0. 0. 0. 1. 0. 0. 0. 0. 0. 0.]\n",
      " [0. 0. 0. 0. 1. 0. 0. 0. 0. 0.]\n",
      " [0. 0. 0. 0. 0. 1. 0. 0. 0. 0.]\n",
      " [0. 0. 0. 0. 0. 0. 1. 0. 0. 0.]\n",
      " [0. 0. 0. 0. 0. 0. 0. 1. 0. 0.]\n",
      " [0. 0. 0. 0. 0. 0. 0. 0. 1. 0.]\n",
      " [0. 0. 0. 0. 0. 0. 0. 0. 0. 1.]]\n"
     ]
    },
    {
     "data": {
      "image/png": "[encoded data removed]",
      "text/plain": [
       "<Figure size 432x288 with 2 Axes>"
      ]
     },
     "metadata": {
      "needs_background": "light"
     },
     "output_type": "display_data"
    }
   ],
   "source": [
    "# Plot normalized confusion matrix\n",
    "plot_confusion_matrix(confusion, classes=list(set(author_test)), \\\n",
    "                      normalize=True, title='Normalized Confusion Matrix - Model 1')\n",
    "\n",
    "plt.savefig(\"confusion1.eps\")"
   ]
  },
  {
   "cell_type": "code",
   "execution_count": 204,
   "id": "02b50ab2",
   "metadata": {},
   "outputs": [
    {
     "name": "stdout",
     "output_type": "stream",
     "text": [
      "Accuracy: 0.9838056680161943\n",
      "Ave. Precision: 0.9842606776817304\n",
      "Ave. Recall: 0.9838056680161944\n",
      "Ave. F1 Score: 0.983589525256853\n",
      "Training Time: 0.994696855545044 seconds\n",
      "Prediction Time: 0.20757818222045898 seconds\n",
      "Confusion Matrix:\n",
      " [[19  0  0  0  0  0  0  0  0  0]\n",
      " [ 0 17  0  1  1  0  0  0  0  0]\n",
      " [ 0  0 13  0  0  0  0  0  0  0]\n",
      " [ 0  0  0 36  0  0  0  0  0  0]\n",
      " [ 0  0  0  0 29  0  0  0  0  0]\n",
      " [ 0  0  0  0  0 18  1  0  0  0]\n",
      " [ 0  0  0  0  0  0 39  0  0  0]\n",
      " [ 0  0  0  0  0  0  0 19  1  0]\n",
      " [ 0  0  0  0  0  0  0  0 36  0]\n",
      " [ 0  0  0  0  0  0  0  0  0 17]]\n"
     ]
    }
   ],
   "source": [
    "# Fit and evaluate Model 2 (Bag of words SVM)\n",
    "np.random.seed(28)\n",
    "\n",
    "t0 = time.time()\n",
    "\n",
    "# Fit model\n",
    "model2 = SVC(C = 1, kernel = 'linear')\n",
    "model2.fit(words_train, author_train)\n",
    "\n",
    "t1 = time.time()\n",
    "\n",
    "# Predict values for test set\n",
    "author_pred2 = model2.predict(words_test)\n",
    "\n",
    "t2 = time.time()\n",
    "\n",
    "# Evaluate\n",
    "accuracy = accuracy_score(author_test, author_pred2)\n",
    "precision, recall, f1, support = score(author_test, author_pred2)\n",
    "ave_precision = np.average(precision, weights = support/np.sum(support))\n",
    "ave_recall = np.average(recall, weights = support/np.sum(support))\n",
    "ave_f1 = np.average(f1, weights = support/np.sum(support))\n",
    "confusion = confusion_matrix(author_test, author_pred2, labels =  list(set(author_test)))\n",
    "\n",
    "print(\"Accuracy:\", accuracy)\n",
    "print(\"Ave. Precision:\", ave_precision)\n",
    "print(\"Ave. Recall:\", ave_recall)\n",
    "print(\"Ave. F1 Score:\", ave_f1)\n",
    "print(\"Training Time:\", (t1 - t0), \"seconds\")\n",
    "print(\"Prediction Time:\", (t2 - t1), \"seconds\")\n",
    "print(\"Confusion Matrix:\\n\", confusion)"
   ]
  },
  {
   "cell_type": "code",
   "execution_count": 205,
   "id": "c8ff499a",
   "metadata": {},
   "outputs": [
    {
     "name": "stdout",
     "output_type": "stream",
     "text": [
      "Normalized confusion matrix\n",
      "[[1.         0.         0.         0.         0.         0.\n",
      "  0.         0.         0.         0.        ]\n",
      " [0.         0.89473684 0.         0.05263158 0.05263158 0.\n",
      "  0.         0.         0.         0.        ]\n",
      " [0.         0.         1.         0.         0.         0.\n",
      "  0.         0.         0.         0.        ]\n",
      " [0.         0.         0.         1.         0.         0.\n",
      "  0.         0.         0.         0.        ]\n",
      " [0.         0.         0.         0.         1.         0.\n",
      "  0.         0.         0.         0.        ]\n",
      " [0.         0.         0.         0.         0.         0.94736842\n",
      "  0.05263158 0.         0.         0.        ]\n",
      " [0.         0.         0.         0.         0.         0.\n",
      "  1.         0.         0.         0.        ]\n",
      " [0.         0.         0.         0.         0.         0.\n",
      "  0.         0.95       0.05       0.        ]\n",
      " [0.         0.         0.         0.         0.         0.\n",
      "  0.         0.         1.         0.        ]\n",
      " [0.         0.         0.         0.         0.         0.\n",
      "  0.         0.         0.         1.        ]]\n"
     ]
    },
    {
     "data": {
      "image/png": "[encoded data removed]",
      "text/plain": [
       "<Figure size 432x288 with 2 Axes>"
      ]
     },
     "metadata": {
      "needs_background": "light"
     },
     "output_type": "display_data"
    }
   ],
   "source": [
    "# Plot normalized confusion matrix\n",
    "plot_confusion_matrix(confusion, classes=list(set(author_test)), \\\n",
    "                      normalize=True, title='Normalized Confusion Matrix - Model 2')\n",
    "\n",
    "plt.savefig(\"confusion2.eps\")"
   ]
  },
  {
   "cell_type": "code",
   "execution_count": 206,
   "id": "d08371a4",
   "metadata": {},
   "outputs": [
    {
     "name": "stdout",
     "output_type": "stream",
     "text": [
      "Accuracy: [0.0728744939271255, 0.10121457489878542, 0.08097165991902834, 0.10121457489878542, 0.11336032388663968, 0.08906882591093117, 0.06882591093117409, 0.07692307692307693, 0.10121457489878542, 0.05668016194331984] 0.08623481781376517 0.0169895832051476\n",
      "Ave. Precision: [0.07881874774913825, 0.11546126596645874, 0.09175331491120965, 0.10680021952465187, 0.1271046961687053, 0.09650268062246285, 0.06557320719792117, 0.10527339966820633, 0.11012596120654158, 0.07935543161705384] 0.09767689246323497 0.017990610341126156\n",
      "Ave. Recall: [0.07287449392712551, 0.10121457489878542, 0.08097165991902835, 0.10121457489878544, 0.11336032388663968, 0.08906882591093118, 0.0688259109311741, 0.07692307692307693, 0.10121457489878544, 0.05668016194331984] 0.0862348178137652 0.0169895832051476\n",
      "Ave. F1 Score: [0.0724993840931063, 0.10502330424232381, 0.08199430094528896, 0.09793501614360532, 0.11449820333501644, 0.08952951961549714, 0.06477756026937836, 0.08436206630854154, 0.10095347498207059, 0.06327981781736562] 0.08748526477521942 0.016425820601390223\n"
     ]
    }
   ],
   "source": [
    "# Get benchmark statistics (random model)\n",
    "\n",
    "# Perform 10 times and take averages\n",
    "\n",
    "accuracy_list = []\n",
    "prec_list = []\n",
    "recall_list = []\n",
    "f1_list = []\n",
    "\n",
    "for i in range(10):\n",
    "    # Create random predictions\n",
    "    author_pred3 = np.random.choice(list(set(author_test)), len(author_test))\n",
    "\n",
    "    # Evaluate\n",
    "    accuracy = accuracy_score(author_test, author_pred3)\n",
    "    precision, recall, f1, support = score(author_test, author_pred3)\n",
    "    ave_precision = np.average(precision, weights = support/np.sum(support))\n",
    "    ave_recall = np.average(recall, weights = support/np.sum(support))\n",
    "    ave_f1 = np.average(f1, weights = support/np.sum(support))\n",
    "    \n",
    "    accuracy_list.append(accuracy)\n",
    "    prec_list.append(ave_precision)\n",
    "    recall_list.append(ave_recall)\n",
    "    f1_list.append(ave_f1)\n",
    "\n",
    "print(\"Accuracy:\", accuracy_list, np.mean(accuracy_list), np.std(accuracy_list))\n",
    "print(\"Ave. Precision:\", prec_list, np.mean(prec_list), np.std(prec_list))\n",
    "print(\"Ave. Recall:\", recall_list, np.mean(recall_list), np.std(recall_list))\n",
    "print(\"Ave. F1 Score:\", f1_list, np.mean(f1_list), np.std(f1_list))"
   ]
  },
  {
   "cell_type": "code",
   "execution_count": 207,
   "id": "4a4da93e",
   "metadata": {},
   "outputs": [
    {
     "name": "stdout",
     "output_type": "stream",
     "text": [
      "Run: 1\n"
     ]
    },
    {
     "name": "stderr",
     "output_type": "stream",
     "text": [
      "/Users/roy/miniconda3/envs/medium_project/lib/python3.8/site-packages/keras/optimizer_v2/adam.py:105: UserWarning: The `lr` argument is deprecated, use `learning_rate` instead.\n",
      "  super(Adam, self).__init__(name, **kwargs)\n"
     ]
    },
    {
     "name": "stdout",
     "output_type": "stream",
     "text": [
      "Run: 2\n"
     ]
    },
    {
     "name": "stderr",
     "output_type": "stream",
     "text": [
      "/Users/roy/miniconda3/envs/medium_project/lib/python3.8/site-packages/keras/optimizer_v2/adam.py:105: UserWarning: The `lr` argument is deprecated, use `learning_rate` instead.\n",
      "  super(Adam, self).__init__(name, **kwargs)\n"
     ]
    },
    {
     "name": "stdout",
     "output_type": "stream",
     "text": [
      "Run: 3\n"
     ]
    },
    {
     "name": "stderr",
     "output_type": "stream",
     "text": [
      "/Users/roy/miniconda3/envs/medium_project/lib/python3.8/site-packages/keras/optimizer_v2/adam.py:105: UserWarning: The `lr` argument is deprecated, use `learning_rate` instead.\n",
      "  super(Adam, self).__init__(name, **kwargs)\n"
     ]
    },
    {
     "name": "stdout",
     "output_type": "stream",
     "text": [
      "Accuracy: [1.0, 1.0, 1.0]\n",
      "Ave. Precision: [1.0, 1.0, 1.0]\n",
      "Ave. Recall: [1.0, 1.0, 1.0]\n",
      "Ave. F1 Score: [1.0, 1.0, 1.0]\n"
     ]
    }
   ],
   "source": [
    "# Model 1 Sensitivity Testing\n",
    "\n",
    "kf = KFold(n_splits = 3)\n",
    "\n",
    "accuracy_list = []\n",
    "prec_list = []\n",
    "recall_list = []\n",
    "f1_list = []\n",
    "cnt = 0\n",
    "\n",
    "\n",
    "for train_inds, _ in kf.split(gram3_train):\n",
    "    cnt += 1\n",
    "    print('Run:', cnt)\n",
    "       \n",
    "    # Create data subsets\n",
    "    train_x = np.array([gram3_train[i] for i in train_inds])\n",
    "    train_y = np.array([author_train_hot[i] for i in train_inds])\n",
    "       \n",
    "    # Fit model\n",
    "    model1 = define_model(350, 10, max_3gram + 1, 600, verbose = False)\n",
    "    model1.fit([gram3_train, gram3_train, gram3_train], author_train_hot, epochs=5, batch_size=32, verbose = 0)\n",
    "    \n",
    "    # Predict values for test set\n",
    "    author_pred1 = model1.predict([gram3_test, gram3_test, gram3_test])\n",
    "    author_pred1 = author_lb.inverse_transform(author_pred1)\n",
    "\n",
    "    # Evaluate\n",
    "    accuracy = accuracy_score(author_test, author_pred1)\n",
    "    precision, recall, f1, support = score(author_test, author_pred1)\n",
    "    ave_precision = np.average(precision, weights = support/np.sum(support))\n",
    "    ave_recall = np.average(recall, weights = support/np.sum(support))\n",
    "    ave_f1 = np.average(f1, weights = support/np.sum(support))\n",
    "    \n",
    "    accuracy_list.append(accuracy)\n",
    "    prec_list.append(ave_precision)\n",
    "    recall_list.append(ave_recall)\n",
    "    f1_list.append(ave_f1)\n",
    "\n",
    "print(\"Accuracy:\", accuracy_list)\n",
    "print(\"Ave. Precision:\", prec_list)\n",
    "print(\"Ave. Recall:\", recall_list)\n",
    "print(\"Ave. F1 Score:\", f1_list)"
   ]
  },
  {
   "cell_type": "code",
   "execution_count": 208,
   "id": "b624f332",
   "metadata": {},
   "outputs": [
    {
     "name": "stdout",
     "output_type": "stream",
     "text": [
      "Run: 1\n",
      "Run: 2\n",
      "Run: 3\n",
      "Accuracy: [0.979757085020243, 0.9757085020242915, 0.9757085020242915]\n",
      "Ave. Precision: [0.979823128507339, 0.9778820870926135, 0.9768871643365571]\n",
      "Ave. Recall: [0.9797570850202432, 0.9757085020242917, 0.9757085020242915]\n",
      "Ave. F1 Score: [0.9796491867449609, 0.9746959890475939, 0.9756205781145691]\n"
     ]
    }
   ],
   "source": [
    "# Model 2 sensitivity testing\n",
    "\n",
    "kf = KFold(n_splits = 3)\n",
    "\n",
    "accuracy_list = []\n",
    "prec_list = []\n",
    "recall_list = []\n",
    "f1_list = []\n",
    "cnt = 0\n",
    "\n",
    "# Convert sparse matrix to array\n",
    "words_train_np = words_train.toarray()\n",
    "\n",
    "for train_inds, _ in kf.split(words_train):\n",
    "    cnt += 1\n",
    "    print('Run:', cnt)\n",
    "       \n",
    "    # Create data subsets\n",
    "    train_x = np.array([words_train_np[i] for i in train_inds])\n",
    "    train_y = [author_train[i] for i in train_inds]\n",
    "    \n",
    "    # Convert train_x back to sparse matrix\n",
    "    train_x = sparse.csr_matrix(train_x)\n",
    "    \n",
    "    # Fit model\n",
    "    model2 = SVC(C = 1, kernel = 'linear')\n",
    "    model2.fit(train_x, train_y)\n",
    "\n",
    "\n",
    "    # Predict values for test set\n",
    "    author_pred2 = model2.predict(words_test)\n",
    "\n",
    "    # Evaluate\n",
    "    accuracy = accuracy_score(author_test, author_pred2)\n",
    "    precision, recall, f1, support = score(author_test, author_pred2)\n",
    "    ave_precision = np.average(precision, weights = support/np.sum(support))\n",
    "    ave_recall = np.average(recall, weights = support/np.sum(support))\n",
    "    ave_f1 = np.average(f1, weights = support/np.sum(support))\n",
    "    \n",
    "    accuracy_list.append(accuracy)\n",
    "    prec_list.append(ave_precision)\n",
    "    recall_list.append(ave_recall)\n",
    "    f1_list.append(ave_f1)\n",
    "\n",
    "print(\"Accuracy:\", accuracy_list)\n",
    "print(\"Ave. Precision:\", prec_list)\n",
    "print(\"Ave. Recall:\", recall_list)\n",
    "print(\"Ave. F1 Score:\", f1_list)"
   ]
  },
  {
   "cell_type": "code",
   "execution_count": null,
   "id": "34023a07",
   "metadata": {},
   "outputs": [],
   "source": []
  },
  {
   "cell_type": "code",
   "execution_count": null,
   "id": "e1a7b0ff",
   "metadata": {},
   "outputs": [],
   "source": []
  },
  {
   "cell_type": "code",
   "execution_count": null,
   "id": "e764c91e",
   "metadata": {},
   "outputs": [],
   "source": []
  },
  {
   "cell_type": "code",
   "execution_count": null,
   "id": "63e0f27d",
   "metadata": {},
   "outputs": [],
   "source": []
  }
 ],
 "metadata": {
  "kernelspec": {
   "display_name": "Python 3 (ipykernel)",
   "language": "python",
   "name": "python3"
  },
  "language_info": {
   "codemirror_mode": {
    "name": "ipython",
    "version": 3
   },
   "file_extension": ".py",
   "mimetype": "text/x-python",
   "name": "python",
   "nbconvert_exporter": "python",
   "pygments_lexer": "ipython3",
   "version": "3.8.13"
  }
 },
 "nbformat": 4,
 "nbformat_minor": 5
}
