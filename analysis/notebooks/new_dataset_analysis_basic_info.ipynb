{
 "cells": [
  {
   "cell_type": "code",
   "execution_count": 11,
   "metadata": {},
   "outputs": [],
   "source": [
    "import json\n",
    "import pandas as pd"
   ]
  },
  {
   "cell_type": "code",
   "execution_count": 12,
   "metadata": {},
   "outputs": [],
   "source": [
    "import warnings\n",
    "warnings.filterwarnings(\"ignore\")\n",
    "%matplotlib inline"
   ]
  },
  {
   "cell_type": "code",
   "execution_count": 19,
   "metadata": {},
   "outputs": [],
   "source": [
    "df = pd.read_json(\"../../data/related_data_rm_duplicacy_final.json\")"
   ]
  },
  {
   "cell_type": "code",
   "execution_count": 20,
   "metadata": {},
   "outputs": [
    {
     "data": {
      "text/plain": [
       "Index(['author_link', 'author_name', 'claps', 'content', 'last_modified_date',\n",
       "       'post_link', 'publish_date', 'readtime', 'responses', 'tags', 'title',\n",
       "       'voters', 'link', 'post_date', 'upvotes'],\n",
       "      dtype='object')"
      ]
     },
     "execution_count": 20,
     "metadata": {},
     "output_type": "execute_result"
    }
   ],
   "source": [
    "df.columns"
   ]
  },
  {
   "cell_type": "code",
   "execution_count": 21,
   "metadata": {},
   "outputs": [
    {
     "data": {
      "text/plain": [
       "28553"
      ]
     },
     "execution_count": 21,
     "metadata": {},
     "output_type": "execute_result"
    }
   ],
   "source": [
    "len(df)"
   ]
  },
  {
   "cell_type": "code",
   "execution_count": 22,
   "metadata": {},
   "outputs": [
    {
     "data": {
      "text/plain": [
       "13217"
      ]
     },
     "execution_count": 22,
     "metadata": {},
     "output_type": "execute_result"
    }
   ],
   "source": [
    "len(set(df[\"author_name\"]))"
   ]
  },
  {
   "cell_type": "code",
   "execution_count": 23,
   "metadata": {},
   "outputs": [
    {
     "data": {
      "text/plain": [
       "['Alexis MP',\n",
       " 'Netflix Technology Blog',\n",
       " 'Ethan Siegel',\n",
       " 'Nick Babich',\n",
       " 'Muzli',\n",
       " 'ConsenSys',\n",
       " 'ExtremeTech',\n",
       " 'Carlos E. Perez',\n",
       " 'Bhargav Bachina',\n",
       " 'Adobe Creative Cloud',\n",
       " 'MIT Technology Review',\n",
       " 'Altoros',\n",
       " 'Caio Calado',\n",
       " 'tubik',\n",
       " 'Synced',\n",
       " 'Ben Rogojan',\n",
       " 'Fabricio Teixeira',\n",
       " 'Etherparty Smart Contracts, Inc.',\n",
       " 'Inkbot Design',\n",
       " 'Barr Moses',\n",
       " 'VYPER Growth Hacks Blog',\n",
       " 'Romin Irani',\n",
       " 'javinpaul',\n",
       " 'Gaurav Agrawal',\n",
       " 'Tyler Hartrich',\n",
       " 'Jirawatee',\n",
       " 'TensorFlow',\n",
       " 'Will Koehrsen',\n",
       " 'Nader Dabit',\n",
       " 'TRON Foundation',\n",
       " 'Web3 Foundation Team',\n",
       " 'E.Eggert(m2c4)',\n",
       " 'John Tucker',\n",
       " 'Prashant Lakhera',\n",
       " 'Aymen El Amri',\n",
       " 'Faisal Khan',\n",
       " 'Phil Sturgeon',\n",
       " 'CertiK Foundation',\n",
       " 'Priyanka Vergadia',\n",
       " 'George Seif',\n",
       " 'Trevor-Indrek Lasn',\n",
       " 'Daz Wilkin',\n",
       " 'PCMag',\n",
       " 'Todd Birchard',\n",
       " 'Anna Geller',\n",
       " 'Cobus Greyling',\n",
       " 'Julien Kervizic',\n",
       " 'Jesus Rodriguez',\n",
       " 'guillaume blaquiere',\n",
       " 'Bryan Finster']"
      ]
     },
     "execution_count": 23,
     "metadata": {},
     "output_type": "execute_result"
    }
   ],
   "source": [
    "# get top n authors with most posts\n",
    "n = 50\n",
    "top_50_authors = df['author_name'].value_counts()[:n].index.tolist()\n",
    "top_50_authors"
   ]
  },
  {
   "cell_type": "code",
   "execution_count": null,
   "metadata": {},
   "outputs": [],
   "source": []
  },
  {
   "cell_type": "code",
   "execution_count": 25,
   "metadata": {},
   "outputs": [
    {
     "data": {
      "text/plain": [
       "[197,\n",
       " 170,\n",
       " 166,\n",
       " 119,\n",
       " 117,\n",
       " 100,\n",
       " 96,\n",
       " 92,\n",
       " 89,\n",
       " 87,\n",
       " 77,\n",
       " 76,\n",
       " 74,\n",
       " 72,\n",
       " 71,\n",
       " 69,\n",
       " 68,\n",
       " 60,\n",
       " 58,\n",
       " 57,\n",
       " 56,\n",
       " 55,\n",
       " 53,\n",
       " 51,\n",
       " 44,\n",
       " 44,\n",
       " 44,\n",
       " 42,\n",
       " 41,\n",
       " 40,\n",
       " 36,\n",
       " 35,\n",
       " 35,\n",
       " 35,\n",
       " 34,\n",
       " 34,\n",
       " 33,\n",
       " 32,\n",
       " 32,\n",
       " 32,\n",
       " 32,\n",
       " 31,\n",
       " 31,\n",
       " 31,\n",
       " 31,\n",
       " 30,\n",
       " 30,\n",
       " 30,\n",
       " 30,\n",
       " 30]"
      ]
     },
     "execution_count": 25,
     "metadata": {},
     "output_type": "execute_result"
    }
   ],
   "source": [
    "# number of posts of top 50 authors\n",
    "num_of_posts = df['author_name'].value_counts().nlargest(n).tolist()\n",
    "num_of_posts"
   ]
  },
  {
   "cell_type": "code",
   "execution_count": null,
   "metadata": {},
   "outputs": [],
   "source": []
  },
  {
   "cell_type": "code",
   "execution_count": 36,
   "metadata": {},
   "outputs": [
    {
     "name": "stderr",
     "output_type": "stream",
     "text": [
      "The PostScript backend does not support transparency; partially transparent artists will be rendered opaque.\n"
     ]
    },
    {
     "name": "stdout",
     "output_type": "stream",
     "text": [
      "1 Alexis MP\n",
      "2 Netflix Technology Blog\n",
      "3 Ethan Siegel\n",
      "4 Nick Babich\n",
      "5 Muzli\n",
      "6 ConsenSys\n",
      "7 ExtremeTech\n",
      "8 Carlos E. Perez\n",
      "9 Bhargav Bachina\n",
      "10 Adobe Creative Cloud\n",
      "11 MIT Technology Review\n",
      "12 Altoros\n",
      "13 Caio Calado\n",
      "14 tubik\n",
      "15 Synced\n",
      "16 Ben Rogojan\n",
      "17 Fabricio Teixeira\n",
      "18 Etherparty Smart Contracts, Inc.\n",
      "19 Inkbot Design\n",
      "20 Barr Moses\n",
      "21 VYPER Growth Hacks Blog\n",
      "22 Romin Irani\n",
      "23 javinpaul\n",
      "24 Gaurav Agrawal\n",
      "25 Tyler Hartrich\n",
      "26 Jirawatee\n",
      "27 TensorFlow\n",
      "28 Will Koehrsen\n",
      "29 Nader Dabit\n",
      "30 TRON Foundation\n",
      "31 Web3 Foundation Team\n",
      "32 E.Eggert(m2c4)\n",
      "33 John Tucker\n",
      "34 Prashant Lakhera\n",
      "35 Aymen El Amri\n",
      "36 Faisal Khan\n",
      "37 Phil Sturgeon\n",
      "38 CertiK Foundation\n",
      "39 Priyanka Vergadia\n",
      "40 George Seif\n",
      "41 Trevor-Indrek Lasn\n",
      "42 Daz Wilkin\n",
      "43 PCMag\n",
      "44 Todd Birchard\n",
      "45 Anna Geller\n",
      "46 Cobus Greyling\n",
      "47 Julien Kervizic\n",
      "48 Jesus Rodriguez\n",
      "49 guillaume blaquiere\n",
      "50 Bryan Finster\n"
     ]
    },
    {
     "data": {
      "text/plain": [
       "<Figure size 864x432 with 0 Axes>"
      ]
     },
     "metadata": {},
     "output_type": "display_data"
    },
    {
     "data": {
      "image/png": "[encoded data removed]",
      "text/plain": [
       "<Figure size 1440x864 with 1 Axes>"
      ]
     },
     "metadata": {
      "needs_background": "light"
     },
     "output_type": "display_data"
    }
   ],
   "source": [
    "import matplotlib.pyplot as plt\n",
    "import seaborn as sns\n",
    "import pandas as pd\n",
    "import scipy.io\n",
    "\n",
    "from matplotlib.pyplot import figure\n",
    "import numpy as np\n",
    "font = {'family' : 'Times New Roman',\n",
    "        'weight' : 'bold',\n",
    "        'size'   : 18}\n",
    "\n",
    "plt.rc('font', **font)\n",
    "#plt.rcParams[\"font.family\"] = \"Times New Roman\"\n",
    "\n",
    "figure(num=None, figsize=(12, 6))\n",
    "\n",
    "\n",
    "for author in top_50_authors:\n",
    "    print(top_50_authors.index(author)+1, author)\n",
    "\n",
    "\n",
    "plt.figure(figsize=(20,12))\n",
    "sns.barplot(list(range(1,51)), num_of_posts, alpha=0.8)\n",
    "plt.ylabel('Number of Occurrences', fontsize=40)\n",
    "plt.xlabel('Author Name', fontsize=40)\n",
    "plt.savefig('../plots/posts_top_authors.eps', dpi=300)"
   ]
  },
  {
   "cell_type": "code",
   "execution_count": null,
   "metadata": {},
   "outputs": [],
   "source": []
  },
  {
   "cell_type": "code",
   "execution_count": null,
   "metadata": {},
   "outputs": [],
   "source": []
  },
  {
   "cell_type": "code",
   "execution_count": null,
   "metadata": {},
   "outputs": [],
   "source": []
  }
 ],
 "metadata": {
  "kernelspec": {
   "display_name": "Python 3 (ipykernel)",
   "language": "python",
   "name": "python3"
  },
  "language_info": {
   "codemirror_mode": {
    "name": "ipython",
    "version": 3
   },
   "file_extension": ".py",
   "mimetype": "text/x-python",
   "name": "python",
   "nbconvert_exporter": "python",
   "pygments_lexer": "ipython3",
   "version": "3.8.13"
  }
 },
 "nbformat": 4,
 "nbformat_minor": 2
}
