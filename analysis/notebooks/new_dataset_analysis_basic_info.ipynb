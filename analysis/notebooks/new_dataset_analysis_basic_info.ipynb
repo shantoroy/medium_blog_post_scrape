{
 "cells": [
  {
   "cell_type": "code",
   "execution_count": 2,
   "metadata": {},
   "outputs": [],
   "source": [
    "import json\n",
    "import pandas as pd"
   ]
  },
  {
   "cell_type": "code",
   "execution_count": 11,
   "metadata": {},
   "outputs": [],
   "source": [
    "import warnings\n",
    "warnings.filterwarnings(\"ignore\")\n",
    "%matplotlib inline"
   ]
  },
  {
   "cell_type": "code",
   "execution_count": 4,
   "metadata": {},
   "outputs": [],
   "source": [
    "df = pd.read_json(\"../data/related_data_rm_duplicacy.json\")"
   ]
  },
  {
   "cell_type": "code",
   "execution_count": 5,
   "metadata": {},
   "outputs": [
    {
     "data": {
      "text/plain": [
       "Index(['author_link', 'author_name', 'claps', 'content', 'last_modified_date',\n",
       "       'post_link', 'publish_date', 'readtime', 'responses', 'tags', 'title',\n",
       "       'voters'],\n",
       "      dtype='object')"
      ]
     },
     "execution_count": 5,
     "metadata": {},
     "output_type": "execute_result"
    }
   ],
   "source": [
    "df.columns"
   ]
  },
  {
   "cell_type": "code",
   "execution_count": 6,
   "metadata": {},
   "outputs": [
    {
     "data": {
      "text/plain": [
       "4398"
      ]
     },
     "execution_count": 6,
     "metadata": {},
     "output_type": "execute_result"
    }
   ],
   "source": [
    "len(df)"
   ]
  },
  {
   "cell_type": "code",
   "execution_count": 7,
   "metadata": {},
   "outputs": [
    {
     "data": {
      "text/plain": [
       "2354"
      ]
     },
     "execution_count": 7,
     "metadata": {},
     "output_type": "execute_result"
    }
   ],
   "source": [
    "len(set(df[\"author_name\"]))"
   ]
  },
  {
   "cell_type": "code",
   "execution_count": 30,
   "metadata": {},
   "outputs": [
    {
     "data": {
      "text/plain": [
       "['Gaurav Agrawal',\n",
       " 'CertiK Foundation',\n",
       " 'ConsenSys',\n",
       " 'Web3 Foundation Team',\n",
       " 'Etherparty Smart Contracts, Inc.',\n",
       " 'TRON Foundation',\n",
       " 'Zeppelin',\n",
       " 'Manuel Araoz',\n",
       " 'mingderwang',\n",
       " 'Dan Finlay',\n",
       " 'Daniel Wang',\n",
       " 'Artyom Orlov',\n",
       " 'Rob Hitchens',\n",
       " 'New Alchemy',\n",
       " '胡家維 Hu Kenneth',\n",
       " 'Nicole Zhu',\n",
       " 'The Ontology Team',\n",
       " 'Dock Team',\n",
       " 'Waves Platform',\n",
       " 'W12',\n",
       " 'Quantstamp Announcements',\n",
       " 'Bernhard Mueller',\n",
       " 'Lillian Jones',\n",
       " 'Jeremy Epstein',\n",
       " 'Merunas Grincalaitis',\n",
       " 'Inmediate.io',\n",
       " 'MaidSafe',\n",
       " 'Alexander Seleznev',\n",
       " 'æternity',\n",
       " 'Peter A. McKay',\n",
       " 'Vladimir Tikhomirov',\n",
       " 'BANKEX',\n",
       " 'Gustavo (Gus) Guimaraes',\n",
       " 'OpenLaw',\n",
       " 'Storj Labs',\n",
       " 'Radar Relay',\n",
       " 'Humanscape',\n",
       " 'Hideyoshi Moriya',\n",
       " 'Bobby Dresser',\n",
       " 'BlockChannel',\n",
       " 'ELIX',\n",
       " 'Stefan Beyer',\n",
       " 'dfkjl',\n",
       " 'Dexaran',\n",
       " 'Polkadot',\n",
       " 'Pablo Ruiz',\n",
       " 'FunnyToken',\n",
       " 'John Saddington',\n",
       " 'Steven McKie',\n",
       " 'Juan José Calderón Amador * ✘ ★']"
      ]
     },
     "execution_count": 30,
     "metadata": {},
     "output_type": "execute_result"
    }
   ],
   "source": [
    "# get top n authors with most posts\n",
    "n = 50\n",
    "top_50_authors = df['author_name'].value_counts()[:n].index.tolist()\n",
    "top_50_authors"
   ]
  },
  {
   "cell_type": "code",
   "execution_count": null,
   "metadata": {},
   "outputs": [],
   "source": []
  },
  {
   "cell_type": "code",
   "execution_count": 31,
   "metadata": {},
   "outputs": [
    {
     "data": {
      "text/plain": [
       "[48,\n",
       " 31,\n",
       " 29,\n",
       " 28,\n",
       " 26,\n",
       " 24,\n",
       " 24,\n",
       " 24,\n",
       " 23,\n",
       " 20,\n",
       " 18,\n",
       " 16,\n",
       " 16,\n",
       " 16,\n",
       " 15,\n",
       " 15,\n",
       " 15,\n",
       " 14,\n",
       " 14,\n",
       " 14,\n",
       " 14,\n",
       " 13,\n",
       " 12,\n",
       " 12,\n",
       " 12,\n",
       " 12,\n",
       " 11,\n",
       " 11,\n",
       " 11,\n",
       " 11,\n",
       " 10,\n",
       " 10,\n",
       " 10,\n",
       " 10,\n",
       " 10,\n",
       " 10,\n",
       " 10,\n",
       " 10,\n",
       " 10,\n",
       " 9,\n",
       " 9,\n",
       " 9,\n",
       " 9,\n",
       " 9,\n",
       " 9,\n",
       " 9,\n",
       " 9,\n",
       " 9,\n",
       " 9,\n",
       " 8]"
      ]
     },
     "execution_count": 31,
     "metadata": {},
     "output_type": "execute_result"
    }
   ],
   "source": [
    "# number of posts of top 50 authors\n",
    "num_of_posts = df['author_name'].value_counts().nlargest(n).tolist()\n",
    "num_of_posts"
   ]
  },
  {
   "cell_type": "code",
   "execution_count": null,
   "metadata": {},
   "outputs": [],
   "source": []
  },
  {
   "cell_type": "code",
   "execution_count": 35,
   "metadata": {},
   "outputs": [
    {
     "name": "stdout",
     "output_type": "stream",
     "text": [
      "1 Gaurav Agrawal\n",
      "2 CertiK Foundation\n",
      "3 ConsenSys\n",
      "4 Web3 Foundation Team\n",
      "5 Etherparty Smart Contracts, Inc.\n",
      "6 TRON Foundation\n",
      "7 Zeppelin\n",
      "8 Manuel Araoz\n",
      "9 mingderwang\n",
      "10 Dan Finlay\n",
      "11 Daniel Wang\n",
      "12 Artyom Orlov\n",
      "13 Rob Hitchens\n",
      "14 New Alchemy\n",
      "15 胡家維 Hu Kenneth\n",
      "16 Nicole Zhu\n",
      "17 The Ontology Team\n",
      "18 Dock Team\n",
      "19 Waves Platform\n",
      "20 W12\n",
      "21 Quantstamp Announcements\n",
      "22 Bernhard Mueller\n",
      "23 Lillian Jones\n",
      "24 Jeremy Epstein\n",
      "25 Merunas Grincalaitis\n",
      "26 Inmediate.io\n",
      "27 MaidSafe\n",
      "28 Alexander Seleznev\n",
      "29 æternity\n",
      "30 Peter A. McKay\n",
      "31 Vladimir Tikhomirov\n",
      "32 BANKEX\n",
      "33 Gustavo (Gus) Guimaraes\n",
      "34 OpenLaw\n",
      "35 Storj Labs\n",
      "36 Radar Relay\n",
      "37 Humanscape\n",
      "38 Hideyoshi Moriya\n",
      "39 Bobby Dresser\n",
      "40 BlockChannel\n",
      "41 ELIX\n",
      "42 Stefan Beyer\n",
      "43 dfkjl\n",
      "44 Dexaran\n",
      "45 Polkadot\n",
      "46 Pablo Ruiz\n",
      "47 FunnyToken\n",
      "48 John Saddington\n",
      "49 Steven McKie\n",
      "50 Juan José Calderón Amador * ✘ ★\n"
     ]
    },
    {
     "data": {
      "image/png": "[encoded data removed]",
      "text/plain": [
       "<Figure size 1440x864 with 1 Axes>"
      ]
     },
     "metadata": {
      "needs_background": "light"
     },
     "output_type": "display_data"
    }
   ],
   "source": [
    "import matplotlib.pyplot as plt\n",
    "import seaborn as sns\n",
    "import pandas as pd\n",
    "import scipy.io\n",
    "\n",
    "\n",
    "for author in top_50_authors:\n",
    "    print(top_50_authors.index(author)+1, author)\n",
    "\n",
    "\n",
    "plt.figure(figsize=(20,12))\n",
    "sns.barplot(list(range(1,51)), num_of_posts, alpha=0.8)\n",
    "plt.ylabel('Number of Occurrences', fontsize=12)\n",
    "plt.xlabel('Author Name', fontsize=12)\n",
    "plt.show()"
   ]
  },
  {
   "cell_type": "code",
   "execution_count": 43,
   "metadata": {},
   "outputs": [],
   "source": []
  },
  {
   "cell_type": "code",
   "execution_count": null,
   "metadata": {},
   "outputs": [],
   "source": []
  },
  {
   "cell_type": "code",
   "execution_count": null,
   "metadata": {},
   "outputs": [],
   "source": []
  }
 ],
 "metadata": {
  "kernelspec": {
   "display_name": "Python 3 (ipykernel)",
   "language": "python",
   "name": "python3"
  },
  "language_info": {
   "codemirror_mode": {
    "name": "ipython",
    "version": 3
   },
   "file_extension": ".py",
   "mimetype": "text/x-python",
   "name": "python",
   "nbconvert_exporter": "python",
   "pygments_lexer": "ipython3",
   "version": "3.8.13"
  }
 },
 "nbformat": 4,
 "nbformat_minor": 2
}
