{
 "cells": [
  {
   "cell_type": "code",
   "execution_count": 9,
   "metadata": {},
   "outputs": [],
   "source": [
    "import pandas as pd\n",
    "import json"
   ]
  },
  {
   "cell_type": "markdown",
   "metadata": {},
   "source": [
    "## Data Import"
   ]
  },
  {
   "cell_type": "code",
   "execution_count": 5,
   "metadata": {},
   "outputs": [],
   "source": [
    "new_blog_dataset = pd.read_json(\"../data/related_data_rm_duplicacy.json\")"
   ]
  },
  {
   "cell_type": "code",
   "execution_count": 6,
   "metadata": {},
   "outputs": [],
   "source": [
    "blog_corpus_dataset = pd.read_csv(\"../data/blogtext.csv\")"
   ]
  },
  {
   "cell_type": "markdown",
   "metadata": {},
   "source": [
    "## Comparison of Collected Features"
   ]
  },
  {
   "cell_type": "markdown",
   "metadata": {},
   "source": [
    "### columns"
   ]
  },
  {
   "cell_type": "code",
   "execution_count": 7,
   "metadata": {},
   "outputs": [
    {
     "data": {
      "text/plain": [
       "Index(['author_link', 'author_name', 'claps', 'content', 'last_modified_date',\n",
       "       'post_link', 'publish_date', 'readtime', 'responses', 'tags', 'title',\n",
       "       'voters'],\n",
       "      dtype='object')"
      ]
     },
     "execution_count": 7,
     "metadata": {},
     "output_type": "execute_result"
    }
   ],
   "source": [
    "new_blog_dataset.columns"
   ]
  },
  {
   "cell_type": "code",
   "execution_count": 8,
   "metadata": {},
   "outputs": [
    {
     "data": {
      "text/plain": [
       "Index(['id', 'gender', 'age', 'topic', 'sign', 'date', 'text'], dtype='object')"
      ]
     },
     "execution_count": 8,
     "metadata": {},
     "output_type": "execute_result"
    }
   ],
   "source": [
    "blog_corpus_dataset.columns"
   ]
  },
  {
   "cell_type": "markdown",
   "metadata": {},
   "source": [
    "### description"
   ]
  },
  {
   "cell_type": "code",
   "execution_count": 11,
   "metadata": {},
   "outputs": [
    {
     "data": {
      "text/plain": [
       "<bound method NDFrame.describe of                                       author_link                 author_name  \\\n",
       "0                   https://medium.com/@jimmysong                  Jimmy Song   \n",
       "1                   https://medium.com/@ConsenSys                   ConsenSys   \n",
       "2                      https://medium.com/@maraoz                Manuel Araoz   \n",
       "3                 https://medium.com/@sureforme21                Ralf Schmidt   \n",
       "4                   https://medium.com/@thijsmaas                  Thijs Maas   \n",
       "...                                           ...                         ...   \n",
       "4393  https://medium.com/@blockchaindevelopment18  Cryptocurrency Development   \n",
       "4394                     https://medium.com/@exxa             Exxa Foundation   \n",
       "4395   https://medium.com/@estebandelapenapadilla  Esteban de la Peña Padilla   \n",
       "4396              https://medium.com/@quillAudits              QuillHash Team   \n",
       "4397              https://medium.com/@falloutquiz                   MaxieMind   \n",
       "\n",
       "      claps                                            content  \\\n",
       "0     21054  The Truth about Smart ContractsJimmy SongFollo...   \n",
       "1      6612  A 101 Noob Intro to Programming Smart Contract...   \n",
       "2      6078  The Hitchhiker’s Guide to Smart Contracts in E...   \n",
       "3        50  Ralf SchmidtFollowOct 20, 2017 · 3 min readQua...   \n",
       "4      5645  Yes, this kid really just deleted $300 MILLION...   \n",
       "...     ...                                                ...   \n",
       "4393      0  Make a Selection between Utility and Security ...   \n",
       "4394      0  Blockchain Security Lab, Exxa Discovers Infini...   \n",
       "4395      0  BTA Security Token Summit, Bermuda.Esteban de ...   \n",
       "4396      0  PEXO SMART CONTRACTS AUDIT REPORTQuillHash Tea...   \n",
       "4397      0  Can smart contracts boost your business?MaxieM...   \n",
       "\n",
       "     last_modified_date                                          post_link  \\\n",
       "0            2018-06-21  https://medium.com/@jimmysong/the-truth-about-...   \n",
       "1            2019-09-10  https://medium.com/@ConsenSys/a-101-noob-intro...   \n",
       "2            2019-02-13  https://medium.com/zeppelin-blog/the-hitchhike...   \n",
       "3            2018-03-25  https://medium.com/@sureforme21/quantstamp-ska...   \n",
       "4            2018-06-12  https://medium.com/hackernoon/yes-this-kid-rea...   \n",
       "...                 ...                                                ...   \n",
       "4393         2018-08-25  https://medium.com/@blockchaindevelopment18/ma...   \n",
       "4394         2018-09-14  https://medium.com/@exxa/blockchain-security-l...   \n",
       "4395         2019-06-11  https://medium.com/decentralized-technologies/...   \n",
       "4396         2019-01-24  https://medium.com/quillhash/pexo-smart-contra...   \n",
       "4397         2019-03-20  https://medium.com/@falloutquiz/can-smart-cont...   \n",
       "\n",
       "     publish_date  readtime  responses  \\\n",
       "0      2018-06-11      8.87        152   \n",
       "1      2015-10-29     27.30         43   \n",
       "2      2016-07-29     12.30         79   \n",
       "3      2017-10-20      2.37          0   \n",
       "4      2017-11-08      5.21         23   \n",
       "...           ...       ...        ...   \n",
       "4393   2018-08-25      2.45          0   \n",
       "4394   2018-09-14      2.10          0   \n",
       "4395   2019-06-11      0.29          0   \n",
       "4396   2019-01-24      8.33          0   \n",
       "4397   2019-03-20      3.57          0   \n",
       "\n",
       "                                                   tags  \\\n",
       "0     [Blockchain, Smart Contracts, Bitcoin, Ethereu...   \n",
       "1                       [Bitcoin, Ethereum, Blockchain]   \n",
       "2     [Smart Contracts, Ethereum, Blockchain, Open S...   \n",
       "3     [Smart Contracts, ICO, German, Security, Block...   \n",
       "4     [Blockchain, Ethereum, Technews, Cryptocurrenc...   \n",
       "...                                                 ...   \n",
       "4393  [Blockchain, ICO, Cryptocurrency Exchange, Bit...   \n",
       "4394  [Blockchain, Security, Smart Contracts, Ethere...   \n",
       "4395  [Blockchain, Sto, Bermuda, Smart Contracts, Fi...   \n",
       "4396       [Ethereum, Smart Contracts, Security Audits]   \n",
       "4397  [Blockchain, Smart Contracts, Cryptocurrency, ...   \n",
       "\n",
       "                                                  title  voters  \n",
       "0                       The Truth about Smart Contracts    2457  \n",
       "1     A 101 Noob Intro to Programming Smart Contract...    1446  \n",
       "2     The Hitchhiker’s Guide to Smart Contracts in E...    1122  \n",
       "3                                                             1  \n",
       "4     Yes, this kid really just deleted $300 MILLION...     846  \n",
       "...                                                 ...     ...  \n",
       "4393  Make a Selection between Utility and Security ...       0  \n",
       "4394  Blockchain Security Lab, Exxa Discovers Infini...       0  \n",
       "4395                BTA Security Token Summit, Bermuda.       0  \n",
       "4396                  PEXO SMART CONTRACTS AUDIT REPORT       0  \n",
       "4397           Can smart contracts boost your business?       0  \n",
       "\n",
       "[4398 rows x 12 columns]>"
      ]
     },
     "execution_count": 11,
     "metadata": {},
     "output_type": "execute_result"
    }
   ],
   "source": [
    "new_blog_dataset.describe"
   ]
  },
  {
   "cell_type": "code",
   "execution_count": 12,
   "metadata": {},
   "outputs": [
    {
     "data": {
      "text/plain": [
       "<bound method NDFrame.describe of              id gender  age              topic      sign          date  \\\n",
       "0       2059027   male   15            Student       Leo   14,May,2004   \n",
       "1       2059027   male   15            Student       Leo   13,May,2004   \n",
       "2       2059027   male   15            Student       Leo   12,May,2004   \n",
       "3       2059027   male   15            Student       Leo   12,May,2004   \n",
       "4       3581210   male   33  InvestmentBanking  Aquarius  11,June,2004   \n",
       "...         ...    ...  ...                ...       ...           ...   \n",
       "681279  1713845   male   23            Student    Taurus  01,July,2004   \n",
       "681280  1713845   male   23            Student    Taurus  01,July,2004   \n",
       "681281  1713845   male   23            Student    Taurus  01,July,2004   \n",
       "681282  1713845   male   23            Student    Taurus  01,July,2004   \n",
       "681283  1713845   male   23            Student    Taurus  01,July,2004   \n",
       "\n",
       "                                                     text  \n",
       "0                  Info has been found (+/- 100 pages,...  \n",
       "1                  These are the team members:   Drewe...  \n",
       "2                  In het kader van kernfusie op aarde...  \n",
       "3                        testing!!!  testing!!!            \n",
       "4                    Thanks to Yahoo!'s Toolbar I can ...  \n",
       "...                                                   ...  \n",
       "681279         Dear Susan,  I could write some really ...  \n",
       "681280         Dear Susan,  'I have the second yeast i...  \n",
       "681281         Dear Susan,  Your 'boyfriend' is fuckin...  \n",
       "681282         Dear Susan:    Just to clarify, I am as...  \n",
       "681283         Hey everybody...and Susan,  You might a...  \n",
       "\n",
       "[681284 rows x 7 columns]>"
      ]
     },
     "execution_count": 12,
     "metadata": {},
     "output_type": "execute_result"
    }
   ],
   "source": [
    "blog_corpus_dataset.describe"
   ]
  },
  {
   "cell_type": "markdown",
   "metadata": {},
   "source": [
    "### initial view"
   ]
  },
  {
   "cell_type": "code",
   "execution_count": 13,
   "metadata": {},
   "outputs": [
    {
     "data": {
      "text/html": [
       "<div>\n",
       "<style scoped>\n",
       "    .dataframe tbody tr th:only-of-type {\n",
       "        vertical-align: middle;\n",
       "    }\n",
       "\n",
       "    .dataframe tbody tr th {\n",
       "        vertical-align: top;\n",
       "    }\n",
       "\n",
       "    .dataframe thead th {\n",
       "        text-align: right;\n",
       "    }\n",
       "</style>\n",
       "<table border=\"1\" class=\"dataframe\">\n",
       "  <thead>\n",
       "    <tr style=\"text-align: right;\">\n",
       "      <th></th>\n",
       "      <th>author_link</th>\n",
       "      <th>author_name</th>\n",
       "      <th>claps</th>\n",
       "      <th>content</th>\n",
       "      <th>last_modified_date</th>\n",
       "      <th>post_link</th>\n",
       "      <th>publish_date</th>\n",
       "      <th>readtime</th>\n",
       "      <th>responses</th>\n",
       "      <th>tags</th>\n",
       "      <th>title</th>\n",
       "      <th>voters</th>\n",
       "    </tr>\n",
       "  </thead>\n",
       "  <tbody>\n",
       "    <tr>\n",
       "      <th>0</th>\n",
       "      <td>https://medium.com/@jimmysong</td>\n",
       "      <td>Jimmy Song</td>\n",
       "      <td>21054</td>\n",
       "      <td>The Truth about Smart ContractsJimmy SongFollo...</td>\n",
       "      <td>2018-06-21</td>\n",
       "      <td>https://medium.com/@jimmysong/the-truth-about-...</td>\n",
       "      <td>2018-06-11</td>\n",
       "      <td>8.87</td>\n",
       "      <td>152</td>\n",
       "      <td>[Blockchain, Smart Contracts, Bitcoin, Ethereu...</td>\n",
       "      <td>The Truth about Smart Contracts</td>\n",
       "      <td>2457</td>\n",
       "    </tr>\n",
       "    <tr>\n",
       "      <th>1</th>\n",
       "      <td>https://medium.com/@ConsenSys</td>\n",
       "      <td>ConsenSys</td>\n",
       "      <td>6612</td>\n",
       "      <td>A 101 Noob Intro to Programming Smart Contract...</td>\n",
       "      <td>2019-09-10</td>\n",
       "      <td>https://medium.com/@ConsenSys/a-101-noob-intro...</td>\n",
       "      <td>2015-10-29</td>\n",
       "      <td>27.30</td>\n",
       "      <td>43</td>\n",
       "      <td>[Bitcoin, Ethereum, Blockchain]</td>\n",
       "      <td>A 101 Noob Intro to Programming Smart Contract...</td>\n",
       "      <td>1446</td>\n",
       "    </tr>\n",
       "    <tr>\n",
       "      <th>2</th>\n",
       "      <td>https://medium.com/@maraoz</td>\n",
       "      <td>Manuel Araoz</td>\n",
       "      <td>6078</td>\n",
       "      <td>The Hitchhiker’s Guide to Smart Contracts in E...</td>\n",
       "      <td>2019-02-13</td>\n",
       "      <td>https://medium.com/zeppelin-blog/the-hitchhike...</td>\n",
       "      <td>2016-07-29</td>\n",
       "      <td>12.30</td>\n",
       "      <td>79</td>\n",
       "      <td>[Smart Contracts, Ethereum, Blockchain, Open S...</td>\n",
       "      <td>The Hitchhiker’s Guide to Smart Contracts in E...</td>\n",
       "      <td>1122</td>\n",
       "    </tr>\n",
       "    <tr>\n",
       "      <th>3</th>\n",
       "      <td>https://medium.com/@sureforme21</td>\n",
       "      <td>Ralf Schmidt</td>\n",
       "      <td>50</td>\n",
       "      <td>Ralf SchmidtFollowOct 20, 2017 · 3 min readQua...</td>\n",
       "      <td>2018-03-25</td>\n",
       "      <td>https://medium.com/@sureforme21/quantstamp-ska...</td>\n",
       "      <td>2017-10-20</td>\n",
       "      <td>2.37</td>\n",
       "      <td>0</td>\n",
       "      <td>[Smart Contracts, ICO, German, Security, Block...</td>\n",
       "      <td></td>\n",
       "      <td>1</td>\n",
       "    </tr>\n",
       "    <tr>\n",
       "      <th>4</th>\n",
       "      <td>https://medium.com/@thijsmaas</td>\n",
       "      <td>Thijs Maas</td>\n",
       "      <td>5645</td>\n",
       "      <td>Yes, this kid really just deleted $300 MILLION...</td>\n",
       "      <td>2018-06-12</td>\n",
       "      <td>https://medium.com/hackernoon/yes-this-kid-rea...</td>\n",
       "      <td>2017-11-08</td>\n",
       "      <td>5.21</td>\n",
       "      <td>23</td>\n",
       "      <td>[Blockchain, Ethereum, Technews, Cryptocurrenc...</td>\n",
       "      <td>Yes, this kid really just deleted $300 MILLION...</td>\n",
       "      <td>846</td>\n",
       "    </tr>\n",
       "  </tbody>\n",
       "</table>\n",
       "</div>"
      ],
      "text/plain": [
       "                       author_link   author_name  claps  \\\n",
       "0    https://medium.com/@jimmysong    Jimmy Song  21054   \n",
       "1    https://medium.com/@ConsenSys     ConsenSys   6612   \n",
       "2       https://medium.com/@maraoz  Manuel Araoz   6078   \n",
       "3  https://medium.com/@sureforme21  Ralf Schmidt     50   \n",
       "4    https://medium.com/@thijsmaas    Thijs Maas   5645   \n",
       "\n",
       "                                             content last_modified_date  \\\n",
       "0  The Truth about Smart ContractsJimmy SongFollo...         2018-06-21   \n",
       "1  A 101 Noob Intro to Programming Smart Contract...         2019-09-10   \n",
       "2  The Hitchhiker’s Guide to Smart Contracts in E...         2019-02-13   \n",
       "3  Ralf SchmidtFollowOct 20, 2017 · 3 min readQua...         2018-03-25   \n",
       "4  Yes, this kid really just deleted $300 MILLION...         2018-06-12   \n",
       "\n",
       "                                           post_link publish_date  readtime  \\\n",
       "0  https://medium.com/@jimmysong/the-truth-about-...   2018-06-11      8.87   \n",
       "1  https://medium.com/@ConsenSys/a-101-noob-intro...   2015-10-29     27.30   \n",
       "2  https://medium.com/zeppelin-blog/the-hitchhike...   2016-07-29     12.30   \n",
       "3  https://medium.com/@sureforme21/quantstamp-ska...   2017-10-20      2.37   \n",
       "4  https://medium.com/hackernoon/yes-this-kid-rea...   2017-11-08      5.21   \n",
       "\n",
       "   responses                                               tags  \\\n",
       "0        152  [Blockchain, Smart Contracts, Bitcoin, Ethereu...   \n",
       "1         43                    [Bitcoin, Ethereum, Blockchain]   \n",
       "2         79  [Smart Contracts, Ethereum, Blockchain, Open S...   \n",
       "3          0  [Smart Contracts, ICO, German, Security, Block...   \n",
       "4         23  [Blockchain, Ethereum, Technews, Cryptocurrenc...   \n",
       "\n",
       "                                               title  voters  \n",
       "0                    The Truth about Smart Contracts    2457  \n",
       "1  A 101 Noob Intro to Programming Smart Contract...    1446  \n",
       "2  The Hitchhiker’s Guide to Smart Contracts in E...    1122  \n",
       "3                                                          1  \n",
       "4  Yes, this kid really just deleted $300 MILLION...     846  "
      ]
     },
     "execution_count": 13,
     "metadata": {},
     "output_type": "execute_result"
    }
   ],
   "source": [
    "new_blog_dataset.head()"
   ]
  },
  {
   "cell_type": "code",
   "execution_count": 14,
   "metadata": {},
   "outputs": [
    {
     "data": {
      "text/html": [
       "<div>\n",
       "<style scoped>\n",
       "    .dataframe tbody tr th:only-of-type {\n",
       "        vertical-align: middle;\n",
       "    }\n",
       "\n",
       "    .dataframe tbody tr th {\n",
       "        vertical-align: top;\n",
       "    }\n",
       "\n",
       "    .dataframe thead th {\n",
       "        text-align: right;\n",
       "    }\n",
       "</style>\n",
       "<table border=\"1\" class=\"dataframe\">\n",
       "  <thead>\n",
       "    <tr style=\"text-align: right;\">\n",
       "      <th></th>\n",
       "      <th>id</th>\n",
       "      <th>gender</th>\n",
       "      <th>age</th>\n",
       "      <th>topic</th>\n",
       "      <th>sign</th>\n",
       "      <th>date</th>\n",
       "      <th>text</th>\n",
       "    </tr>\n",
       "  </thead>\n",
       "  <tbody>\n",
       "    <tr>\n",
       "      <th>0</th>\n",
       "      <td>2059027</td>\n",
       "      <td>male</td>\n",
       "      <td>15</td>\n",
       "      <td>Student</td>\n",
       "      <td>Leo</td>\n",
       "      <td>14,May,2004</td>\n",
       "      <td>Info has been found (+/- 100 pages,...</td>\n",
       "    </tr>\n",
       "    <tr>\n",
       "      <th>1</th>\n",
       "      <td>2059027</td>\n",
       "      <td>male</td>\n",
       "      <td>15</td>\n",
       "      <td>Student</td>\n",
       "      <td>Leo</td>\n",
       "      <td>13,May,2004</td>\n",
       "      <td>These are the team members:   Drewe...</td>\n",
       "    </tr>\n",
       "    <tr>\n",
       "      <th>2</th>\n",
       "      <td>2059027</td>\n",
       "      <td>male</td>\n",
       "      <td>15</td>\n",
       "      <td>Student</td>\n",
       "      <td>Leo</td>\n",
       "      <td>12,May,2004</td>\n",
       "      <td>In het kader van kernfusie op aarde...</td>\n",
       "    </tr>\n",
       "    <tr>\n",
       "      <th>3</th>\n",
       "      <td>2059027</td>\n",
       "      <td>male</td>\n",
       "      <td>15</td>\n",
       "      <td>Student</td>\n",
       "      <td>Leo</td>\n",
       "      <td>12,May,2004</td>\n",
       "      <td>testing!!!  testing!!!</td>\n",
       "    </tr>\n",
       "    <tr>\n",
       "      <th>4</th>\n",
       "      <td>3581210</td>\n",
       "      <td>male</td>\n",
       "      <td>33</td>\n",
       "      <td>InvestmentBanking</td>\n",
       "      <td>Aquarius</td>\n",
       "      <td>11,June,2004</td>\n",
       "      <td>Thanks to Yahoo!'s Toolbar I can ...</td>\n",
       "    </tr>\n",
       "  </tbody>\n",
       "</table>\n",
       "</div>"
      ],
      "text/plain": [
       "        id gender  age              topic      sign          date  \\\n",
       "0  2059027   male   15            Student       Leo   14,May,2004   \n",
       "1  2059027   male   15            Student       Leo   13,May,2004   \n",
       "2  2059027   male   15            Student       Leo   12,May,2004   \n",
       "3  2059027   male   15            Student       Leo   12,May,2004   \n",
       "4  3581210   male   33  InvestmentBanking  Aquarius  11,June,2004   \n",
       "\n",
       "                                                text  \n",
       "0             Info has been found (+/- 100 pages,...  \n",
       "1             These are the team members:   Drewe...  \n",
       "2             In het kader van kernfusie op aarde...  \n",
       "3                   testing!!!  testing!!!            \n",
       "4               Thanks to Yahoo!'s Toolbar I can ...  "
      ]
     },
     "execution_count": 14,
     "metadata": {},
     "output_type": "execute_result"
    }
   ],
   "source": [
    "blog_corpus_dataset.head()"
   ]
  },
  {
   "cell_type": "code",
   "execution_count": null,
   "metadata": {},
   "outputs": [],
   "source": []
  }
 ],
 "metadata": {
  "kernelspec": {
   "display_name": "Python 3",
   "language": "python",
   "name": "python3"
  },
  "language_info": {
   "codemirror_mode": {
    "name": "ipython",
    "version": 3
   },
   "file_extension": ".py",
   "mimetype": "text/x-python",
   "name": "python",
   "nbconvert_exporter": "python",
   "pygments_lexer": "ipython3",
   "version": "3.6.9"
  }
 },
 "nbformat": 4,
 "nbformat_minor": 2
}
