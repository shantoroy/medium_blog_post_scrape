{
 "cells": [
  {
   "cell_type": "code",
   "execution_count": 2,
   "metadata": {},
   "outputs": [],
   "source": [
    "import json\n",
    "import pandas as pd"
   ]
  },
  {
   "cell_type": "code",
   "execution_count": 3,
   "metadata": {},
   "outputs": [],
   "source": [
    "df = pd.read_json(\"medium_post_and_author_analysis_conf/related_data_rm_duplicacy_final_conf.json\")"
   ]
  },
  {
   "cell_type": "code",
   "execution_count": 6,
   "metadata": {},
   "outputs": [
    {
     "data": {
      "text/plain": [
       "Index(['author_link', 'author_name', 'claps', 'content', 'last_modified_date',\n",
       "       'post_link', 'publish_date', 'readtime', 'responses', 'tags', 'title',\n",
       "       'voters'],\n",
       "      dtype='object')"
      ]
     },
     "execution_count": 6,
     "metadata": {},
     "output_type": "execute_result"
    }
   ],
   "source": [
    "df.columns"
   ]
  },
  {
   "cell_type": "code",
   "execution_count": 7,
   "metadata": {},
   "outputs": [
    {
     "data": {
      "text/plain": [
       "4045"
      ]
     },
     "execution_count": 7,
     "metadata": {},
     "output_type": "execute_result"
    }
   ],
   "source": [
    "len(df)"
   ]
  },
  {
   "cell_type": "code",
   "execution_count": 8,
   "metadata": {},
   "outputs": [
    {
     "data": {
      "text/plain": [
       "2108"
      ]
     },
     "execution_count": 8,
     "metadata": {},
     "output_type": "execute_result"
    }
   ],
   "source": [
    "len(set(df[\"author_name\"]))"
   ]
  },
  {
   "cell_type": "code",
   "execution_count": 12,
   "metadata": {},
   "outputs": [
    {
     "data": {
      "text/plain": [
       "['Gaurav Agrawal',\n",
       " 'CertiK Foundation',\n",
       " 'Web3 Foundation Team',\n",
       " 'Etherparty Smart Contracts, Inc.',\n",
       " 'ConsenSys',\n",
       " 'TRON Foundation',\n",
       " 'Zeppelin',\n",
       " 'Manuel Araoz',\n",
       " 'mingderwang',\n",
       " 'Dan Finlay',\n",
       " 'Daniel Wang',\n",
       " 'Artyom Orlov',\n",
       " 'New Alchemy',\n",
       " 'Rob Hitchens',\n",
       " 'The Ontology Team',\n",
       " 'Nicole Zhu',\n",
       " 'Quantstamp Announcements',\n",
       " 'Waves Platform',\n",
       " 'W12',\n",
       " 'Dock Team']"
      ]
     },
     "execution_count": 12,
     "metadata": {},
     "output_type": "execute_result"
    }
   ],
   "source": [
    "# get top 10 most frequent names\n",
    "n = 20\n",
    "df['author_name'].value_counts()[:n].index.tolist()"
   ]
  },
  {
   "cell_type": "code",
   "execution_count": null,
   "metadata": {},
   "outputs": [],
   "source": []
  },
  {
   "cell_type": "code",
   "execution_count": 14,
   "metadata": {},
   "outputs": [
    {
     "data": {
      "text/plain": [
       "Gaurav Agrawal                      48\n",
       "CertiK Foundation                   31\n",
       "Web3 Foundation Team                28\n",
       "Etherparty Smart Contracts, Inc.    26\n",
       "ConsenSys                           25\n",
       "TRON Foundation                     24\n",
       "Zeppelin                            24\n",
       "Manuel Araoz                        24\n",
       "mingderwang                         23\n",
       "Dan Finlay                          20\n",
       "Daniel Wang                         18\n",
       "Artyom Orlov                        16\n",
       "New Alchemy                         16\n",
       "Rob Hitchens                        16\n",
       "The Ontology Team                   15\n",
       "Nicole Zhu                          15\n",
       "Quantstamp Announcements            14\n",
       "Waves Platform                      14\n",
       "W12                                 14\n",
       "Dock Team                           14\n",
       "Name: author_name, dtype: int64"
      ]
     },
     "execution_count": 14,
     "metadata": {},
     "output_type": "execute_result"
    }
   ],
   "source": [
    "df['author_name'].value_counts().nlargest(n)"
   ]
  },
  {
   "cell_type": "code",
   "execution_count": null,
   "metadata": {},
   "outputs": [],
   "source": []
  }
 ],
 "metadata": {
  "kernelspec": {
   "display_name": "Python 3",
   "language": "python",
   "name": "python3"
  },
  "language_info": {
   "codemirror_mode": {
    "name": "ipython",
    "version": 3
   },
   "file_extension": ".py",
   "mimetype": "text/x-python",
   "name": "python",
   "nbconvert_exporter": "python",
   "pygments_lexer": "ipython3",
   "version": "3.6.9"
  }
 },
 "nbformat": 4,
 "nbformat_minor": 2
}
